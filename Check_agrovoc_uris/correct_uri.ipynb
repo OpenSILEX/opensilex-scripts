{
 "cells": [
  {
   "cell_type": "markdown",
   "metadata": {},
   "source": [
    "# Check for germplasm mistakes\n",
    "Gabriel Besombes   \n",
    "23/05/2022     \n",
    "# <br>    "
   ]
  },
  {
   "cell_type": "markdown",
   "metadata": {},
   "source": [
    "## Context\n",
    "----"
   ]
  },
  {
   "cell_type": "markdown",
   "metadata": {},
   "source": [
    "Sometimes the wrong concepts from agrovoc are used to create germplasms in opensilex. The most common mistacke is to use a produce instead of the species that produces it. For example using \"wheat\" (the grain) instead of \"Triticum\" (the species).   \n",
    "This notebook aims at exploring these mistakes automatically and exporting a list of potential mistakes as a csv file.   \n",
    "This is perfectly safe as it __does not modify anything on opensilex.__    \n",
    "A service exists in opensilex to properly change the URIs but this __should only be attempted if you are sure of what you are doing!__"
   ]
  },
  {
   "cell_type": "markdown",
   "metadata": {},
   "source": [
    "---\n",
    "# <br>"
   ]
  },
  {
   "cell_type": "markdown",
   "metadata": {},
   "source": [
    "## Imports\n",
    "--- \n",
    "These dependencies are needed :\n",
    "* `pandas` is used to manipulate the data.    \n",
    "* `SPARQLWrapper` is used to interract with a sparql endpoint.    "
   ]
  },
  {
   "cell_type": "code",
   "execution_count": 1,
   "metadata": {},
   "outputs": [],
   "source": [
    "import pandas as pd\n",
    "from SPARQLWrapper import SPARQLWrapper, JSON"
   ]
  },
  {
   "cell_type": "markdown",
   "metadata": {},
   "source": [
    "---    \n",
    "# <br>    "
   ]
  },
  {
   "cell_type": "markdown",
   "metadata": {},
   "source": [
    "## Check for general mistakes with agrovoc germplasms\n",
    "---"
   ]
  },
  {
   "cell_type": "markdown",
   "metadata": {},
   "source": [
    "Get the germplasms from opensilex that have agrovoc URIs"
   ]
  },
  {
   "cell_type": "code",
   "execution_count": 2,
   "metadata": {},
   "outputs": [],
   "source": [
    "sparql = SPARQLWrapper(\n",
    "    \"http://127.0.0.1:8080/rdf4j-server/repositories/diaphen\"\n",
    ")\n",
    "sparql.setReturnFormat(JSON)"
   ]
  },
  {
   "cell_type": "code",
   "execution_count": 3,
   "metadata": {},
   "outputs": [],
   "source": [
    "query = \"\"\"\n",
    "PREFIX rdf: <http://www.w3.org/1999/02/22-rdf-syntax-ns#>\n",
    "PREFIX  vocabulary: <http://www.opensilex.org/vocabulary/oeso#>\n",
    "SELECT ?s\n",
    "WHERE {\n",
    "    ?s rdf:type ?type .\n",
    "    ?type (rdfs:subClassOf)* vocabulary:Germplasm .\n",
    "    FILTER regex(str(?s), \"http://aims.fao.org/aos/agrovoc\", \"i\")\n",
    "}\n",
    "LIMIT 1000\n",
    "\"\"\""
   ]
  },
  {
   "cell_type": "code",
   "execution_count": 4,
   "metadata": {},
   "outputs": [
    {
     "data": {
      "text/plain": [
       "['http://aims.fao.org/aos/agrovoc/c_12332',\n",
       " 'http://aims.fao.org/aos/agrovoc/c_15476',\n",
       " 'http://aims.fao.org/aos/agrovoc/c_3662',\n",
       " 'http://aims.fao.org/aos/agrovoc/c_14386',\n",
       " 'http://aims.fao.org/aos/agrovoc/c_6116',\n",
       " 'http://aims.fao.org/aos/agrovoc/c_1066',\n",
       " 'http://aims.fao.org/aos/agrovoc/c_13199',\n",
       " 'http://aims.fao.org/aos/agrovoc/c_7247',\n",
       " 'http://aims.fao.org/aos/agrovoc/c_8283',\n",
       " 'http://aims.fao.org/aos/agrovoc/c_3339',\n",
       " 'http://aims.fao.org/aos/agrovoc/c_5438',\n",
       " 'http://aims.fao.org/aos/agrovoc/c_4555',\n",
       " 'http://aims.fao.org/aos/agrovoc/c_29128',\n",
       " 'http://aims.fao.org/aos/agrovoc/c_11456',\n",
       " 'http://aims.fao.org/aos/agrovoc/c_7499',\n",
       " 'http://aims.fao.org/aos/agrovoc/c_3558',\n",
       " 'http://aims.fao.org/aos/agrovoc/c_14477',\n",
       " 'http://aims.fao.org/aos/agrovoc/c_5339',\n",
       " 'http://aims.fao.org/aos/agrovoc/c_3539',\n",
       " 'http://aims.fao.org/aos/agrovoc/c_4464',\n",
       " 'http://aims.fao.org/aos/agrovoc/c_5933',\n",
       " 'http://aims.fao.org/aos/agrovoc/c_8220',\n",
       " 'http://aims.fao.org/aos/agrovoc/c_6455',\n",
       " 'http://aims.fao.org/aos/agrovoc/c_1061',\n",
       " 'http://aims.fao.org/aos/agrovoc/c_8217',\n",
       " 'http://aims.fao.org/aos/agrovoc/c_8222',\n",
       " 'http://aims.fao.org/aos/agrovoc/c_1612',\n",
       " 'http://aims.fao.org/aos/agrovoc/c_33914',\n",
       " 'http://aims.fao.org/aos/agrovoc/c_33798',\n",
       " 'http://aims.fao.org/aos/agrovoc/c_8223',\n",
       " 'http://aims.fao.org/aos/agrovoc/c_6919',\n",
       " 'http://aims.fao.org/aos/agrovoc/c_1340',\n",
       " 'http://aims.fao.org/aos/agrovoc/c_57bee3aa',\n",
       " 'http://aims.fao.org/aos/agrovoc/c_4261',\n",
       " 'http://aims.fao.org/aos/agrovoc/c_7910',\n",
       " 'http://aims.fao.org/aos/agrovoc/c_15797',\n",
       " 'http://aims.fao.org/aos/agrovoc/c_4f1a945d',\n",
       " 'http://aims.fao.org/aos/agrovoc/c_6625',\n",
       " 'http://aims.fao.org/aos/agrovoc/c_731',\n",
       " 'http://aims.fao.org/aos/agrovoc/c_4693',\n",
       " 'http://aims.fao.org/aos/agrovoc/c_2101',\n",
       " 'http://aims.fao.org/aos/agrovoc/c_2869']"
      ]
     },
     "execution_count": 4,
     "metadata": {},
     "output_type": "execute_result"
    }
   ],
   "source": [
    "sparql.setQuery(query)\n",
    "ret = sparql.queryAndConvert()\n",
    "agrovoc_germplasms = [row[\"s\"][\"value\"] for row in ret[\"results\"][\"bindings\"]]\n",
    "agrovoc_germplasms"
   ]
  },
  {
   "cell_type": "markdown",
   "metadata": {},
   "source": [
    "Check if these germplasms are part of the `organisms` concept in agrovoc. The ones that aren't are probably mistakes."
   ]
  },
  {
   "cell_type": "code",
   "execution_count": 5,
   "metadata": {},
   "outputs": [],
   "source": [
    "sparql = SPARQLWrapper(\n",
    "    \"https://agrovoc.fao.org/sparql\"\n",
    ")\n",
    "sparql.setReturnFormat(JSON)"
   ]
  },
  {
   "cell_type": "code",
   "execution_count": 6,
   "metadata": {},
   "outputs": [],
   "source": [
    "query = \"\"\"\n",
    "PREFIX rdf: <http://www.w3.org/1999/02/22-rdf-syntax-ns#>\n",
    "\n",
    "SELECT ?uri\n",
    "WHERE {\n",
    "    FILTER NOT EXISTS{\n",
    "        <http://aims.fao.org/aos/agrovoc/c_49904>  <http://www.w3.org/2004/02/skos/core#narrower>* ?uri .\n",
    "    }\n",
    "    \n",
    "    VALUES ?uri {%s}\n",
    "}\n",
    "LIMIT 1000\n",
    "\"\"\"%(\"<\" + \"> <\".join(agrovoc_germplasms) + \">\")"
   ]
  },
  {
   "cell_type": "code",
   "execution_count": 7,
   "metadata": {},
   "outputs": [
    {
     "data": {
      "text/plain": [
       "['http://aims.fao.org/aos/agrovoc/c_12332',\n",
       " 'http://aims.fao.org/aos/agrovoc/c_14386',\n",
       " 'http://aims.fao.org/aos/agrovoc/c_11456',\n",
       " 'http://aims.fao.org/aos/agrovoc/c_7499',\n",
       " 'http://aims.fao.org/aos/agrovoc/c_3558',\n",
       " 'http://aims.fao.org/aos/agrovoc/c_14477']"
      ]
     },
     "execution_count": 7,
     "metadata": {},
     "output_type": "execute_result"
    }
   ],
   "source": [
    "sparql.setQuery(query)\n",
    "ret = sparql.queryAndConvert()\n",
    "agrovoc_wrong_germplasms = [row[\"uri\"][\"value\"] for row in ret[\"results\"][\"bindings\"]]\n",
    "agrovoc_wrong_germplasms"
   ]
  },
  {
   "cell_type": "code",
   "execution_count": 8,
   "metadata": {},
   "outputs": [],
   "source": [
    "query = \"\"\"\n",
    "PREFIX rdf: <http://www.w3.org/1999/02/22-rdf-syntax-ns#>\n",
    "\n",
    "SELECT ?uri ?label\n",
    "WHERE {\n",
    "    ?uri <http://www.w3.org/2004/02/skos/core#prefLabel> ?label .\n",
    "    FILTER (lang(?label) = \"en\")\n",
    "    \n",
    "    VALUES ?uri {%s}\n",
    "}\n",
    "LIMIT 1000\n",
    "\"\"\"%(\"<\" + \"> <\".join(agrovoc_wrong_germplasms) + \">\")"
   ]
  },
  {
   "cell_type": "code",
   "execution_count": 9,
   "metadata": {},
   "outputs": [
    {
     "data": {
      "text/html": [
       "<div>\n",
       "<style scoped>\n",
       "    .dataframe tbody tr th:only-of-type {\n",
       "        vertical-align: middle;\n",
       "    }\n",
       "\n",
       "    .dataframe tbody tr th {\n",
       "        vertical-align: top;\n",
       "    }\n",
       "\n",
       "    .dataframe thead th {\n",
       "        text-align: right;\n",
       "    }\n",
       "</style>\n",
       "<table border=\"1\" class=\"dataframe\">\n",
       "  <thead>\n",
       "    <tr style=\"text-align: right;\">\n",
       "      <th></th>\n",
       "      <th>uri</th>\n",
       "      <th>en_label</th>\n",
       "    </tr>\n",
       "  </thead>\n",
       "  <tbody>\n",
       "    <tr>\n",
       "      <th>0</th>\n",
       "      <td>http://aims.fao.org/aos/agrovoc/c_12332</td>\n",
       "      <td>maize</td>\n",
       "    </tr>\n",
       "    <tr>\n",
       "      <th>1</th>\n",
       "      <td>http://aims.fao.org/aos/agrovoc/c_14386</td>\n",
       "      <td>soft wheat</td>\n",
       "    </tr>\n",
       "    <tr>\n",
       "      <th>2</th>\n",
       "      <td>http://aims.fao.org/aos/agrovoc/c_11456</td>\n",
       "      <td>hard wheat</td>\n",
       "    </tr>\n",
       "    <tr>\n",
       "      <th>3</th>\n",
       "      <td>http://aims.fao.org/aos/agrovoc/c_7499</td>\n",
       "      <td>sugar beet</td>\n",
       "    </tr>\n",
       "    <tr>\n",
       "      <th>4</th>\n",
       "      <td>http://aims.fao.org/aos/agrovoc/c_3558</td>\n",
       "      <td>hemp</td>\n",
       "    </tr>\n",
       "    <tr>\n",
       "      <th>5</th>\n",
       "      <td>http://aims.fao.org/aos/agrovoc/c_14477</td>\n",
       "      <td>soybeans</td>\n",
       "    </tr>\n",
       "  </tbody>\n",
       "</table>\n",
       "</div>"
      ],
      "text/plain": [
       "                                       uri    en_label\n",
       "0  http://aims.fao.org/aos/agrovoc/c_12332       maize\n",
       "1  http://aims.fao.org/aos/agrovoc/c_14386  soft wheat\n",
       "2  http://aims.fao.org/aos/agrovoc/c_11456  hard wheat\n",
       "3   http://aims.fao.org/aos/agrovoc/c_7499  sugar beet\n",
       "4   http://aims.fao.org/aos/agrovoc/c_3558        hemp\n",
       "5  http://aims.fao.org/aos/agrovoc/c_14477    soybeans"
      ]
     },
     "execution_count": 9,
     "metadata": {},
     "output_type": "execute_result"
    }
   ],
   "source": [
    "sparql.setQuery(query)\n",
    "ret = sparql.queryAndConvert()\n",
    "tmp_d = {\"uri\" : [], \"en_label\" : []}\n",
    "for row in ret[\"results\"][\"bindings\"]:\n",
    "    tmp_d[\"uri\"].append(row[\"uri\"][\"value\"])\n",
    "    tmp_d[\"en_label\"].append(row[\"label\"][\"value\"])\n",
    "agrovoc_wrong_germplasms = pd.DataFrame(tmp_d)\n",
    "agrovoc_wrong_germplasms"
   ]
  },
  {
   "cell_type": "markdown",
   "metadata": {},
   "source": [
    "---      \n",
    "\n",
    "# <br>        "
   ]
  },
  {
   "cell_type": "markdown",
   "metadata": {},
   "source": [
    "## Isolate produces\n",
    "---"
   ]
  },
  {
   "cell_type": "markdown",
   "metadata": {},
   "source": [
    "Some of these germplasms are produces/substances instead of the species/variety of the plant that produces it.     \n",
    "Ex : Wheat (the grain) instead of Triticum (the plant species)."
   ]
  },
  {
   "cell_type": "code",
   "execution_count": 10,
   "metadata": {},
   "outputs": [],
   "source": [
    "sparql = SPARQLWrapper(\n",
    "    \"https://agrovoc.fao.org/sparql\"\n",
    ")\n",
    "sparql.setReturnFormat(JSON)"
   ]
  },
  {
   "cell_type": "code",
   "execution_count": 11,
   "metadata": {},
   "outputs": [],
   "source": [
    "query = \"\"\"\n",
    "PREFIX rdf: <http://www.w3.org/1999/02/22-rdf-syntax-ns#>\n",
    "PREFIX rdfs: <http://www.w3.org/2000/01/rdf-schema#>\n",
    "\n",
    "SELECT ?product_uri ?product_label ?produced_by_uri ?produced_by_label\n",
    "WHERE {\n",
    "    {<http://aims.fao.org/aos/agrovoc/c_8171>  <http://www.w3.org/2004/02/skos/core#narrower>* ?product_uri}\n",
    "    UNION {<http://aims.fao.org/aos/agrovoc/c_330705>  <http://www.w3.org/2004/02/skos/core#narrower>* ?product_uri}\n",
    "    ?product_uri <http://aims.fao.org/aos/agrontology#isProducedBy> ?produced_by_uri .\n",
    "\n",
    "    ?product_uri <http://www.w3.org/2004/02/skos/core#prefLabel> ?product_label .\n",
    "    FILTER (lang(?product_label) = \"en\")\n",
    "\n",
    "    ?produced_by_uri <http://www.w3.org/2004/02/skos/core#prefLabel> ?produced_by_label .\n",
    "    FILTER (lang(?produced_by_label) = \"en\")\n",
    "\n",
    "    VALUES ?product_uri {%s}\n",
    "} LIMIT 1000\n",
    "\"\"\"%(\"<\" + \"> <\".join(agrovoc_wrong_germplasms.uri) + \">\")"
   ]
  },
  {
   "cell_type": "code",
   "execution_count": 12,
   "metadata": {},
   "outputs": [
    {
     "data": {
      "text/html": [
       "<div>\n",
       "<style scoped>\n",
       "    .dataframe tbody tr th:only-of-type {\n",
       "        vertical-align: middle;\n",
       "    }\n",
       "\n",
       "    .dataframe tbody tr th {\n",
       "        vertical-align: top;\n",
       "    }\n",
       "\n",
       "    .dataframe thead th {\n",
       "        text-align: right;\n",
       "    }\n",
       "</style>\n",
       "<table border=\"1\" class=\"dataframe\">\n",
       "  <thead>\n",
       "    <tr style=\"text-align: right;\">\n",
       "      <th></th>\n",
       "      <th>product_uri</th>\n",
       "      <th>product_label</th>\n",
       "      <th>produced_by_uri</th>\n",
       "      <th>produced_by_label</th>\n",
       "    </tr>\n",
       "  </thead>\n",
       "  <tbody>\n",
       "    <tr>\n",
       "      <th>0</th>\n",
       "      <td>http://aims.fao.org/aos/agrovoc/c_12332</td>\n",
       "      <td>maize</td>\n",
       "      <td>http://aims.fao.org/aos/agrovoc/c_8504</td>\n",
       "      <td>Zea mays</td>\n",
       "    </tr>\n",
       "    <tr>\n",
       "      <th>1</th>\n",
       "      <td>http://aims.fao.org/aos/agrovoc/c_14386</td>\n",
       "      <td>soft wheat</td>\n",
       "      <td>http://aims.fao.org/aos/agrovoc/c_7951</td>\n",
       "      <td>Triticum aestivum</td>\n",
       "    </tr>\n",
       "    <tr>\n",
       "      <th>2</th>\n",
       "      <td>http://aims.fao.org/aos/agrovoc/c_11456</td>\n",
       "      <td>hard wheat</td>\n",
       "      <td>http://aims.fao.org/aos/agrovoc/c_7955</td>\n",
       "      <td>Triticum durum</td>\n",
       "    </tr>\n",
       "    <tr>\n",
       "      <th>3</th>\n",
       "      <td>http://aims.fao.org/aos/agrovoc/c_7499</td>\n",
       "      <td>sugar beet</td>\n",
       "      <td>http://aims.fao.org/aos/agrovoc/c_890</td>\n",
       "      <td>Beta vulgaris</td>\n",
       "    </tr>\n",
       "    <tr>\n",
       "      <th>4</th>\n",
       "      <td>http://aims.fao.org/aos/agrovoc/c_3558</td>\n",
       "      <td>hemp</td>\n",
       "      <td>http://aims.fao.org/aos/agrovoc/c_1257</td>\n",
       "      <td>Cannabis sativa</td>\n",
       "    </tr>\n",
       "    <tr>\n",
       "      <th>5</th>\n",
       "      <td>http://aims.fao.org/aos/agrovoc/c_14477</td>\n",
       "      <td>soybeans</td>\n",
       "      <td>http://aims.fao.org/aos/agrovoc/c_3301</td>\n",
       "      <td>Glycine max</td>\n",
       "    </tr>\n",
       "    <tr>\n",
       "      <th>6</th>\n",
       "      <td>http://aims.fao.org/aos/agrovoc/c_14477</td>\n",
       "      <td>soybeans</td>\n",
       "      <td>http://aims.fao.org/aos/agrovoc/c_23607</td>\n",
       "      <td>Glycine soja</td>\n",
       "    </tr>\n",
       "  </tbody>\n",
       "</table>\n",
       "</div>"
      ],
      "text/plain": [
       "                               product_uri product_label  \\\n",
       "0  http://aims.fao.org/aos/agrovoc/c_12332         maize   \n",
       "1  http://aims.fao.org/aos/agrovoc/c_14386    soft wheat   \n",
       "2  http://aims.fao.org/aos/agrovoc/c_11456    hard wheat   \n",
       "3   http://aims.fao.org/aos/agrovoc/c_7499    sugar beet   \n",
       "4   http://aims.fao.org/aos/agrovoc/c_3558          hemp   \n",
       "5  http://aims.fao.org/aos/agrovoc/c_14477      soybeans   \n",
       "6  http://aims.fao.org/aos/agrovoc/c_14477      soybeans   \n",
       "\n",
       "                           produced_by_uri  produced_by_label  \n",
       "0   http://aims.fao.org/aos/agrovoc/c_8504           Zea mays  \n",
       "1   http://aims.fao.org/aos/agrovoc/c_7951  Triticum aestivum  \n",
       "2   http://aims.fao.org/aos/agrovoc/c_7955     Triticum durum  \n",
       "3    http://aims.fao.org/aos/agrovoc/c_890      Beta vulgaris  \n",
       "4   http://aims.fao.org/aos/agrovoc/c_1257    Cannabis sativa  \n",
       "5   http://aims.fao.org/aos/agrovoc/c_3301        Glycine max  \n",
       "6  http://aims.fao.org/aos/agrovoc/c_23607       Glycine soja  "
      ]
     },
     "execution_count": 12,
     "metadata": {},
     "output_type": "execute_result"
    }
   ],
   "source": [
    "sparql.setQuery(query)\n",
    "ret = sparql.queryAndConvert()\n",
    "tmp_d = {\"product_uri\" : [], \"product_label\" : [], \"produced_by_uri\" : [], \"produced_by_label\" : []}\n",
    "for row in ret[\"results\"][\"bindings\"]:\n",
    "    tmp_d[\"product_uri\"].append(row[\"product_uri\"][\"value\"])\n",
    "    tmp_d[\"product_label\"].append(row[\"product_label\"][\"value\"])\n",
    "    tmp_d[\"produced_by_uri\"].append(row[\"produced_by_uri\"][\"value\"])\n",
    "    tmp_d[\"produced_by_label\"].append(row[\"produced_by_label\"][\"value\"])\n",
    "agrovoc_produces = pd.DataFrame(tmp_d)\n",
    "agrovoc_produces"
   ]
  },
  {
   "cell_type": "code",
   "execution_count": 13,
   "metadata": {},
   "outputs": [],
   "source": [
    "agrovoc_wrong_germplasms[~agrovoc_wrong_germplasms.uri.isin(agrovoc_produces.product_uri)].to_csv(\"agrovoc_probable_mismatches.csv\", index=False)\n",
    "agrovoc_produces.to_csv(\"agrovoc_produces_mismatches.csv\", index=False)"
   ]
  },
  {
   "cell_type": "markdown",
   "metadata": {},
   "source": [
    "---      \n",
    "\n",
    "# <br>        "
   ]
  }
 ],
 "metadata": {
  "interpreter": {
   "hash": "8cddaa1f4b9ebd0a794245425c7f72787d096c8eeda53956f2c25e27ce5c1b9b"
  },
  "kernelspec": {
   "display_name": "Python 3.10.4 ('rdftest')",
   "language": "python",
   "name": "python3"
  },
  "language_info": {
   "codemirror_mode": {
    "name": "ipython",
    "version": 3
   },
   "file_extension": ".py",
   "mimetype": "text/x-python",
   "name": "python",
   "nbconvert_exporter": "python",
   "pygments_lexer": "ipython3",
   "version": "3.9.12"
  },
  "orig_nbformat": 4
 },
 "nbformat": 4,
 "nbformat_minor": 2
}
