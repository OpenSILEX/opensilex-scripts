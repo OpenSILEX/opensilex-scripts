{
 "cells": [
  {
   "cell_type": "markdown",
   "id": "39c3a2aa-b9f5-4792-a854-5c6b775605af",
   "metadata": {},
   "source": [
    "# Data Importation test with multiple variables and secondary variables\n",
    "27/07/2021   \n",
    "Gabriel Besombes    \n",
    "__Data used__ : GrainSample.csv, extracted from Notations_2020_EPPN-PhenoMaize.xlsx\n",
    "#     "
   ]
  },
  {
   "cell_type": "code",
   "execution_count": 1,
   "id": "b7d15e2e-679a-4853-8eb7-69cc92b6ecfa",
   "metadata": {},
   "outputs": [],
   "source": [
    "# quick fix for autocomplete\n",
    "%config Completer.use_jedi = False"
   ]
  },
  {
   "cell_type": "markdown",
   "id": "e6b43257-3e8f-4e8e-9c16-da67591d456a",
   "metadata": {},
   "source": [
    "## Import packages\n",
    "---"
   ]
  },
  {
   "cell_type": "code",
   "execution_count": 2,
   "id": "a890378f-a8cf-4447-8a70-b549332bf807",
   "metadata": {},
   "outputs": [],
   "source": [
    "import opensilexClientToolsPython\n",
    "import pandas as pd\n",
    "from opensilexClientToolsPython.rest import ApiException\n",
    "from pprint import pprint"
   ]
  },
  {
   "cell_type": "markdown",
   "id": "1b50b90d-4dea-425d-b820-d323b0904bf9",
   "metadata": {},
   "source": [
    "---\n",
    "#    "
   ]
  },
  {
   "cell_type": "markdown",
   "id": "0e3dfa44-f139-4760-8855-d3d496fdc806",
   "metadata": {},
   "source": [
    "## Import csv\n",
    "---"
   ]
  },
  {
   "cell_type": "code",
   "execution_count": 3,
   "id": "049017ac-199d-4791-b76a-18ee340cd43e",
   "metadata": {},
   "outputs": [
    {
     "data": {
      "text/html": [
       "<div>\n",
       "<style scoped>\n",
       "    .dataframe tbody tr th:only-of-type {\n",
       "        vertical-align: middle;\n",
       "    }\n",
       "\n",
       "    .dataframe tbody tr th {\n",
       "        vertical-align: top;\n",
       "    }\n",
       "\n",
       "    .dataframe thead th {\n",
       "        text-align: right;\n",
       "    }\n",
       "</style>\n",
       "<table border=\"1\" class=\"dataframe\">\n",
       "  <thead>\n",
       "    <tr style=\"text-align: right;\">\n",
       "      <th></th>\n",
       "      <th>Tri</th>\n",
       "      <th>Trial_id</th>\n",
       "      <th>X</th>\n",
       "      <th>Y</th>\n",
       "      <th>Plot</th>\n",
       "      <th>Alias</th>\n",
       "      <th>Experiment</th>\n",
       "      <th>Species</th>\n",
       "      <th>Variety</th>\n",
       "      <th>ExperimentModalities</th>\n",
       "      <th>...</th>\n",
       "      <th>Project</th>\n",
       "      <th>Alias_PF</th>\n",
       "      <th>CodeB</th>\n",
       "      <th>GrainSample</th>\n",
       "      <th>Hte</th>\n",
       "      <th>nbk</th>\n",
       "      <th>Poids</th>\n",
       "      <th>Date</th>\n",
       "      <th>PMG</th>\n",
       "      <th>PMG15</th>\n",
       "    </tr>\n",
       "  </thead>\n",
       "  <tbody>\n",
       "    <tr>\n",
       "      <th>0</th>\n",
       "      <td>79</td>\n",
       "      <td>MA20_PM</td>\n",
       "      <td>3</td>\n",
       "      <td>8</td>\n",
       "      <td>10</td>\n",
       "      <td>EPPN_Plot_0010</td>\n",
       "      <td>2020_PhenoMaize</td>\n",
       "      <td>Maize</td>\n",
       "      <td>DKC4590</td>\n",
       "      <td>WW</td>\n",
       "      <td>...</td>\n",
       "      <td>EPPN</td>\n",
       "      <td>73</td>\n",
       "      <td>MA20_PM_10_DKC4590_1</td>\n",
       "      <td>1</td>\n",
       "      <td>21.0</td>\n",
       "      <td>500</td>\n",
       "      <td>163.34</td>\n",
       "      <td>2020-10-14</td>\n",
       "      <td>326.68</td>\n",
       "      <td>303.620235</td>\n",
       "    </tr>\n",
       "    <tr>\n",
       "      <th>1</th>\n",
       "      <td>77</td>\n",
       "      <td>MA20_PM</td>\n",
       "      <td>3</td>\n",
       "      <td>10</td>\n",
       "      <td>26</td>\n",
       "      <td>EPPN_Plot_0026</td>\n",
       "      <td>2020_PhenoMaize</td>\n",
       "      <td>Maize</td>\n",
       "      <td>EPPN4_H</td>\n",
       "      <td>WW</td>\n",
       "      <td>...</td>\n",
       "      <td>EPPN</td>\n",
       "      <td>93</td>\n",
       "      <td>MA20_PM_26_EPPN4_H_2</td>\n",
       "      <td>2</td>\n",
       "      <td>17.8</td>\n",
       "      <td>500</td>\n",
       "      <td>142.70</td>\n",
       "      <td>2020-10-14</td>\n",
       "      <td>285.40</td>\n",
       "      <td>275.998588</td>\n",
       "    </tr>\n",
       "    <tr>\n",
       "      <th>2</th>\n",
       "      <td>75</td>\n",
       "      <td>MA20_PM</td>\n",
       "      <td>3</td>\n",
       "      <td>12</td>\n",
       "      <td>42</td>\n",
       "      <td>EPPN_Plot_0042</td>\n",
       "      <td>2020_PhenoMaize</td>\n",
       "      <td>Maize</td>\n",
       "      <td>EPPN9_H</td>\n",
       "      <td>WW</td>\n",
       "      <td>...</td>\n",
       "      <td>EPPN</td>\n",
       "      <td>113</td>\n",
       "      <td>MA20_PM_42_EPPN9_H_3</td>\n",
       "      <td>3</td>\n",
       "      <td>20.9</td>\n",
       "      <td>500</td>\n",
       "      <td>153.28</td>\n",
       "      <td>2020-10-14</td>\n",
       "      <td>306.56</td>\n",
       "      <td>285.281129</td>\n",
       "    </tr>\n",
       "    <tr>\n",
       "      <th>3</th>\n",
       "      <td>73</td>\n",
       "      <td>MA20_PM</td>\n",
       "      <td>3</td>\n",
       "      <td>14</td>\n",
       "      <td>58</td>\n",
       "      <td>EPPN_Plot_0058</td>\n",
       "      <td>2020_PhenoMaize</td>\n",
       "      <td>Maize</td>\n",
       "      <td>EPPN2_H</td>\n",
       "      <td>WW</td>\n",
       "      <td>...</td>\n",
       "      <td>EPPN</td>\n",
       "      <td>133</td>\n",
       "      <td>MA20_PM_58_EPPN2_H_4</td>\n",
       "      <td>4</td>\n",
       "      <td>19.7</td>\n",
       "      <td>500</td>\n",
       "      <td>136.86</td>\n",
       "      <td>2020-10-14</td>\n",
       "      <td>273.72</td>\n",
       "      <td>258.584894</td>\n",
       "    </tr>\n",
       "    <tr>\n",
       "      <th>4</th>\n",
       "      <td>71</td>\n",
       "      <td>MA20_PM</td>\n",
       "      <td>3</td>\n",
       "      <td>16</td>\n",
       "      <td>74</td>\n",
       "      <td>EPPN_Plot_0074</td>\n",
       "      <td>2020_PhenoMaize</td>\n",
       "      <td>Maize</td>\n",
       "      <td>DKC4590</td>\n",
       "      <td>WW</td>\n",
       "      <td>...</td>\n",
       "      <td>EPPN</td>\n",
       "      <td>153</td>\n",
       "      <td>MA20_PM_74_DKC4590_5</td>\n",
       "      <td>5</td>\n",
       "      <td>19.6</td>\n",
       "      <td>500</td>\n",
       "      <td>176.20</td>\n",
       "      <td>2020-10-14</td>\n",
       "      <td>352.40</td>\n",
       "      <td>333.328941</td>\n",
       "    </tr>\n",
       "  </tbody>\n",
       "</table>\n",
       "<p>5 rows × 23 columns</p>\n",
       "</div>"
      ],
      "text/plain": [
       "   Tri Trial_id  X   Y  Plot           Alias       Experiment Species  \\\n",
       "0   79  MA20_PM  3   8    10  EPPN_Plot_0010  2020_PhenoMaize   Maize   \n",
       "1   77  MA20_PM  3  10    26  EPPN_Plot_0026  2020_PhenoMaize   Maize   \n",
       "2   75  MA20_PM  3  12    42  EPPN_Plot_0042  2020_PhenoMaize   Maize   \n",
       "3   73  MA20_PM  3  14    58  EPPN_Plot_0058  2020_PhenoMaize   Maize   \n",
       "4   71  MA20_PM  3  16    74  EPPN_Plot_0074  2020_PhenoMaize   Maize   \n",
       "\n",
       "   Variety ExperimentModalities  ...  Project  Alias_PF                 CodeB  \\\n",
       "0  DKC4590                   WW  ...     EPPN        73  MA20_PM_10_DKC4590_1   \n",
       "1  EPPN4_H                   WW  ...     EPPN        93  MA20_PM_26_EPPN4_H_2   \n",
       "2  EPPN9_H                   WW  ...     EPPN       113  MA20_PM_42_EPPN9_H_3   \n",
       "3  EPPN2_H                   WW  ...     EPPN       133  MA20_PM_58_EPPN2_H_4   \n",
       "4  DKC4590                   WW  ...     EPPN       153  MA20_PM_74_DKC4590_5   \n",
       "\n",
       "  GrainSample   Hte  nbk   Poids        Date     PMG       PMG15  \n",
       "0           1  21.0  500  163.34  2020-10-14  326.68  303.620235  \n",
       "1           2  17.8  500  142.70  2020-10-14  285.40  275.998588  \n",
       "2           3  20.9  500  153.28  2020-10-14  306.56  285.281129  \n",
       "3           4  19.7  500  136.86  2020-10-14  273.72  258.584894  \n",
       "4           5  19.6  500  176.20  2020-10-14  352.40  333.328941  \n",
       "\n",
       "[5 rows x 23 columns]"
      ]
     },
     "execution_count": 3,
     "metadata": {},
     "output_type": "execute_result"
    }
   ],
   "source": [
    "df = pd.read_csv(\"./GrainSample.csv\", delimiter=\";\", decimal=\",\")\n",
    "df.head()"
   ]
  },
  {
   "cell_type": "markdown",
   "id": "63e38a19-cc6b-4f86-8e43-a7d229ba164d",
   "metadata": {},
   "source": [
    "Global look at the data"
   ]
  },
  {
   "cell_type": "code",
   "execution_count": 4,
   "id": "5242e2ed-afe3-4011-808a-9bebc35514aa",
   "metadata": {},
   "outputs": [
    {
     "data": {
      "text/html": [
       "<div>\n",
       "<style scoped>\n",
       "    .dataframe tbody tr th:only-of-type {\n",
       "        vertical-align: middle;\n",
       "    }\n",
       "\n",
       "    .dataframe tbody tr th {\n",
       "        vertical-align: top;\n",
       "    }\n",
       "\n",
       "    .dataframe thead th {\n",
       "        text-align: right;\n",
       "    }\n",
       "</style>\n",
       "<table border=\"1\" class=\"dataframe\">\n",
       "  <thead>\n",
       "    <tr style=\"text-align: right;\">\n",
       "      <th></th>\n",
       "      <th>Tri</th>\n",
       "      <th>X</th>\n",
       "      <th>Y</th>\n",
       "      <th>Plot</th>\n",
       "      <th>Replication</th>\n",
       "      <th>GenotypeNumber</th>\n",
       "      <th>Internal_Id</th>\n",
       "      <th>Alias_PF</th>\n",
       "      <th>GrainSample</th>\n",
       "      <th>Hte</th>\n",
       "      <th>nbk</th>\n",
       "      <th>Poids</th>\n",
       "      <th>PMG</th>\n",
       "      <th>PMG15</th>\n",
       "    </tr>\n",
       "  </thead>\n",
       "  <tbody>\n",
       "    <tr>\n",
       "      <th>count</th>\n",
       "      <td>108.000000</td>\n",
       "      <td>108.000000</td>\n",
       "      <td>108.000000</td>\n",
       "      <td>108.000000</td>\n",
       "      <td>108.000000</td>\n",
       "      <td>108.000000</td>\n",
       "      <td>108.00000</td>\n",
       "      <td>108.000000</td>\n",
       "      <td>108.00000</td>\n",
       "      <td>108.000000</td>\n",
       "      <td>108.0</td>\n",
       "      <td>108.000000</td>\n",
       "      <td>108.000000</td>\n",
       "      <td>108.000000</td>\n",
       "    </tr>\n",
       "    <tr>\n",
       "      <th>mean</th>\n",
       "      <td>160.500000</td>\n",
       "      <td>5.500000</td>\n",
       "      <td>41.500000</td>\n",
       "      <td>160.500000</td>\n",
       "      <td>2.722222</td>\n",
       "      <td>5.833333</td>\n",
       "      <td>54.50000</td>\n",
       "      <td>410.500000</td>\n",
       "      <td>54.50000</td>\n",
       "      <td>20.659259</td>\n",
       "      <td>500.0</td>\n",
       "      <td>156.456296</td>\n",
       "      <td>312.912593</td>\n",
       "      <td>292.036681</td>\n",
       "    </tr>\n",
       "    <tr>\n",
       "      <th>std</th>\n",
       "      <td>69.631003</td>\n",
       "      <td>1.715787</td>\n",
       "      <td>26.138917</td>\n",
       "      <td>94.061175</td>\n",
       "      <td>2.103994</td>\n",
       "      <td>4.750799</td>\n",
       "      <td>31.32092</td>\n",
       "      <td>261.394803</td>\n",
       "      <td>31.32092</td>\n",
       "      <td>1.672093</td>\n",
       "      <td>0.0</td>\n",
       "      <td>11.676797</td>\n",
       "      <td>23.353593</td>\n",
       "      <td>22.007594</td>\n",
       "    </tr>\n",
       "    <tr>\n",
       "      <th>min</th>\n",
       "      <td>42.000000</td>\n",
       "      <td>3.000000</td>\n",
       "      <td>8.000000</td>\n",
       "      <td>10.000000</td>\n",
       "      <td>0.000000</td>\n",
       "      <td>0.000000</td>\n",
       "      <td>1.00000</td>\n",
       "      <td>73.000000</td>\n",
       "      <td>1.00000</td>\n",
       "      <td>17.000000</td>\n",
       "      <td>500.0</td>\n",
       "      <td>129.800000</td>\n",
       "      <td>259.600000</td>\n",
       "      <td>238.199529</td>\n",
       "    </tr>\n",
       "    <tr>\n",
       "      <th>25%</th>\n",
       "      <td>101.750000</td>\n",
       "      <td>4.000000</td>\n",
       "      <td>16.000000</td>\n",
       "      <td>76.750000</td>\n",
       "      <td>1.000000</td>\n",
       "      <td>1.000000</td>\n",
       "      <td>27.75000</td>\n",
       "      <td>155.750000</td>\n",
       "      <td>27.75000</td>\n",
       "      <td>19.600000</td>\n",
       "      <td>500.0</td>\n",
       "      <td>148.342500</td>\n",
       "      <td>296.685000</td>\n",
       "      <td>276.368382</td>\n",
       "    </tr>\n",
       "    <tr>\n",
       "      <th>50%</th>\n",
       "      <td>160.500000</td>\n",
       "      <td>5.500000</td>\n",
       "      <td>41.500000</td>\n",
       "      <td>160.500000</td>\n",
       "      <td>3.000000</td>\n",
       "      <td>5.500000</td>\n",
       "      <td>54.50000</td>\n",
       "      <td>410.500000</td>\n",
       "      <td>54.50000</td>\n",
       "      <td>20.700000</td>\n",
       "      <td>500.0</td>\n",
       "      <td>154.900000</td>\n",
       "      <td>309.800000</td>\n",
       "      <td>288.746612</td>\n",
       "    </tr>\n",
       "    <tr>\n",
       "      <th>75%</th>\n",
       "      <td>219.250000</td>\n",
       "      <td>7.000000</td>\n",
       "      <td>67.000000</td>\n",
       "      <td>244.250000</td>\n",
       "      <td>5.000000</td>\n",
       "      <td>10.000000</td>\n",
       "      <td>81.25000</td>\n",
       "      <td>665.250000</td>\n",
       "      <td>81.25000</td>\n",
       "      <td>21.925000</td>\n",
       "      <td>500.0</td>\n",
       "      <td>165.240000</td>\n",
       "      <td>330.480000</td>\n",
       "      <td>309.596541</td>\n",
       "    </tr>\n",
       "    <tr>\n",
       "      <th>max</th>\n",
       "      <td>279.000000</td>\n",
       "      <td>8.000000</td>\n",
       "      <td>75.000000</td>\n",
       "      <td>311.000000</td>\n",
       "      <td>6.000000</td>\n",
       "      <td>14.000000</td>\n",
       "      <td>108.00000</td>\n",
       "      <td>748.000000</td>\n",
       "      <td>108.00000</td>\n",
       "      <td>24.900000</td>\n",
       "      <td>500.0</td>\n",
       "      <td>182.720000</td>\n",
       "      <td>365.440000</td>\n",
       "      <td>338.520000</td>\n",
       "    </tr>\n",
       "  </tbody>\n",
       "</table>\n",
       "</div>"
      ],
      "text/plain": [
       "              Tri           X           Y        Plot  Replication  \\\n",
       "count  108.000000  108.000000  108.000000  108.000000   108.000000   \n",
       "mean   160.500000    5.500000   41.500000  160.500000     2.722222   \n",
       "std     69.631003    1.715787   26.138917   94.061175     2.103994   \n",
       "min     42.000000    3.000000    8.000000   10.000000     0.000000   \n",
       "25%    101.750000    4.000000   16.000000   76.750000     1.000000   \n",
       "50%    160.500000    5.500000   41.500000  160.500000     3.000000   \n",
       "75%    219.250000    7.000000   67.000000  244.250000     5.000000   \n",
       "max    279.000000    8.000000   75.000000  311.000000     6.000000   \n",
       "\n",
       "       GenotypeNumber  Internal_Id    Alias_PF  GrainSample         Hte  \\\n",
       "count      108.000000    108.00000  108.000000    108.00000  108.000000   \n",
       "mean         5.833333     54.50000  410.500000     54.50000   20.659259   \n",
       "std          4.750799     31.32092  261.394803     31.32092    1.672093   \n",
       "min          0.000000      1.00000   73.000000      1.00000   17.000000   \n",
       "25%          1.000000     27.75000  155.750000     27.75000   19.600000   \n",
       "50%          5.500000     54.50000  410.500000     54.50000   20.700000   \n",
       "75%         10.000000     81.25000  665.250000     81.25000   21.925000   \n",
       "max         14.000000    108.00000  748.000000    108.00000   24.900000   \n",
       "\n",
       "         nbk       Poids         PMG       PMG15  \n",
       "count  108.0  108.000000  108.000000  108.000000  \n",
       "mean   500.0  156.456296  312.912593  292.036681  \n",
       "std      0.0   11.676797   23.353593   22.007594  \n",
       "min    500.0  129.800000  259.600000  238.199529  \n",
       "25%    500.0  148.342500  296.685000  276.368382  \n",
       "50%    500.0  154.900000  309.800000  288.746612  \n",
       "75%    500.0  165.240000  330.480000  309.596541  \n",
       "max    500.0  182.720000  365.440000  338.520000  "
      ]
     },
     "execution_count": 4,
     "metadata": {},
     "output_type": "execute_result"
    }
   ],
   "source": [
    "df.describe()"
   ]
  },
  {
   "cell_type": "markdown",
   "id": "04f60e81-4fe1-4420-ab56-899d642fa311",
   "metadata": {},
   "source": [
    "Checking for na"
   ]
  },
  {
   "cell_type": "code",
   "execution_count": 5,
   "id": "a99d57b2-2d73-454b-b887-38251fb79fa0",
   "metadata": {},
   "outputs": [
    {
     "data": {
      "text/plain": [
       "False"
      ]
     },
     "execution_count": 5,
     "metadata": {},
     "output_type": "execute_result"
    }
   ],
   "source": [
    "df.isna().any().any()"
   ]
  },
  {
   "cell_type": "markdown",
   "id": "713de723-4f21-4371-842e-53780d364bd2",
   "metadata": {},
   "source": [
    "The data looks good from the get-go"
   ]
  },
  {
   "cell_type": "markdown",
   "id": "52e7b489-556d-47a9-8099-1b7f9595f4d0",
   "metadata": {},
   "source": [
    "---\n",
    "#    "
   ]
  },
  {
   "cell_type": "markdown",
   "id": "fbe60cab-abe1-4dcf-a397-f070fddd676d",
   "metadata": {},
   "source": [
    "## Use of the `ApiClient` class\n",
    "---"
   ]
  },
  {
   "cell_type": "markdown",
   "id": "1dd4b2b8-c70f-4d1a-8817-e2a0512b18e3",
   "metadata": {},
   "source": [
    "Creating instances of :\n",
    "* `ApiClient` class to connect to OpenSilex\n",
    "* `VariablesApi` class to create Variables\n",
    "* `ScientificObjectsApi` class to create Scientific Objects\n",
    "* `DataApi` class to create Provenances and upload the Data"
   ]
  },
  {
   "cell_type": "code",
   "execution_count": 6,
   "id": "fff7ede5-d8dc-44ab-9ca9-136b438f3cde",
   "metadata": {},
   "outputs": [],
   "source": [
    "pythonClient = opensilexClientToolsPython.ApiClient()\n",
    "pythonClient.connect_to_opensilex_ws(identifier=\"gabriel.besombes@inrae.fr\",\n",
    "                                     password=\"NPLdj6gFdnCfDP6\",\n",
    "                                     host=\"http://138.102.159.37:8081/rest\")\n",
    "var_api_instance = opensilexClientToolsPython.VariablesApi(pythonClient)\n",
    "data_api_instance = opensilexClientToolsPython.DataApi(pythonClient)\n",
    "obj_api_instance = opensilexClientToolsPython.ScientificObjectsApi(pythonClient)"
   ]
  },
  {
   "cell_type": "markdown",
   "id": "43e0e1b0-d39b-4780-98ac-695af0976fff",
   "metadata": {},
   "source": [
    "---\n",
    "#   "
   ]
  },
  {
   "cell_type": "markdown",
   "id": "48c3f2c7-3cf8-487f-9f22-c2d180746c1a",
   "metadata": {},
   "source": [
    "## Subset of data to test\n",
    "---"
   ]
  },
  {
   "cell_type": "markdown",
   "id": "84399cd9-eaaf-4f92-ac11-23d052bb378b",
   "metadata": {},
   "source": [
    "The test is done with only the first five elements and on the __Hte__, __nbk__, __Poids__, __PMG__, __PMG15__ variables. __Plot__ is also kept as the scientific objects.    \n",
    "Description :\n",
    "* __Hte__ : Humidity level in %\n",
    "* __nbk__ : Number of grains in the sample\n",
    "* __Poids__ : Weight of the sample\n",
    "* __PMG__ : Thousand seeds weight (TSW) = __Poids__\\*1000/__nbk__\n",
    "* __PMG15__ = __PMG__\\*(100-__Hte__)/85"
   ]
  },
  {
   "cell_type": "code",
   "execution_count": 7,
   "id": "9c23a4c8-3b2b-4d55-80aa-b2795525311b",
   "metadata": {},
   "outputs": [],
   "source": [
    "n = 5"
   ]
  },
  {
   "cell_type": "code",
   "execution_count": 8,
   "id": "10629475-0347-4082-9a36-93711b5ec63b",
   "metadata": {},
   "outputs": [
    {
     "data": {
      "text/html": [
       "<div>\n",
       "<style scoped>\n",
       "    .dataframe tbody tr th:only-of-type {\n",
       "        vertical-align: middle;\n",
       "    }\n",
       "\n",
       "    .dataframe tbody tr th {\n",
       "        vertical-align: top;\n",
       "    }\n",
       "\n",
       "    .dataframe thead th {\n",
       "        text-align: right;\n",
       "    }\n",
       "</style>\n",
       "<table border=\"1\" class=\"dataframe\">\n",
       "  <thead>\n",
       "    <tr style=\"text-align: right;\">\n",
       "      <th></th>\n",
       "      <th>Plot</th>\n",
       "      <th>Hte</th>\n",
       "      <th>nbk</th>\n",
       "      <th>Poids</th>\n",
       "      <th>PMG</th>\n",
       "      <th>PMG15</th>\n",
       "    </tr>\n",
       "  </thead>\n",
       "  <tbody>\n",
       "    <tr>\n",
       "      <th>0</th>\n",
       "      <td>10</td>\n",
       "      <td>21.0</td>\n",
       "      <td>500</td>\n",
       "      <td>163.34</td>\n",
       "      <td>326.68</td>\n",
       "      <td>303.620235</td>\n",
       "    </tr>\n",
       "    <tr>\n",
       "      <th>1</th>\n",
       "      <td>26</td>\n",
       "      <td>17.8</td>\n",
       "      <td>500</td>\n",
       "      <td>142.70</td>\n",
       "      <td>285.40</td>\n",
       "      <td>275.998588</td>\n",
       "    </tr>\n",
       "    <tr>\n",
       "      <th>2</th>\n",
       "      <td>42</td>\n",
       "      <td>20.9</td>\n",
       "      <td>500</td>\n",
       "      <td>153.28</td>\n",
       "      <td>306.56</td>\n",
       "      <td>285.281129</td>\n",
       "    </tr>\n",
       "    <tr>\n",
       "      <th>3</th>\n",
       "      <td>58</td>\n",
       "      <td>19.7</td>\n",
       "      <td>500</td>\n",
       "      <td>136.86</td>\n",
       "      <td>273.72</td>\n",
       "      <td>258.584894</td>\n",
       "    </tr>\n",
       "    <tr>\n",
       "      <th>4</th>\n",
       "      <td>74</td>\n",
       "      <td>19.6</td>\n",
       "      <td>500</td>\n",
       "      <td>176.20</td>\n",
       "      <td>352.40</td>\n",
       "      <td>333.328941</td>\n",
       "    </tr>\n",
       "  </tbody>\n",
       "</table>\n",
       "</div>"
      ],
      "text/plain": [
       "   Plot   Hte  nbk   Poids     PMG       PMG15\n",
       "0    10  21.0  500  163.34  326.68  303.620235\n",
       "1    26  17.8  500  142.70  285.40  275.998588\n",
       "2    42  20.9  500  153.28  306.56  285.281129\n",
       "3    58  19.7  500  136.86  273.72  258.584894\n",
       "4    74  19.6  500  176.20  352.40  333.328941"
      ]
     },
     "execution_count": 8,
     "metadata": {},
     "output_type": "execute_result"
    }
   ],
   "source": [
    "df[[\"Plot\", \"Hte\", \"nbk\", \"Poids\", \"PMG\", \"PMG15\"]][:n]"
   ]
  },
  {
   "cell_type": "code",
   "execution_count": 9,
   "id": "e5931e93-e787-466d-9a53-d17f3572604a",
   "metadata": {},
   "outputs": [],
   "source": [
    "vars_kept = [\"Hte\", \"nbk\", \"Poids\", \"PMG\", \"PMG15\"]"
   ]
  },
  {
   "cell_type": "markdown",
   "id": "736fa7ef-5480-42d5-864c-0be66c65820a",
   "metadata": {},
   "source": [
    "Making sure to use the right data types"
   ]
  },
  {
   "cell_type": "code",
   "execution_count": 10,
   "id": "96004d30-1250-4e16-bbed-f10bdcd8b546",
   "metadata": {},
   "outputs": [
    {
     "data": {
      "text/html": [
       "<div>\n",
       "<style scoped>\n",
       "    .dataframe tbody tr th:only-of-type {\n",
       "        vertical-align: middle;\n",
       "    }\n",
       "\n",
       "    .dataframe tbody tr th {\n",
       "        vertical-align: top;\n",
       "    }\n",
       "\n",
       "    .dataframe thead th {\n",
       "        text-align: right;\n",
       "    }\n",
       "</style>\n",
       "<table border=\"1\" class=\"dataframe\">\n",
       "  <thead>\n",
       "    <tr style=\"text-align: right;\">\n",
       "      <th></th>\n",
       "      <th>Plot</th>\n",
       "      <th>Hte</th>\n",
       "      <th>nbk</th>\n",
       "      <th>Poids</th>\n",
       "      <th>PMG</th>\n",
       "      <th>PMG15</th>\n",
       "    </tr>\n",
       "  </thead>\n",
       "  <tbody>\n",
       "    <tr>\n",
       "      <th>0</th>\n",
       "      <td>10</td>\n",
       "      <td>21.0</td>\n",
       "      <td>500</td>\n",
       "      <td>163.34</td>\n",
       "      <td>326.68</td>\n",
       "      <td>303.620235</td>\n",
       "    </tr>\n",
       "    <tr>\n",
       "      <th>1</th>\n",
       "      <td>26</td>\n",
       "      <td>17.8</td>\n",
       "      <td>500</td>\n",
       "      <td>142.70</td>\n",
       "      <td>285.40</td>\n",
       "      <td>275.998588</td>\n",
       "    </tr>\n",
       "    <tr>\n",
       "      <th>2</th>\n",
       "      <td>42</td>\n",
       "      <td>20.9</td>\n",
       "      <td>500</td>\n",
       "      <td>153.28</td>\n",
       "      <td>306.56</td>\n",
       "      <td>285.281129</td>\n",
       "    </tr>\n",
       "    <tr>\n",
       "      <th>3</th>\n",
       "      <td>58</td>\n",
       "      <td>19.7</td>\n",
       "      <td>500</td>\n",
       "      <td>136.86</td>\n",
       "      <td>273.72</td>\n",
       "      <td>258.584894</td>\n",
       "    </tr>\n",
       "    <tr>\n",
       "      <th>4</th>\n",
       "      <td>74</td>\n",
       "      <td>19.6</td>\n",
       "      <td>500</td>\n",
       "      <td>176.20</td>\n",
       "      <td>352.40</td>\n",
       "      <td>333.328941</td>\n",
       "    </tr>\n",
       "  </tbody>\n",
       "</table>\n",
       "</div>"
      ],
      "text/plain": [
       "   Plot   Hte  nbk   Poids     PMG       PMG15\n",
       "0    10  21.0  500  163.34  326.68  303.620235\n",
       "1    26  17.8  500  142.70  285.40  275.998588\n",
       "2    42  20.9  500  153.28  306.56  285.281129\n",
       "3    58  19.7  500  136.86  273.72  258.584894\n",
       "4    74  19.6  500  176.20  352.40  333.328941"
      ]
     },
     "execution_count": 10,
     "metadata": {},
     "output_type": "execute_result"
    }
   ],
   "source": [
    "df[[\"Hte\", \"Poids\", \"PMG\", \"PMG15\"]] = df[[\"Hte\", \"Poids\", \"PMG\", \"PMG15\"]][:n].astype(float)\n",
    "df[[\"nbk\"]] = df[[\"nbk\"]].astype(int)\n",
    "df[[\"Plot\", \"Hte\", \"nbk\", \"Poids\", \"PMG\", \"PMG15\"]][:n]"
   ]
  },
  {
   "cell_type": "code",
   "execution_count": 11,
   "id": "71f81497-15f9-4963-8f56-c876ab5b98db",
   "metadata": {},
   "outputs": [
    {
     "data": {
      "text/plain": [
       "Plot       int64\n",
       "Hte      float64\n",
       "nbk        int32\n",
       "Poids    float64\n",
       "PMG      float64\n",
       "PMG15    float64\n",
       "dtype: object"
      ]
     },
     "execution_count": 11,
     "metadata": {},
     "output_type": "execute_result"
    }
   ],
   "source": [
    "df[[\"Plot\", \"Hte\", \"nbk\", \"Poids\", \"PMG\", \"PMG15\"]].dtypes"
   ]
  },
  {
   "cell_type": "markdown",
   "id": "f3a28426-d980-42de-b9d3-252984a924bf",
   "metadata": {},
   "source": [
    "---\n",
    "#    "
   ]
  },
  {
   "cell_type": "markdown",
   "id": "f24f4933-d960-42fc-b211-e18f0d7e7777",
   "metadata": {},
   "source": [
    "## 1) Creating the Provenances\n",
    "---"
   ]
  },
  {
   "cell_type": "markdown",
   "id": "f1d1acd2-54f5-4e3d-8cb8-f93271393e48",
   "metadata": {},
   "source": [
    "One provenance is created for each variable"
   ]
  },
  {
   "cell_type": "markdown",
   "id": "d86c52e3-489f-4295-9080-09b582a55150",
   "metadata": {},
   "source": [
    "`ProvenanceCreationDTO` is used to make the right Json format"
   ]
  },
  {
   "cell_type": "code",
   "execution_count": 12,
   "id": "704b22d5-8959-4dc7-a5cb-3c3041c92147",
   "metadata": {},
   "outputs": [
    {
     "name": "stdout",
     "output_type": "stream",
     "text": [
      "[{'description': None,\n",
      " 'name': 'Grain_sample_Hte_prov',\n",
      " 'prov_activity': None,\n",
      " 'prov_agent': None,\n",
      " 'uri': None},\n",
      " {'description': None,\n",
      " 'name': 'Grain_sample_nbk_prov',\n",
      " 'prov_activity': None,\n",
      " 'prov_agent': None,\n",
      " 'uri': None},\n",
      " {'description': None,\n",
      " 'name': 'Grain_sample_Poids_prov',\n",
      " 'prov_activity': None,\n",
      " 'prov_agent': None,\n",
      " 'uri': None},\n",
      " {'description': None,\n",
      " 'name': 'Grain_sample_PMG_prov',\n",
      " 'prov_activity': None,\n",
      " 'prov_agent': None,\n",
      " 'uri': None},\n",
      " {'description': None,\n",
      " 'name': 'Grain_sample_PMG15_prov',\n",
      " 'prov_activity': None,\n",
      " 'prov_agent': None,\n",
      " 'uri': None}]\n"
     ]
    }
   ],
   "source": [
    "pc_dto = opensilexClientToolsPython.ProvenanceCreationDTO\n",
    "bodies = [pc_dto(name=\"Grain_sample_{}_prov\".format(v)) for v in vars_kept]\n",
    "pprint(bodies)"
   ]
  },
  {
   "cell_type": "markdown",
   "id": "ca7b5871-c1f2-498d-a752-7dd5ed00d534",
   "metadata": {},
   "source": [
    "The Provenances are then created"
   ]
  },
  {
   "cell_type": "code",
   "execution_count": 13,
   "id": "0480b91d-e5f0-435d-bec2-98fa8d24fdef",
   "metadata": {},
   "outputs": [
    {
     "name": "stdout",
     "output_type": "stream",
     "text": [
      "[{'metadata': {'datafiles': ['http://www.phenome-fppn.fr/id/provenance/grain_sample_hte_prov/6'],\n",
      "               'pagination': {'currentPage': 0,\n",
      "                              'pageSize': 0,\n",
      "                              'totalCount': 0,\n",
      "                              'totalPages': 0},\n",
      "               'status': []},\n",
      "  'result': ['http://www.phenome-fppn.fr/id/provenance/grain_sample_hte_prov/6']},\n",
      " {'metadata': {'datafiles': ['http://www.phenome-fppn.fr/id/provenance/grain_sample_nbk_prov/6'],\n",
      "               'pagination': {'currentPage': 0,\n",
      "                              'pageSize': 0,\n",
      "                              'totalCount': 0,\n",
      "                              'totalPages': 0},\n",
      "               'status': []},\n",
      "  'result': ['http://www.phenome-fppn.fr/id/provenance/grain_sample_nbk_prov/6']},\n",
      " {'metadata': {'datafiles': ['http://www.phenome-fppn.fr/id/provenance/grain_sample_poids_prov/6'],\n",
      "               'pagination': {'currentPage': 0,\n",
      "                              'pageSize': 0,\n",
      "                              'totalCount': 0,\n",
      "                              'totalPages': 0},\n",
      "               'status': []},\n",
      "  'result': ['http://www.phenome-fppn.fr/id/provenance/grain_sample_poids_prov/6']},\n",
      " {'metadata': {'datafiles': ['http://www.phenome-fppn.fr/id/provenance/grain_sample_pmg_prov/6'],\n",
      "               'pagination': {'currentPage': 0,\n",
      "                              'pageSize': 0,\n",
      "                              'totalCount': 0,\n",
      "                              'totalPages': 0},\n",
      "               'status': []},\n",
      "  'result': ['http://www.phenome-fppn.fr/id/provenance/grain_sample_pmg_prov/6']},\n",
      " {'metadata': {'datafiles': ['http://www.phenome-fppn.fr/id/provenance/grain_sample_pmg15_prov/6'],\n",
      "               'pagination': {'currentPage': 0,\n",
      "                              'pageSize': 0,\n",
      "                              'totalCount': 0,\n",
      "                              'totalPages': 0},\n",
      "               'status': []},\n",
      "  'result': ['http://www.phenome-fppn.fr/id/provenance/grain_sample_pmg15_prov/6']}]\n"
     ]
    }
   ],
   "source": [
    "res_prov = [\n",
    "    data_api_instance.create_provenance(body=body)\n",
    "    for body in bodies\n",
    "]\n",
    "pprint(res_prov)"
   ]
  },
  {
   "cell_type": "markdown",
   "id": "7cf77227-61be-4572-b37c-1ec33828b406",
   "metadata": {},
   "source": [
    "The Provenances' URIs are retrieved from `res_prov`"
   ]
  },
  {
   "cell_type": "code",
   "execution_count": 14,
   "id": "7c8a29e8-35d8-47b7-b699-94d2e519586f",
   "metadata": {},
   "outputs": [
    {
     "data": {
      "text/plain": [
       "['http://www.phenome-fppn.fr/id/provenance/grain_sample_hte_prov/6',\n",
       " 'http://www.phenome-fppn.fr/id/provenance/grain_sample_nbk_prov/6',\n",
       " 'http://www.phenome-fppn.fr/id/provenance/grain_sample_poids_prov/6',\n",
       " 'http://www.phenome-fppn.fr/id/provenance/grain_sample_pmg_prov/6',\n",
       " 'http://www.phenome-fppn.fr/id/provenance/grain_sample_pmg15_prov/6']"
      ]
     },
     "execution_count": 14,
     "metadata": {},
     "output_type": "execute_result"
    }
   ],
   "source": [
    "prov_uris = [prov['result'][0] for prov in res_prov]\n",
    "prov_uris"
   ]
  },
  {
   "cell_type": "markdown",
   "id": "28edba78-e4a1-4842-9cb3-66840f781b35",
   "metadata": {},
   "source": [
    "---\n",
    "#   "
   ]
  },
  {
   "cell_type": "markdown",
   "id": "1a8eed60-5b0c-4a45-b7a3-052977ff954f",
   "metadata": {},
   "source": [
    "## 2) Creating the Variables\n",
    "---"
   ]
  },
  {
   "cell_type": "markdown",
   "id": "4af731e8-cb0c-4530-827d-8aa4b1ea7602",
   "metadata": {},
   "source": [
    "To create the Variables substeps are needed"
   ]
  },
  {
   "cell_type": "markdown",
   "id": "b5efe982-6e56-4d10-89b9-9f802cc0f6bb",
   "metadata": {},
   "source": [
    "### Substep 1 : Entity creation"
   ]
  },
  {
   "cell_type": "markdown",
   "id": "fcf87e3a-88a5-4287-856b-3f98be07c476",
   "metadata": {},
   "source": [
    "Only one entity needs to be created as all these refer to grain samples"
   ]
  },
  {
   "cell_type": "markdown",
   "id": "563c3fd0-1e39-4cd1-8a5b-0354d5078093",
   "metadata": {},
   "source": [
    "`EntityCreationDTO` is used to make the right format of Json to create an Entity"
   ]
  },
  {
   "cell_type": "code",
   "execution_count": 15,
   "id": "3fdb90f4-5722-432d-9a01-eeb66bf466ee",
   "metadata": {
    "tags": []
   },
   "outputs": [
    {
     "name": "stdout",
     "output_type": "stream",
     "text": [
      "{'broad_match': None,\n",
      " 'close_match': None,\n",
      " 'description': None,\n",
      " 'exact_match': None,\n",
      " 'name': 'Grain_sample',\n",
      " 'narrow_match': None,\n",
      " 'uri': None}\n"
     ]
    }
   ],
   "source": [
    "body = opensilexClientToolsPython.EntityCreationDTO(name=\"Grain_sample\")\n",
    "pprint(body)"
   ]
  },
  {
   "cell_type": "markdown",
   "id": "3c16ad3e-b053-4038-a69d-d93771ee53d6",
   "metadata": {},
   "source": [
    "The Entity is then created"
   ]
  },
  {
   "cell_type": "code",
   "execution_count": 16,
   "id": "68f6d804-7262-4995-aa19-d03d3a1d40bd",
   "metadata": {},
   "outputs": [
    {
     "name": "stdout",
     "output_type": "stream",
     "text": [
      "{'metadata': {'datafiles': ['test:set/variables#variable.entity.grain_sample/6'],\n",
      "              'pagination': {'currentPage': 0,\n",
      "                             'pageSize': 0,\n",
      "                             'totalCount': 0,\n",
      "                             'totalPages': 0},\n",
      "              'status': []},\n",
      " 'result': ['test:set/variables#variable.entity.grain_sample/6']}\n"
     ]
    }
   ],
   "source": [
    "res_entity = var_api_instance.create_entity(body=body)\n",
    "pprint(res_entity)"
   ]
  },
  {
   "cell_type": "markdown",
   "id": "2b369dbd-9c3f-4244-9377-d4bf763a53ab",
   "metadata": {},
   "source": [
    "The Entity's URI is retrieved from `res_entity`"
   ]
  },
  {
   "cell_type": "code",
   "execution_count": 17,
   "id": "0d24ef48-ebbf-40c0-b995-7f3db894d821",
   "metadata": {},
   "outputs": [
    {
     "data": {
      "text/plain": [
       "'test:set/variables#variable.entity.grain_sample/6'"
      ]
     },
     "execution_count": 17,
     "metadata": {},
     "output_type": "execute_result"
    }
   ],
   "source": [
    "entity_uri = res_entity['result'][0]\n",
    "entity_uri"
   ]
  },
  {
   "cell_type": "markdown",
   "id": "73aa0ea3-a2d2-4753-bb56-7c4b4f3de72a",
   "metadata": {},
   "source": [
    "   "
   ]
  },
  {
   "cell_type": "markdown",
   "id": "5a008f70-95a0-4be4-aa24-1f13a4e3995d",
   "metadata": {},
   "source": [
    "### Substep 2 : Characteristic creation"
   ]
  },
  {
   "cell_type": "markdown",
   "id": "bb8e5311-92c4-4da9-881e-4291b37f41de",
   "metadata": {},
   "source": [
    "One Characteristic is created for each variable"
   ]
  },
  {
   "cell_type": "code",
   "execution_count": 18,
   "id": "3f09d915-279d-42f2-a3b6-d27cbf3b356a",
   "metadata": {},
   "outputs": [
    {
     "data": {
      "text/plain": [
       "['Hte', 'nbk', 'Poids', 'PMG', 'PMG15']"
      ]
     },
     "execution_count": 18,
     "metadata": {},
     "output_type": "execute_result"
    }
   ],
   "source": [
    "vars_kept"
   ]
  },
  {
   "cell_type": "code",
   "execution_count": 19,
   "id": "457c50c5-ff58-45cc-a126-39473201fdee",
   "metadata": {},
   "outputs": [],
   "source": [
    "char_dict = {\n",
    "    'Hte' : 'Humidity level',\n",
    "    'nbk' : 'Number of grains',\n",
    "    'Poids' : 'Weight of sample',\n",
    "    'PMG' : 'Thousand seeds weight',\n",
    "    'PMG15' : 'Thousand seeds weight 15%'\n",
    "}"
   ]
  },
  {
   "cell_type": "markdown",
   "id": "d46987ca-c893-475c-a207-ad801d511e3b",
   "metadata": {},
   "source": [
    "`CharacteristicCreationDTO` is used to make the right format of Json to create a Characteristic"
   ]
  },
  {
   "cell_type": "code",
   "execution_count": 20,
   "id": "906e363d-4b2c-4b60-b282-e32f3a31ec76",
   "metadata": {},
   "outputs": [
    {
     "name": "stdout",
     "output_type": "stream",
     "text": [
      "[{'broad_match': None,\n",
      " 'close_match': None,\n",
      " 'description': None,\n",
      " 'exact_match': None,\n",
      " 'name': 'Humidity level',\n",
      " 'narrow_match': None,\n",
      " 'uri': None},\n",
      " {'broad_match': None,\n",
      " 'close_match': None,\n",
      " 'description': None,\n",
      " 'exact_match': None,\n",
      " 'name': 'Number of grains',\n",
      " 'narrow_match': None,\n",
      " 'uri': None},\n",
      " {'broad_match': None,\n",
      " 'close_match': None,\n",
      " 'description': None,\n",
      " 'exact_match': None,\n",
      " 'name': 'Weight of sample',\n",
      " 'narrow_match': None,\n",
      " 'uri': None},\n",
      " {'broad_match': None,\n",
      " 'close_match': None,\n",
      " 'description': None,\n",
      " 'exact_match': None,\n",
      " 'name': 'Thousand seeds weight',\n",
      " 'narrow_match': None,\n",
      " 'uri': None},\n",
      " {'broad_match': None,\n",
      " 'close_match': None,\n",
      " 'description': None,\n",
      " 'exact_match': None,\n",
      " 'name': 'Thousand seeds weight 15%',\n",
      " 'narrow_match': None,\n",
      " 'uri': None}]\n"
     ]
    }
   ],
   "source": [
    "cc_dto = opensilexClientToolsPython.CharacteristicCreationDTO\n",
    "bodies = [cc_dto(name=char_dict[x]) for x in vars_kept]\n",
    "pprint(bodies)"
   ]
  },
  {
   "cell_type": "markdown",
   "id": "13a0c2a0-b48b-4508-84e2-516f001a1c68",
   "metadata": {},
   "source": [
    "The Characteristics are then created"
   ]
  },
  {
   "cell_type": "code",
   "execution_count": 21,
   "id": "afac1a38-0b76-4466-8485-4ede97563a7d",
   "metadata": {},
   "outputs": [
    {
     "name": "stdout",
     "output_type": "stream",
     "text": [
      "[{'metadata': {'datafiles': ['test:set/variables#characteristic.humidity-level/7'],\n",
      "               'pagination': {'currentPage': 0,\n",
      "                              'pageSize': 0,\n",
      "                              'totalCount': 0,\n",
      "                              'totalPages': 0},\n",
      "               'status': []},\n",
      "  'result': ['test:set/variables#characteristic.humidity-level/7']},\n",
      " {'metadata': {'datafiles': ['test:set/variables#characteristic.number-of-grains/6'],\n",
      "               'pagination': {'currentPage': 0,\n",
      "                              'pageSize': 0,\n",
      "                              'totalCount': 0,\n",
      "                              'totalPages': 0},\n",
      "               'status': []},\n",
      "  'result': ['test:set/variables#characteristic.number-of-grains/6']},\n",
      " {'metadata': {'datafiles': ['test:set/variables#characteristic.weight-of-sample/6'],\n",
      "               'pagination': {'currentPage': 0,\n",
      "                              'pageSize': 0,\n",
      "                              'totalCount': 0,\n",
      "                              'totalPages': 0},\n",
      "               'status': []},\n",
      "  'result': ['test:set/variables#characteristic.weight-of-sample/6']},\n",
      " {'metadata': {'datafiles': ['test:set/variables#characteristic.thousand-seeds-weight/6'],\n",
      "               'pagination': {'currentPage': 0,\n",
      "                              'pageSize': 0,\n",
      "                              'totalCount': 0,\n",
      "                              'totalPages': 0},\n",
      "               'status': []},\n",
      "  'result': ['test:set/variables#characteristic.thousand-seeds-weight/6']},\n",
      " {'metadata': {'datafiles': ['test:set/variables#characteristic.thousand-seeds-weight-15/6'],\n",
      "               'pagination': {'currentPage': 0,\n",
      "                              'pageSize': 0,\n",
      "                              'totalCount': 0,\n",
      "                              'totalPages': 0},\n",
      "               'status': []},\n",
      "  'result': ['test:set/variables#characteristic.thousand-seeds-weight-15/6']}]\n"
     ]
    }
   ],
   "source": [
    "res_char = [\n",
    "    var_api_instance.create_characteristic(body=body)\n",
    "    for body in bodies\n",
    "]\n",
    "pprint(res_char)"
   ]
  },
  {
   "cell_type": "markdown",
   "id": "a9544d20-b37e-469f-bd0b-29eb7bdef3f6",
   "metadata": {},
   "source": [
    "The Characteristics' URIs are retrieved from `res_char`"
   ]
  },
  {
   "cell_type": "code",
   "execution_count": 22,
   "id": "185f5d36-3666-41dc-a1f8-8ef22ff59b21",
   "metadata": {},
   "outputs": [
    {
     "data": {
      "text/plain": [
       "['test:set/variables#characteristic.humidity-level/7',\n",
       " 'test:set/variables#characteristic.number-of-grains/6',\n",
       " 'test:set/variables#characteristic.weight-of-sample/6',\n",
       " 'test:set/variables#characteristic.thousand-seeds-weight/6',\n",
       " 'test:set/variables#characteristic.thousand-seeds-weight-15/6']"
      ]
     },
     "execution_count": 22,
     "metadata": {},
     "output_type": "execute_result"
    }
   ],
   "source": [
    "char_uris = [char['result'][0] for char in res_char]\n",
    "char_uris"
   ]
  },
  {
   "cell_type": "markdown",
   "id": "747b48e2-122b-4248-9776-f34e8e61ffdc",
   "metadata": {},
   "source": [
    "   "
   ]
  },
  {
   "cell_type": "markdown",
   "id": "670ba24d-25d4-4baa-b59f-d7f824272c06",
   "metadata": {},
   "source": [
    "### Substep 3 : Unit creation"
   ]
  },
  {
   "cell_type": "markdown",
   "id": "f77a8ba5-4ba7-426f-b071-9d2c996f7ab8",
   "metadata": {},
   "source": [
    "One Unit is created for each variable"
   ]
  },
  {
   "cell_type": "code",
   "execution_count": 23,
   "id": "71062749-b196-46ee-8243-834c5929c1d2",
   "metadata": {},
   "outputs": [
    {
     "data": {
      "text/plain": [
       "['Hte', 'nbk', 'Poids', 'PMG', 'PMG15']"
      ]
     },
     "execution_count": 23,
     "metadata": {},
     "output_type": "execute_result"
    }
   ],
   "source": [
    "vars_kept"
   ]
  },
  {
   "cell_type": "code",
   "execution_count": 24,
   "id": "ff8770c0-30e9-416c-ad15-d8bb32727bf0",
   "metadata": {},
   "outputs": [],
   "source": [
    "unit_dict = {\n",
    "    'Hte' : 'Humidity %',\n",
    "    'nbk' : 'Number of grains',\n",
    "    'Poids' : 'grams',\n",
    "    'PMG' : 'grams per thousand seeds',\n",
    "    'PMG15' : 'grams per thousand seeds'\n",
    "}"
   ]
  },
  {
   "cell_type": "markdown",
   "id": "1910bb67-30d4-49a1-b091-f67c9652e0c5",
   "metadata": {},
   "source": [
    "`UnitCreationDTO` is used to make the right format of Json to create a Unit"
   ]
  },
  {
   "cell_type": "code",
   "execution_count": 25,
   "id": "a540fb16-f1ea-49d9-b6ce-aa84c08d34ba",
   "metadata": {
    "tags": []
   },
   "outputs": [
    {
     "name": "stdout",
     "output_type": "stream",
     "text": [
      "[{'alternative_symbol': None,\n",
      " 'broad_match': None,\n",
      " 'close_match': None,\n",
      " 'description': None,\n",
      " 'exact_match': None,\n",
      " 'name': 'Humidity %',\n",
      " 'narrow_match': None,\n",
      " 'symbol': None,\n",
      " 'uri': None},\n",
      " {'alternative_symbol': None,\n",
      " 'broad_match': None,\n",
      " 'close_match': None,\n",
      " 'description': None,\n",
      " 'exact_match': None,\n",
      " 'name': 'Number of grains',\n",
      " 'narrow_match': None,\n",
      " 'symbol': None,\n",
      " 'uri': None},\n",
      " {'alternative_symbol': None,\n",
      " 'broad_match': None,\n",
      " 'close_match': None,\n",
      " 'description': None,\n",
      " 'exact_match': None,\n",
      " 'name': 'grams',\n",
      " 'narrow_match': None,\n",
      " 'symbol': None,\n",
      " 'uri': None},\n",
      " {'alternative_symbol': None,\n",
      " 'broad_match': None,\n",
      " 'close_match': None,\n",
      " 'description': None,\n",
      " 'exact_match': None,\n",
      " 'name': 'grams per thousand seeds',\n",
      " 'narrow_match': None,\n",
      " 'symbol': None,\n",
      " 'uri': None},\n",
      " {'alternative_symbol': None,\n",
      " 'broad_match': None,\n",
      " 'close_match': None,\n",
      " 'description': None,\n",
      " 'exact_match': None,\n",
      " 'name': 'grams per thousand seeds',\n",
      " 'narrow_match': None,\n",
      " 'symbol': None,\n",
      " 'uri': None}]\n"
     ]
    }
   ],
   "source": [
    "uc_dto = opensilexClientToolsPython.UnitCreationDTO\n",
    "bodies = [uc_dto(name=unit_dict[x]) for x in vars_kept]\n",
    "pprint(bodies)"
   ]
  },
  {
   "cell_type": "markdown",
   "id": "0a4172bc-6c43-433e-93ef-fd710a6d9e06",
   "metadata": {},
   "source": [
    "The Characteristics are then created"
   ]
  },
  {
   "cell_type": "code",
   "execution_count": 26,
   "id": "0cca763e-b3d0-4e15-aa63-2ae571c90577",
   "metadata": {},
   "outputs": [
    {
     "name": "stdout",
     "output_type": "stream",
     "text": [
      "[{'metadata': {'datafiles': ['test:set/variables#variable.unit.humidity-/7'],\n",
      "               'pagination': {'currentPage': 0,\n",
      "                              'pageSize': 0,\n",
      "                              'totalCount': 0,\n",
      "                              'totalPages': 0},\n",
      "               'status': []},\n",
      "  'result': ['test:set/variables#variable.unit.humidity-/7']},\n",
      " {'metadata': {'datafiles': ['test:set/variables#variable.unit.number-of-grains/6'],\n",
      "               'pagination': {'currentPage': 0,\n",
      "                              'pageSize': 0,\n",
      "                              'totalCount': 0,\n",
      "                              'totalPages': 0},\n",
      "               'status': []},\n",
      "  'result': ['test:set/variables#variable.unit.number-of-grains/6']},\n",
      " {'metadata': {'datafiles': ['test:set/variables#variable.unit.grams/6'],\n",
      "               'pagination': {'currentPage': 0,\n",
      "                              'pageSize': 0,\n",
      "                              'totalCount': 0,\n",
      "                              'totalPages': 0},\n",
      "               'status': []},\n",
      "  'result': ['test:set/variables#variable.unit.grams/6']},\n",
      " {'metadata': {'datafiles': ['test:set/variables#variable.unit.grams-per-thousand-seeds/12'],\n",
      "               'pagination': {'currentPage': 0,\n",
      "                              'pageSize': 0,\n",
      "                              'totalCount': 0,\n",
      "                              'totalPages': 0},\n",
      "               'status': []},\n",
      "  'result': ['test:set/variables#variable.unit.grams-per-thousand-seeds/12']},\n",
      " {'metadata': {'datafiles': ['test:set/variables#variable.unit.grams-per-thousand-seeds/13'],\n",
      "               'pagination': {'currentPage': 0,\n",
      "                              'pageSize': 0,\n",
      "                              'totalCount': 0,\n",
      "                              'totalPages': 0},\n",
      "               'status': []},\n",
      "  'result': ['test:set/variables#variable.unit.grams-per-thousand-seeds/13']}]\n"
     ]
    }
   ],
   "source": [
    "res_unit = [\n",
    "    var_api_instance.create_unit(body=body)\n",
    "    for body in bodies\n",
    "]\n",
    "pprint(res_unit)"
   ]
  },
  {
   "cell_type": "markdown",
   "id": "52a0c6aa-8c91-4ecb-ad1a-dbcd95667ea4",
   "metadata": {},
   "source": [
    "The Units' URIs are retrieved from `res_unit`"
   ]
  },
  {
   "cell_type": "code",
   "execution_count": 27,
   "id": "9d8fbcab-0eb6-490f-aeaf-6430c94dcf0b",
   "metadata": {},
   "outputs": [
    {
     "data": {
      "text/plain": [
       "['test:set/variables#variable.unit.humidity-/7',\n",
       " 'test:set/variables#variable.unit.number-of-grains/6',\n",
       " 'test:set/variables#variable.unit.grams/6',\n",
       " 'test:set/variables#variable.unit.grams-per-thousand-seeds/12',\n",
       " 'test:set/variables#variable.unit.grams-per-thousand-seeds/13']"
      ]
     },
     "execution_count": 27,
     "metadata": {},
     "output_type": "execute_result"
    }
   ],
   "source": [
    "unit_uris = [unit['result'][0] for unit in res_unit]\n",
    "unit_uris"
   ]
  },
  {
   "cell_type": "markdown",
   "id": "06825114-cae2-4fe6-a003-e879061383ae",
   "metadata": {},
   "source": [
    "__Note__ : a duplicate unit was created by mistake"
   ]
  },
  {
   "cell_type": "markdown",
   "id": "91c61832-ed75-4fc6-9150-e889602c1166",
   "metadata": {},
   "source": [
    "   "
   ]
  },
  {
   "cell_type": "markdown",
   "id": "2da29ed7-79f2-42b3-885c-845fdcd5395f",
   "metadata": {},
   "source": [
    "### Substep 4 : Variables creation"
   ]
  },
  {
   "cell_type": "markdown",
   "id": "518b9993-9ac4-48cb-b0d2-c26bfd094778",
   "metadata": {},
   "source": [
    "Fetching the datatypes to get the right datatype's URI"
   ]
  },
  {
   "cell_type": "code",
   "execution_count": 28,
   "id": "ff02a803-8a5c-403e-add7-5b04a852ba06",
   "metadata": {},
   "outputs": [
    {
     "data": {
      "text/plain": [
       "{'result': [{'name': 'datatypes.boolean', 'uri': 'http://www.w3.org/2001/XMLSchema#boolean'},\n",
       "  {'name': 'datatypes.date', 'uri': 'http://www.w3.org/2001/XMLSchema#date'},\n",
       "  {'name': 'datatypes.decimal', 'uri': 'http://www.w3.org/2001/XMLSchema#decimal'},\n",
       "  {'name': 'datatypes.number', 'uri': 'http://www.w3.org/2001/XMLSchema#integer'},\n",
       "  {'name': 'datatypes.string', 'uri': 'http://www.w3.org/2001/XMLSchema#string'}],\n",
       " 'metadata': {'pagination': {'pageSize': 5,\n",
       "   'currentPage': 0,\n",
       "   'totalCount': 5,\n",
       "   'totalPages': 1},\n",
       "  'status': [],\n",
       "  'datafiles': []}}"
      ]
     },
     "execution_count": 28,
     "metadata": {},
     "output_type": "execute_result"
    }
   ],
   "source": [
    "datatypes = var_api_instance.get_datatypes()\n",
    "datatypes"
   ]
  },
  {
   "cell_type": "markdown",
   "id": "af292458-db2c-41cc-bc68-231d2c7726a4",
   "metadata": {},
   "source": [
    "Keep only decimal and number datatype's URI"
   ]
  },
  {
   "cell_type": "code",
   "execution_count": 29,
   "id": "26274f77-0bdc-4530-9db2-05f51ec09b53",
   "metadata": {},
   "outputs": [
    {
     "data": {
      "text/plain": [
       "['http://www.w3.org/2001/XMLSchema#decimal',\n",
       " 'http://www.w3.org/2001/XMLSchema#integer',\n",
       " 'http://www.w3.org/2001/XMLSchema#decimal',\n",
       " 'http://www.w3.org/2001/XMLSchema#decimal',\n",
       " 'http://www.w3.org/2001/XMLSchema#decimal']"
      ]
     },
     "execution_count": 29,
     "metadata": {},
     "output_type": "execute_result"
    }
   ],
   "source": [
    "dec = datatypes['result'][2].uri\n",
    "num = datatypes['result'][3].uri\n",
    "datatypes_uris = [dec, num, dec, dec, dec]\n",
    "datatypes_uris"
   ]
  },
  {
   "cell_type": "markdown",
   "id": "708eb0d7-8358-425e-add7-5fca31691866",
   "metadata": {},
   "source": [
    "`VariableCreationDTO` is used to make the right format of Json to create a Variable"
   ]
  },
  {
   "cell_type": "code",
   "execution_count": 30,
   "id": "5c20262c-c0f2-435e-b793-d2851762b0a9",
   "metadata": {},
   "outputs": [
    {
     "name": "stdout",
     "output_type": "stream",
     "text": [
      "[{'alternative_name': None,\n",
      " 'broad_match': None,\n",
      " 'characteristic': 'test:set/variables#characteristic.humidity-level/7',\n",
      " 'close_match': None,\n",
      " 'datatype': 'http://www.w3.org/2001/XMLSchema#decimal',\n",
      " 'description': None,\n",
      " 'entity': 'test:set/variables#variable.entity.grain_sample/6',\n",
      " 'exact_match': None,\n",
      " 'method': None,\n",
      " 'name': 'Hte',\n",
      " 'narrow_match': None,\n",
      " 'sampling_interval': None,\n",
      " 'time_interval': None,\n",
      " 'trait': None,\n",
      " 'trait_name': None,\n",
      " 'unit': 'test:set/variables#variable.unit.humidity-/7',\n",
      " 'uri': None},\n",
      " {'alternative_name': None,\n",
      " 'broad_match': None,\n",
      " 'characteristic': 'test:set/variables#characteristic.number-of-grains/6',\n",
      " 'close_match': None,\n",
      " 'datatype': 'http://www.w3.org/2001/XMLSchema#integer',\n",
      " 'description': None,\n",
      " 'entity': 'test:set/variables#variable.entity.grain_sample/6',\n",
      " 'exact_match': None,\n",
      " 'method': None,\n",
      " 'name': 'nbk',\n",
      " 'narrow_match': None,\n",
      " 'sampling_interval': None,\n",
      " 'time_interval': None,\n",
      " 'trait': None,\n",
      " 'trait_name': None,\n",
      " 'unit': 'test:set/variables#variable.unit.number-of-grains/6',\n",
      " 'uri': None},\n",
      " {'alternative_name': None,\n",
      " 'broad_match': None,\n",
      " 'characteristic': 'test:set/variables#characteristic.weight-of-sample/6',\n",
      " 'close_match': None,\n",
      " 'datatype': 'http://www.w3.org/2001/XMLSchema#decimal',\n",
      " 'description': None,\n",
      " 'entity': 'test:set/variables#variable.entity.grain_sample/6',\n",
      " 'exact_match': None,\n",
      " 'method': None,\n",
      " 'name': 'Poids',\n",
      " 'narrow_match': None,\n",
      " 'sampling_interval': None,\n",
      " 'time_interval': None,\n",
      " 'trait': None,\n",
      " 'trait_name': None,\n",
      " 'unit': 'test:set/variables#variable.unit.grams/6',\n",
      " 'uri': None},\n",
      " {'alternative_name': None,\n",
      " 'broad_match': None,\n",
      " 'characteristic': 'test:set/variables#characteristic.thousand-seeds-weight/6',\n",
      " 'close_match': None,\n",
      " 'datatype': 'http://www.w3.org/2001/XMLSchema#decimal',\n",
      " 'description': None,\n",
      " 'entity': 'test:set/variables#variable.entity.grain_sample/6',\n",
      " 'exact_match': None,\n",
      " 'method': None,\n",
      " 'name': 'PMG',\n",
      " 'narrow_match': None,\n",
      " 'sampling_interval': None,\n",
      " 'time_interval': None,\n",
      " 'trait': None,\n",
      " 'trait_name': None,\n",
      " 'unit': 'test:set/variables#variable.unit.grams-per-thousand-seeds/12',\n",
      " 'uri': None},\n",
      " {'alternative_name': None,\n",
      " 'broad_match': None,\n",
      " 'characteristic': 'test:set/variables#characteristic.thousand-seeds-weight-15/6',\n",
      " 'close_match': None,\n",
      " 'datatype': 'http://www.w3.org/2001/XMLSchema#decimal',\n",
      " 'description': None,\n",
      " 'entity': 'test:set/variables#variable.entity.grain_sample/6',\n",
      " 'exact_match': None,\n",
      " 'method': None,\n",
      " 'name': 'PMG15',\n",
      " 'narrow_match': None,\n",
      " 'sampling_interval': None,\n",
      " 'time_interval': None,\n",
      " 'trait': None,\n",
      " 'trait_name': None,\n",
      " 'unit': 'test:set/variables#variable.unit.grams-per-thousand-seeds/13',\n",
      " 'uri': None}]\n"
     ]
    }
   ],
   "source": [
    "vc_dto = opensilexClientToolsPython.VariableCreationDTO\n",
    "bodies = [\n",
    "    vc_dto(name=vars_kept[x],\n",
    "           entity=entity_uri,\n",
    "           characteristic=char_uris[x], unit=unit_uris[x],\n",
    "           datatype=datatypes_uris[x])\n",
    "    for x in range(0, len(vars_kept))\n",
    "]\n",
    "pprint(bodies)"
   ]
  },
  {
   "cell_type": "markdown",
   "id": "45034e25-3c2e-4612-82d0-25f16505e453",
   "metadata": {},
   "source": [
    "The variables are then created"
   ]
  },
  {
   "cell_type": "code",
   "execution_count": 31,
   "id": "608a2f77-663d-4ffd-a856-e6b22c503e3a",
   "metadata": {},
   "outputs": [
    {
     "name": "stdout",
     "output_type": "stream",
     "text": [
      "[{'metadata': {'datafiles': ['test:set/variables#variable.hte/8'],\n",
      "               'pagination': {'currentPage': 0,\n",
      "                              'pageSize': 0,\n",
      "                              'totalCount': 0,\n",
      "                              'totalPages': 0},\n",
      "               'status': []},\n",
      "  'result': ['test:set/variables#variable.hte/8']},\n",
      " {'metadata': {'datafiles': ['test:set/variables#variable.nbk/8'],\n",
      "               'pagination': {'currentPage': 0,\n",
      "                              'pageSize': 0,\n",
      "                              'totalCount': 0,\n",
      "                              'totalPages': 0},\n",
      "               'status': []},\n",
      "  'result': ['test:set/variables#variable.nbk/8']},\n",
      " {'metadata': {'datafiles': ['test:set/variables#variable.poids/8'],\n",
      "               'pagination': {'currentPage': 0,\n",
      "                              'pageSize': 0,\n",
      "                              'totalCount': 0,\n",
      "                              'totalPages': 0},\n",
      "               'status': []},\n",
      "  'result': ['test:set/variables#variable.poids/8']},\n",
      " {'metadata': {'datafiles': ['test:set/variables#variable.pmg/7'],\n",
      "               'pagination': {'currentPage': 0,\n",
      "                              'pageSize': 0,\n",
      "                              'totalCount': 0,\n",
      "                              'totalPages': 0},\n",
      "               'status': []},\n",
      "  'result': ['test:set/variables#variable.pmg/7']},\n",
      " {'metadata': {'datafiles': ['test:set/variables#variable.pmg15/7'],\n",
      "               'pagination': {'currentPage': 0,\n",
      "                              'pageSize': 0,\n",
      "                              'totalCount': 0,\n",
      "                              'totalPages': 0},\n",
      "               'status': []},\n",
      "  'result': ['test:set/variables#variable.pmg15/7']}]\n"
     ]
    }
   ],
   "source": [
    "res_var = [\n",
    "    var_api_instance.create_variable(body=body)\n",
    "    for body in bodies\n",
    "]\n",
    "pprint(res_var)"
   ]
  },
  {
   "cell_type": "markdown",
   "id": "e66d0fb7-4812-40af-a97a-c6799440a5bd",
   "metadata": {},
   "source": [
    "The Variable's URI is retrieved from `res_var`"
   ]
  },
  {
   "cell_type": "code",
   "execution_count": 32,
   "id": "109bbe38-9d1a-4ad2-9b11-0681de89443a",
   "metadata": {},
   "outputs": [
    {
     "data": {
      "text/plain": [
       "['test:set/variables#variable.hte/8',\n",
       " 'test:set/variables#variable.nbk/8',\n",
       " 'test:set/variables#variable.poids/8',\n",
       " 'test:set/variables#variable.pmg/7',\n",
       " 'test:set/variables#variable.pmg15/7']"
      ]
     },
     "execution_count": 32,
     "metadata": {},
     "output_type": "execute_result"
    }
   ],
   "source": [
    "var_uris = [var['result'][0] for var in res_var]\n",
    "var_uris"
   ]
  },
  {
   "cell_type": "markdown",
   "id": "4bedd886-ebb8-43cf-8f9f-2c332bdead56",
   "metadata": {},
   "source": [
    "---\n",
    "#    "
   ]
  },
  {
   "cell_type": "markdown",
   "id": "6eb8865c-4661-42f6-902b-76bf57b4366d",
   "metadata": {},
   "source": [
    "## 4) Creating the Scientific Objects\n",
    "---"
   ]
  },
  {
   "cell_type": "markdown",
   "id": "ac965874-3b94-40b3-882d-f8170e839ff8",
   "metadata": {},
   "source": [
    "Fetching the datatypes to get the right datatype's URI"
   ]
  },
  {
   "cell_type": "code",
   "execution_count": 33,
   "id": "8d2594fd-5d12-4327-9eb2-2f7dcad49240",
   "metadata": {},
   "outputs": [
    {
     "data": {
      "text/plain": [
       "{'result': [{'name': 'leaf', 'uri': 'http://www.opensilex.org/vocabulary/oeso#Leaf'},\n",
       "  {'name': 'seed', 'uri': 'http://www.opensilex.org/vocabulary/oeso#Seed'},\n",
       "  {'name': 'scion', 'uri': 'http://www.opensilex.org/vocabulary/oeso#Scion'},\n",
       "  {'name': 'plant', 'uri': 'http://www.opensilex.org/vocabulary/oeso#Plant'},\n",
       "  {'name': 'plot', 'uri': 'http://www.opensilex.org/vocabulary/oeso#Plot'},\n",
       "  {'name': 'silk', 'uri': 'http://www.opensilex.org/vocabulary/oeso#Silk'},\n",
       "  {'name': 'rootstock',\n",
       "   'uri': 'http://www.opensilex.org/vocabulary/oeso#Rootstock'},\n",
       "  {'name': 'Sub plot', 'uri': 'http://www.opensilex.org/vocabulary/oeso#SubPlot'},\n",
       "  {'name': 'Pot', 'uri': 'http://www.opensilex.org/vocabulary/oeso#Pot'},\n",
       "  {'name': 'Rosette', 'uri': 'http://www.opensilex.org/vocabulary/oeso#Rosette'},\n",
       "  {'name': 'test_renaud_bug_update_type',\n",
       "   'uri': 'dev:test_renaud_bug_update_type'},\n",
       "  {'name': 'os-type-test',\n",
       "   'uri': 'http://www.opensilex.org/vocabulary/oeso#os-type-test'},\n",
       "  {'name': 'petit-os', 'uri': 'http://www.opensilex.org/vocabulary/oeso#petit-os'},\n",
       "  {'name': 'testtest', 'uri': 'http://www.opensilex.org/vocabulary/oeso#testtest'}],\n",
       " 'metadata': {'pagination': {'pageSize': 14,\n",
       "   'currentPage': 0,\n",
       "   'totalCount': 14,\n",
       "   'totalPages': 1},\n",
       "  'status': [],\n",
       "  'datafiles': []}}"
      ]
     },
     "execution_count": 33,
     "metadata": {},
     "output_type": "execute_result"
    }
   ],
   "source": [
    "obj_types = obj_api_instance.get_used_types()\n",
    "obj_types"
   ]
  },
  {
   "cell_type": "markdown",
   "id": "727daeb1-966a-4639-b374-d92c141d040e",
   "metadata": {},
   "source": [
    "Keep only plot Object type URI"
   ]
  },
  {
   "cell_type": "code",
   "execution_count": 34,
   "id": "126c8c5d-0ec4-4a54-b163-18417e7ee141",
   "metadata": {},
   "outputs": [
    {
     "data": {
      "text/plain": [
       "'http://www.opensilex.org/vocabulary/oeso#Plot'"
      ]
     },
     "execution_count": 34,
     "metadata": {},
     "output_type": "execute_result"
    }
   ],
   "source": [
    "objtype_uri = [x.uri for x in obj_types['result'] if x.name == 'plot'][0]\n",
    "objtype_uri"
   ]
  },
  {
   "cell_type": "markdown",
   "id": "f39a7122-e294-4813-9c3c-d68450a81e27",
   "metadata": {},
   "source": [
    "`ScientificObjectCreationDTO` is used to make the right format of Json to create Scientific Objects"
   ]
  },
  {
   "cell_type": "code",
   "execution_count": 35,
   "id": "ef5749a9-476f-4d42-929c-3fc01795214a",
   "metadata": {},
   "outputs": [
    {
     "name": "stdout",
     "output_type": "stream",
     "text": [
      "[{'experiment': None,\n",
      " 'geometry': None,\n",
      " 'name': '10',\n",
      " 'rdf_type': 'http://www.opensilex.org/vocabulary/oeso#Plot',\n",
      " 'relations': None,\n",
      " 'uri': None},\n",
      " {'experiment': None,\n",
      " 'geometry': None,\n",
      " 'name': '26',\n",
      " 'rdf_type': 'http://www.opensilex.org/vocabulary/oeso#Plot',\n",
      " 'relations': None,\n",
      " 'uri': None},\n",
      " {'experiment': None,\n",
      " 'geometry': None,\n",
      " 'name': '42',\n",
      " 'rdf_type': 'http://www.opensilex.org/vocabulary/oeso#Plot',\n",
      " 'relations': None,\n",
      " 'uri': None},\n",
      " {'experiment': None,\n",
      " 'geometry': None,\n",
      " 'name': '58',\n",
      " 'rdf_type': 'http://www.opensilex.org/vocabulary/oeso#Plot',\n",
      " 'relations': None,\n",
      " 'uri': None},\n",
      " {'experiment': None,\n",
      " 'geometry': None,\n",
      " 'name': '74',\n",
      " 'rdf_type': 'http://www.opensilex.org/vocabulary/oeso#Plot',\n",
      " 'relations': None,\n",
      " 'uri': None}]\n"
     ]
    }
   ],
   "source": [
    "so_dto = opensilexClientToolsPython.ScientificObjectCreationDTO\n",
    "bodies = [\n",
    "    so_dto(name=str(x),\n",
    "           rdf_type=objtype_uri) for x in df.Plot[:n]\n",
    "]\n",
    "pprint(bodies)"
   ]
  },
  {
   "cell_type": "markdown",
   "id": "2b90de6b-6b11-42dd-b90f-1c84842ed21a",
   "metadata": {},
   "source": [
    "The Scientific Objects are then created"
   ]
  },
  {
   "cell_type": "code",
   "execution_count": 36,
   "id": "af704d84-f916-4704-8f02-8221a4305c87",
   "metadata": {},
   "outputs": [
    {
     "name": "stdout",
     "output_type": "stream",
     "text": [
      "[{'metadata': {'datafiles': ['http://www.phenome-fppn.fr/set/scientific-objects/so-10-9'],\n",
      "               'pagination': {'currentPage': 0,\n",
      "                              'pageSize': 0,\n",
      "                              'totalCount': 0,\n",
      "                              'totalPages': 0},\n",
      "               'status': []},\n",
      "  'result': ['http://www.phenome-fppn.fr/set/scientific-objects/so-10-9']},\n",
      " {'metadata': {'datafiles': ['http://www.phenome-fppn.fr/set/scientific-objects/so-26-9'],\n",
      "               'pagination': {'currentPage': 0,\n",
      "                              'pageSize': 0,\n",
      "                              'totalCount': 0,\n",
      "                              'totalPages': 0},\n",
      "               'status': []},\n",
      "  'result': ['http://www.phenome-fppn.fr/set/scientific-objects/so-26-9']},\n",
      " {'metadata': {'datafiles': ['http://www.phenome-fppn.fr/set/scientific-objects/so-42-9'],\n",
      "               'pagination': {'currentPage': 0,\n",
      "                              'pageSize': 0,\n",
      "                              'totalCount': 0,\n",
      "                              'totalPages': 0},\n",
      "               'status': []},\n",
      "  'result': ['http://www.phenome-fppn.fr/set/scientific-objects/so-42-9']},\n",
      " {'metadata': {'datafiles': ['http://www.phenome-fppn.fr/set/scientific-objects/so-58-9'],\n",
      "               'pagination': {'currentPage': 0,\n",
      "                              'pageSize': 0,\n",
      "                              'totalCount': 0,\n",
      "                              'totalPages': 0},\n",
      "               'status': []},\n",
      "  'result': ['http://www.phenome-fppn.fr/set/scientific-objects/so-58-9']},\n",
      " {'metadata': {'datafiles': ['http://www.phenome-fppn.fr/set/scientific-objects/so-74-9'],\n",
      "               'pagination': {'currentPage': 0,\n",
      "                              'pageSize': 0,\n",
      "                              'totalCount': 0,\n",
      "                              'totalPages': 0},\n",
      "               'status': []},\n",
      "  'result': ['http://www.phenome-fppn.fr/set/scientific-objects/so-74-9']}]\n"
     ]
    }
   ],
   "source": [
    "cso = obj_api_instance.create_scientific_object\n",
    "res_so = [cso(body=body) for body in bodies]\n",
    "pprint(res_so)"
   ]
  },
  {
   "cell_type": "markdown",
   "id": "ff66d6c3-9902-4a99-9803-e7060b05fc9e",
   "metadata": {},
   "source": [
    "The Scientific Objects' URIs are retrieved from `res_so`"
   ]
  },
  {
   "cell_type": "code",
   "execution_count": 37,
   "id": "a7948d04-a997-4416-aced-98c5e9f255c6",
   "metadata": {},
   "outputs": [
    {
     "data": {
      "text/plain": [
       "['http://www.phenome-fppn.fr/set/scientific-objects/so-10-9',\n",
       " 'http://www.phenome-fppn.fr/set/scientific-objects/so-26-9',\n",
       " 'http://www.phenome-fppn.fr/set/scientific-objects/so-42-9',\n",
       " 'http://www.phenome-fppn.fr/set/scientific-objects/so-58-9',\n",
       " 'http://www.phenome-fppn.fr/set/scientific-objects/so-74-9']"
      ]
     },
     "execution_count": 37,
     "metadata": {},
     "output_type": "execute_result"
    }
   ],
   "source": [
    "so_uris = [res['result'][0] for res in res_so]\n",
    "so_uris"
   ]
  },
  {
   "cell_type": "markdown",
   "id": "c0c15802-8603-4a78-819e-6ab4ff145682",
   "metadata": {},
   "source": [
    "#     "
   ]
  },
  {
   "cell_type": "markdown",
   "id": "dea4f625-e290-41ae-b72a-ffd4cdc1117f",
   "metadata": {},
   "source": [
    "## 5) Data upload\n",
    "---"
   ]
  },
  {
   "cell_type": "markdown",
   "id": "259e60ed-3f6b-4149-abf2-a9543d17cbf4",
   "metadata": {},
   "source": [
    "The data for the first three variables can now be uploaded and linked to the new Provenances and Variables"
   ]
  },
  {
   "cell_type": "code",
   "execution_count": 38,
   "id": "31b077e1-78d4-42a5-bc73-138e7e3e9ca2",
   "metadata": {},
   "outputs": [
    {
     "data": {
      "text/plain": [
       "[{'experiments': None,\n",
       "  'prov_used': None,\n",
       "  'settings': None,\n",
       "  'uri': 'http://www.phenome-fppn.fr/id/provenance/grain_sample_hte_prov/6'},\n",
       " {'experiments': None,\n",
       "  'prov_used': None,\n",
       "  'settings': None,\n",
       "  'uri': 'http://www.phenome-fppn.fr/id/provenance/grain_sample_nbk_prov/6'},\n",
       " {'experiments': None,\n",
       "  'prov_used': None,\n",
       "  'settings': None,\n",
       "  'uri': 'http://www.phenome-fppn.fr/id/provenance/grain_sample_poids_prov/6'}]"
      ]
     },
     "execution_count": 38,
     "metadata": {},
     "output_type": "execute_result"
    }
   ],
   "source": [
    "dpm = opensilexClientToolsPython.DataProvenanceModel\n",
    "provs = [dpm(uri=uri) for uri in prov_uris[:3]]\n",
    "provs"
   ]
  },
  {
   "cell_type": "markdown",
   "id": "0f6cdda9-9e5f-43a6-a060-19767535ab1e",
   "metadata": {},
   "source": [
    "`DataCreationDTO` is used multiple times to make a list of Json to upload multiple values at once"
   ]
  },
  {
   "cell_type": "markdown",
   "id": "fa30dae3-87ef-48b1-9716-e8239ea1315c",
   "metadata": {},
   "source": [
    "__NUMPY INTEGERS AREN'T SUPPORTED__"
   ]
  },
  {
   "cell_type": "code",
   "execution_count": 39,
   "id": "7667477c-b828-490c-8b16-17eea29ced30",
   "metadata": {
    "tags": []
   },
   "outputs": [
    {
     "name": "stdout",
     "output_type": "stream",
     "text": [
      "[[{'_date': '2021-07-30',\n",
      " 'confidence': None,\n",
      " 'metadata': None,\n",
      " 'provenance': {'experiments': None,\n",
      "                'prov_used': None,\n",
      "                'settings': None,\n",
      "                'uri': 'http://www.phenome-fppn.fr/id/provenance/grain_sample_hte_prov/6'},\n",
      " 'raw_data': None,\n",
      " 'scientific_object': 'http://www.phenome-fppn.fr/set/scientific-objects/so-10-9',\n",
      " 'timezone': None,\n",
      " 'uri': None,\n",
      " 'value': 21.0,\n",
      " 'variable': 'test:set/variables#variable.hte/8'},\n",
      "  {'_date': '2021-07-30',\n",
      " 'confidence': None,\n",
      " 'metadata': None,\n",
      " 'provenance': {'experiments': None,\n",
      "                'prov_used': None,\n",
      "                'settings': None,\n",
      "                'uri': 'http://www.phenome-fppn.fr/id/provenance/grain_sample_hte_prov/6'},\n",
      " 'raw_data': None,\n",
      " 'scientific_object': 'http://www.phenome-fppn.fr/set/scientific-objects/so-26-9',\n",
      " 'timezone': None,\n",
      " 'uri': None,\n",
      " 'value': 17.8,\n",
      " 'variable': 'test:set/variables#variable.hte/8'},\n",
      "  {'_date': '2021-07-30',\n",
      " 'confidence': None,\n",
      " 'metadata': None,\n",
      " 'provenance': {'experiments': None,\n",
      "                'prov_used': None,\n",
      "                'settings': None,\n",
      "                'uri': 'http://www.phenome-fppn.fr/id/provenance/grain_sample_hte_prov/6'},\n",
      " 'raw_data': None,\n",
      " 'scientific_object': 'http://www.phenome-fppn.fr/set/scientific-objects/so-42-9',\n",
      " 'timezone': None,\n",
      " 'uri': None,\n",
      " 'value': 20.9,\n",
      " 'variable': 'test:set/variables#variable.hte/8'},\n",
      "  {'_date': '2021-07-30',\n",
      " 'confidence': None,\n",
      " 'metadata': None,\n",
      " 'provenance': {'experiments': None,\n",
      "                'prov_used': None,\n",
      "                'settings': None,\n",
      "                'uri': 'http://www.phenome-fppn.fr/id/provenance/grain_sample_hte_prov/6'},\n",
      " 'raw_data': None,\n",
      " 'scientific_object': 'http://www.phenome-fppn.fr/set/scientific-objects/so-58-9',\n",
      " 'timezone': None,\n",
      " 'uri': None,\n",
      " 'value': 19.7,\n",
      " 'variable': 'test:set/variables#variable.hte/8'},\n",
      "  {'_date': '2021-07-30',\n",
      " 'confidence': None,\n",
      " 'metadata': None,\n",
      " 'provenance': {'experiments': None,\n",
      "                'prov_used': None,\n",
      "                'settings': None,\n",
      "                'uri': 'http://www.phenome-fppn.fr/id/provenance/grain_sample_hte_prov/6'},\n",
      " 'raw_data': None,\n",
      " 'scientific_object': 'http://www.phenome-fppn.fr/set/scientific-objects/so-74-9',\n",
      " 'timezone': None,\n",
      " 'uri': None,\n",
      " 'value': 19.6,\n",
      " 'variable': 'test:set/variables#variable.hte/8'}],\n",
      " [{'_date': '2021-07-30',\n",
      " 'confidence': None,\n",
      " 'metadata': None,\n",
      " 'provenance': {'experiments': None,\n",
      "                'prov_used': None,\n",
      "                'settings': None,\n",
      "                'uri': 'http://www.phenome-fppn.fr/id/provenance/grain_sample_nbk_prov/6'},\n",
      " 'raw_data': None,\n",
      " 'scientific_object': 'http://www.phenome-fppn.fr/set/scientific-objects/so-10-9',\n",
      " 'timezone': None,\n",
      " 'uri': None,\n",
      " 'value': 500,\n",
      " 'variable': 'test:set/variables#variable.nbk/8'},\n",
      "  {'_date': '2021-07-30',\n",
      " 'confidence': None,\n",
      " 'metadata': None,\n",
      " 'provenance': {'experiments': None,\n",
      "                'prov_used': None,\n",
      "                'settings': None,\n",
      "                'uri': 'http://www.phenome-fppn.fr/id/provenance/grain_sample_nbk_prov/6'},\n",
      " 'raw_data': None,\n",
      " 'scientific_object': 'http://www.phenome-fppn.fr/set/scientific-objects/so-26-9',\n",
      " 'timezone': None,\n",
      " 'uri': None,\n",
      " 'value': 500,\n",
      " 'variable': 'test:set/variables#variable.nbk/8'},\n",
      "  {'_date': '2021-07-30',\n",
      " 'confidence': None,\n",
      " 'metadata': None,\n",
      " 'provenance': {'experiments': None,\n",
      "                'prov_used': None,\n",
      "                'settings': None,\n",
      "                'uri': 'http://www.phenome-fppn.fr/id/provenance/grain_sample_nbk_prov/6'},\n",
      " 'raw_data': None,\n",
      " 'scientific_object': 'http://www.phenome-fppn.fr/set/scientific-objects/so-42-9',\n",
      " 'timezone': None,\n",
      " 'uri': None,\n",
      " 'value': 500,\n",
      " 'variable': 'test:set/variables#variable.nbk/8'},\n",
      "  {'_date': '2021-07-30',\n",
      " 'confidence': None,\n",
      " 'metadata': None,\n",
      " 'provenance': {'experiments': None,\n",
      "                'prov_used': None,\n",
      "                'settings': None,\n",
      "                'uri': 'http://www.phenome-fppn.fr/id/provenance/grain_sample_nbk_prov/6'},\n",
      " 'raw_data': None,\n",
      " 'scientific_object': 'http://www.phenome-fppn.fr/set/scientific-objects/so-58-9',\n",
      " 'timezone': None,\n",
      " 'uri': None,\n",
      " 'value': 500,\n",
      " 'variable': 'test:set/variables#variable.nbk/8'},\n",
      "  {'_date': '2021-07-30',\n",
      " 'confidence': None,\n",
      " 'metadata': None,\n",
      " 'provenance': {'experiments': None,\n",
      "                'prov_used': None,\n",
      "                'settings': None,\n",
      "                'uri': 'http://www.phenome-fppn.fr/id/provenance/grain_sample_nbk_prov/6'},\n",
      " 'raw_data': None,\n",
      " 'scientific_object': 'http://www.phenome-fppn.fr/set/scientific-objects/so-74-9',\n",
      " 'timezone': None,\n",
      " 'uri': None,\n",
      " 'value': 500,\n",
      " 'variable': 'test:set/variables#variable.nbk/8'}],\n",
      " [{'_date': '2021-07-30',\n",
      " 'confidence': None,\n",
      " 'metadata': None,\n",
      " 'provenance': {'experiments': None,\n",
      "                'prov_used': None,\n",
      "                'settings': None,\n",
      "                'uri': 'http://www.phenome-fppn.fr/id/provenance/grain_sample_poids_prov/6'},\n",
      " 'raw_data': None,\n",
      " 'scientific_object': 'http://www.phenome-fppn.fr/set/scientific-objects/so-10-9',\n",
      " 'timezone': None,\n",
      " 'uri': None,\n",
      " 'value': 163.34,\n",
      " 'variable': 'test:set/variables#variable.poids/8'},\n",
      "  {'_date': '2021-07-30',\n",
      " 'confidence': None,\n",
      " 'metadata': None,\n",
      " 'provenance': {'experiments': None,\n",
      "                'prov_used': None,\n",
      "                'settings': None,\n",
      "                'uri': 'http://www.phenome-fppn.fr/id/provenance/grain_sample_poids_prov/6'},\n",
      " 'raw_data': None,\n",
      " 'scientific_object': 'http://www.phenome-fppn.fr/set/scientific-objects/so-26-9',\n",
      " 'timezone': None,\n",
      " 'uri': None,\n",
      " 'value': 142.7,\n",
      " 'variable': 'test:set/variables#variable.poids/8'},\n",
      "  {'_date': '2021-07-30',\n",
      " 'confidence': None,\n",
      " 'metadata': None,\n",
      " 'provenance': {'experiments': None,\n",
      "                'prov_used': None,\n",
      "                'settings': None,\n",
      "                'uri': 'http://www.phenome-fppn.fr/id/provenance/grain_sample_poids_prov/6'},\n",
      " 'raw_data': None,\n",
      " 'scientific_object': 'http://www.phenome-fppn.fr/set/scientific-objects/so-42-9',\n",
      " 'timezone': None,\n",
      " 'uri': None,\n",
      " 'value': 153.28,\n",
      " 'variable': 'test:set/variables#variable.poids/8'},\n",
      "  {'_date': '2021-07-30',\n",
      " 'confidence': None,\n",
      " 'metadata': None,\n",
      " 'provenance': {'experiments': None,\n",
      "                'prov_used': None,\n",
      "                'settings': None,\n",
      "                'uri': 'http://www.phenome-fppn.fr/id/provenance/grain_sample_poids_prov/6'},\n",
      " 'raw_data': None,\n",
      " 'scientific_object': 'http://www.phenome-fppn.fr/set/scientific-objects/so-58-9',\n",
      " 'timezone': None,\n",
      " 'uri': None,\n",
      " 'value': 136.86,\n",
      " 'variable': 'test:set/variables#variable.poids/8'},\n",
      "  {'_date': '2021-07-30',\n",
      " 'confidence': None,\n",
      " 'metadata': None,\n",
      " 'provenance': {'experiments': None,\n",
      "                'prov_used': None,\n",
      "                'settings': None,\n",
      "                'uri': 'http://www.phenome-fppn.fr/id/provenance/grain_sample_poids_prov/6'},\n",
      " 'raw_data': None,\n",
      " 'scientific_object': 'http://www.phenome-fppn.fr/set/scientific-objects/so-74-9',\n",
      " 'timezone': None,\n",
      " 'uri': None,\n",
      " 'value': 176.2,\n",
      " 'variable': 'test:set/variables#variable.poids/8'}]]\n"
     ]
    }
   ],
   "source": [
    "dc_dto = opensilexClientToolsPython.DataCreationDTO\n",
    "bodies = [\n",
    "    [\n",
    "        dc_dto(_date=\"2021-07-30\",\n",
    "           variable=var_uris[y],\n",
    "           value=int(df[vars_kept[y]][x]),\n",
    "           scientific_object=so_uris[x],\n",
    "           provenance=provs[y])\n",
    "        if y == 1\n",
    "        else\n",
    "        dc_dto(_date=\"2021-07-30\",\n",
    "           variable=var_uris[y],\n",
    "           value=float(df[vars_kept[y]][x]),\n",
    "           scientific_object=so_uris[x],\n",
    "           provenance=provs[y])\n",
    "        for x in range(0, n)\n",
    "    ]\n",
    "    for y in range(0, 3)\n",
    "]\n",
    "pprint(bodies)"
   ]
  },
  {
   "cell_type": "markdown",
   "id": "eaad9957-646e-4415-97d0-e6f6a64cc724",
   "metadata": {},
   "source": [
    "Length should be 3 Variables * 5 entries"
   ]
  },
  {
   "cell_type": "code",
   "execution_count": 40,
   "id": "79988b10-1ea0-46b9-a1df-b958150a1418",
   "metadata": {},
   "outputs": [
    {
     "name": "stdout",
     "output_type": "stream",
     "text": [
      "3 5\n"
     ]
    }
   ],
   "source": [
    "print(len(bodies), len(bodies[0]))"
   ]
  },
  {
   "cell_type": "code",
   "execution_count": 41,
   "id": "7e92bc1e-27f0-473f-b2c9-e91b5eb078d5",
   "metadata": {
    "tags": []
   },
   "outputs": [],
   "source": [
    "res_data_three = [\n",
    "    data_api_instance.add_list_data(body=bodies[x])\n",
    "    for x in range(0, 3)\n",
    "]"
   ]
  },
  {
   "cell_type": "code",
   "execution_count": 42,
   "id": "90adc1c5-c0f6-49ed-8ee4-ed69a072c0e5",
   "metadata": {
    "tags": []
   },
   "outputs": [
    {
     "data": {
      "text/plain": [
       "[{'result': ['http://www.phenome-fppn.fr/id/data/1627603200/44576454fb85e94c15daca10d5e38ef9',\n",
       "   'http://www.phenome-fppn.fr/id/data/1627603200/9b4bb86883a3797ebcf53956794e453e',\n",
       "   'http://www.phenome-fppn.fr/id/data/1627603200/49d0efc416022d07bb623ffba23c9df7',\n",
       "   'http://www.phenome-fppn.fr/id/data/1627603200/158e1611709bc7bd9e6ce6256d431f33',\n",
       "   'http://www.phenome-fppn.fr/id/data/1627603200/3c4666aeecb9dae663c85780aa020755'],\n",
       "  'metadata': {'pagination': {'pageSize': 0,\n",
       "    'currentPage': 0,\n",
       "    'totalCount': 0,\n",
       "    'totalPages': 0},\n",
       "   'status': [],\n",
       "   'datafiles': ['http://www.phenome-fppn.fr/id/data/1627603200/44576454fb85e94c15daca10d5e38ef9',\n",
       "    'http://www.phenome-fppn.fr/id/data/1627603200/9b4bb86883a3797ebcf53956794e453e',\n",
       "    'http://www.phenome-fppn.fr/id/data/1627603200/49d0efc416022d07bb623ffba23c9df7',\n",
       "    'http://www.phenome-fppn.fr/id/data/1627603200/158e1611709bc7bd9e6ce6256d431f33',\n",
       "    'http://www.phenome-fppn.fr/id/data/1627603200/3c4666aeecb9dae663c85780aa020755']}},\n",
       " {'result': ['http://www.phenome-fppn.fr/id/data/1627603200/a900b32667d0b33db7cdc2a483b713e3',\n",
       "   'http://www.phenome-fppn.fr/id/data/1627603200/1ef56e15e9986c042d6aa934df2b085c',\n",
       "   'http://www.phenome-fppn.fr/id/data/1627603200/6cecaccd2ed46e5281271011d1453dfb',\n",
       "   'http://www.phenome-fppn.fr/id/data/1627603200/2bc353513a3ce343420bb5a16df1c51c',\n",
       "   'http://www.phenome-fppn.fr/id/data/1627603200/304479c74ba3ea7ea4e05ed15f065c7c'],\n",
       "  'metadata': {'pagination': {'pageSize': 0,\n",
       "    'currentPage': 0,\n",
       "    'totalCount': 0,\n",
       "    'totalPages': 0},\n",
       "   'status': [],\n",
       "   'datafiles': ['http://www.phenome-fppn.fr/id/data/1627603200/a900b32667d0b33db7cdc2a483b713e3',\n",
       "    'http://www.phenome-fppn.fr/id/data/1627603200/1ef56e15e9986c042d6aa934df2b085c',\n",
       "    'http://www.phenome-fppn.fr/id/data/1627603200/6cecaccd2ed46e5281271011d1453dfb',\n",
       "    'http://www.phenome-fppn.fr/id/data/1627603200/2bc353513a3ce343420bb5a16df1c51c',\n",
       "    'http://www.phenome-fppn.fr/id/data/1627603200/304479c74ba3ea7ea4e05ed15f065c7c']}},\n",
       " {'result': ['http://www.phenome-fppn.fr/id/data/1627603200/bf4bab720a830591ae46718bc7bdd21b',\n",
       "   'http://www.phenome-fppn.fr/id/data/1627603200/36c0cb90951fd7e07b985d53f6717e3c',\n",
       "   'http://www.phenome-fppn.fr/id/data/1627603200/30dc33b8545bc8dc70c3b409ed32c2e3',\n",
       "   'http://www.phenome-fppn.fr/id/data/1627603200/c9941a50b65b79af1e4fc1c31bb2fce2',\n",
       "   'http://www.phenome-fppn.fr/id/data/1627603200/279ca21b895a93fba436daf076332f30'],\n",
       "  'metadata': {'pagination': {'pageSize': 0,\n",
       "    'currentPage': 0,\n",
       "    'totalCount': 0,\n",
       "    'totalPages': 0},\n",
       "   'status': [],\n",
       "   'datafiles': ['http://www.phenome-fppn.fr/id/data/1627603200/bf4bab720a830591ae46718bc7bdd21b',\n",
       "    'http://www.phenome-fppn.fr/id/data/1627603200/36c0cb90951fd7e07b985d53f6717e3c',\n",
       "    'http://www.phenome-fppn.fr/id/data/1627603200/30dc33b8545bc8dc70c3b409ed32c2e3',\n",
       "    'http://www.phenome-fppn.fr/id/data/1627603200/c9941a50b65b79af1e4fc1c31bb2fce2',\n",
       "    'http://www.phenome-fppn.fr/id/data/1627603200/279ca21b895a93fba436daf076332f30']}}]"
      ]
     },
     "execution_count": 42,
     "metadata": {},
     "output_type": "execute_result"
    }
   ],
   "source": [
    "res_data_three"
   ]
  },
  {
   "cell_type": "markdown",
   "id": "718b180d-5b7e-46c1-96dc-b11ef38591f1",
   "metadata": {},
   "source": [
    "The data for the last two variables can now be uploaded and linked to the new Provenances, Variables and the adequate data used to produce the values"
   ]
  },
  {
   "cell_type": "code",
   "execution_count": 43,
   "id": "6718ae02-3909-41cd-8215-52a3ab54a6bf",
   "metadata": {},
   "outputs": [
    {
     "data": {
      "text/plain": [
       "'http://www.phenome-fppn.fr/id/data/1627603200/44576454fb85e94c15daca10d5e38ef9'"
      ]
     },
     "execution_count": 43,
     "metadata": {},
     "output_type": "execute_result"
    }
   ],
   "source": [
    "res_data_three[0][\"result\"][0]"
   ]
  },
  {
   "cell_type": "code",
   "execution_count": 44,
   "id": "a1add11b-912e-4580-a865-eb9285df1d52",
   "metadata": {
    "tags": []
   },
   "outputs": [
    {
     "name": "stdout",
     "output_type": "stream",
     "text": [
      "[[{'_date': '2021-07-30',\n",
      " 'confidence': None,\n",
      " 'metadata': None,\n",
      " 'provenance': {'experiments': None,\n",
      "                'prov_used': [{'rdf_type': None,\n",
      "                               'uri': 'http://www.phenome-fppn.fr/id/data/1627603200/a900b32667d0b33db7cdc2a483b713e3'},\n",
      "                              {'rdf_type': None,\n",
      "                               'uri': 'http://www.phenome-fppn.fr/id/data/1627603200/1ef56e15e9986c042d6aa934df2b085c'},\n",
      "                              {'rdf_type': None,\n",
      "                               'uri': 'http://www.phenome-fppn.fr/id/data/1627603200/6cecaccd2ed46e5281271011d1453dfb'},\n",
      "                              {'rdf_type': None,\n",
      "                               'uri': 'http://www.phenome-fppn.fr/id/data/1627603200/2bc353513a3ce343420bb5a16df1c51c'},\n",
      "                              {'rdf_type': None,\n",
      "                               'uri': 'http://www.phenome-fppn.fr/id/data/1627603200/304479c74ba3ea7ea4e05ed15f065c7c'},\n",
      "                              {'rdf_type': None,\n",
      "                               'uri': 'http://www.phenome-fppn.fr/id/data/1627603200/bf4bab720a830591ae46718bc7bdd21b'},\n",
      "                              {'rdf_type': None,\n",
      "                               'uri': 'http://www.phenome-fppn.fr/id/data/1627603200/36c0cb90951fd7e07b985d53f6717e3c'},\n",
      "                              {'rdf_type': None,\n",
      "                               'uri': 'http://www.phenome-fppn.fr/id/data/1627603200/30dc33b8545bc8dc70c3b409ed32c2e3'},\n",
      "                              {'rdf_type': None,\n",
      "                               'uri': 'http://www.phenome-fppn.fr/id/data/1627603200/c9941a50b65b79af1e4fc1c31bb2fce2'},\n",
      "                              {'rdf_type': None,\n",
      "                               'uri': 'http://www.phenome-fppn.fr/id/data/1627603200/279ca21b895a93fba436daf076332f30'}],\n",
      "                'settings': None,\n",
      "                'uri': 'http://www.phenome-fppn.fr/id/provenance/grain_sample_pmg_prov/6'},\n",
      " 'raw_data': None,\n",
      " 'scientific_object': 'http://www.phenome-fppn.fr/set/scientific-objects/so-10-9',\n",
      " 'timezone': None,\n",
      " 'uri': None,\n",
      " 'value': 326.68,\n",
      " 'variable': 'test:set/variables#variable.pmg/7'},\n",
      "  {'_date': '2021-07-30',\n",
      " 'confidence': None,\n",
      " 'metadata': None,\n",
      " 'provenance': {'experiments': None,\n",
      "                'prov_used': [{'rdf_type': None,\n",
      "                               'uri': 'http://www.phenome-fppn.fr/id/data/1627603200/a900b32667d0b33db7cdc2a483b713e3'},\n",
      "                              {'rdf_type': None,\n",
      "                               'uri': 'http://www.phenome-fppn.fr/id/data/1627603200/1ef56e15e9986c042d6aa934df2b085c'},\n",
      "                              {'rdf_type': None,\n",
      "                               'uri': 'http://www.phenome-fppn.fr/id/data/1627603200/6cecaccd2ed46e5281271011d1453dfb'},\n",
      "                              {'rdf_type': None,\n",
      "                               'uri': 'http://www.phenome-fppn.fr/id/data/1627603200/2bc353513a3ce343420bb5a16df1c51c'},\n",
      "                              {'rdf_type': None,\n",
      "                               'uri': 'http://www.phenome-fppn.fr/id/data/1627603200/304479c74ba3ea7ea4e05ed15f065c7c'},\n",
      "                              {'rdf_type': None,\n",
      "                               'uri': 'http://www.phenome-fppn.fr/id/data/1627603200/bf4bab720a830591ae46718bc7bdd21b'},\n",
      "                              {'rdf_type': None,\n",
      "                               'uri': 'http://www.phenome-fppn.fr/id/data/1627603200/36c0cb90951fd7e07b985d53f6717e3c'},\n",
      "                              {'rdf_type': None,\n",
      "                               'uri': 'http://www.phenome-fppn.fr/id/data/1627603200/30dc33b8545bc8dc70c3b409ed32c2e3'},\n",
      "                              {'rdf_type': None,\n",
      "                               'uri': 'http://www.phenome-fppn.fr/id/data/1627603200/c9941a50b65b79af1e4fc1c31bb2fce2'},\n",
      "                              {'rdf_type': None,\n",
      "                               'uri': 'http://www.phenome-fppn.fr/id/data/1627603200/279ca21b895a93fba436daf076332f30'}],\n",
      "                'settings': None,\n",
      "                'uri': 'http://www.phenome-fppn.fr/id/provenance/grain_sample_pmg_prov/6'},\n",
      " 'raw_data': None,\n",
      " 'scientific_object': 'http://www.phenome-fppn.fr/set/scientific-objects/so-26-9',\n",
      " 'timezone': None,\n",
      " 'uri': None,\n",
      " 'value': 285.4,\n",
      " 'variable': 'test:set/variables#variable.pmg/7'},\n",
      "  {'_date': '2021-07-30',\n",
      " 'confidence': None,\n",
      " 'metadata': None,\n",
      " 'provenance': {'experiments': None,\n",
      "                'prov_used': [{'rdf_type': None,\n",
      "                               'uri': 'http://www.phenome-fppn.fr/id/data/1627603200/a900b32667d0b33db7cdc2a483b713e3'},\n",
      "                              {'rdf_type': None,\n",
      "                               'uri': 'http://www.phenome-fppn.fr/id/data/1627603200/1ef56e15e9986c042d6aa934df2b085c'},\n",
      "                              {'rdf_type': None,\n",
      "                               'uri': 'http://www.phenome-fppn.fr/id/data/1627603200/6cecaccd2ed46e5281271011d1453dfb'},\n",
      "                              {'rdf_type': None,\n",
      "                               'uri': 'http://www.phenome-fppn.fr/id/data/1627603200/2bc353513a3ce343420bb5a16df1c51c'},\n",
      "                              {'rdf_type': None,\n",
      "                               'uri': 'http://www.phenome-fppn.fr/id/data/1627603200/304479c74ba3ea7ea4e05ed15f065c7c'},\n",
      "                              {'rdf_type': None,\n",
      "                               'uri': 'http://www.phenome-fppn.fr/id/data/1627603200/bf4bab720a830591ae46718bc7bdd21b'},\n",
      "                              {'rdf_type': None,\n",
      "                               'uri': 'http://www.phenome-fppn.fr/id/data/1627603200/36c0cb90951fd7e07b985d53f6717e3c'},\n",
      "                              {'rdf_type': None,\n",
      "                               'uri': 'http://www.phenome-fppn.fr/id/data/1627603200/30dc33b8545bc8dc70c3b409ed32c2e3'},\n",
      "                              {'rdf_type': None,\n",
      "                               'uri': 'http://www.phenome-fppn.fr/id/data/1627603200/c9941a50b65b79af1e4fc1c31bb2fce2'},\n",
      "                              {'rdf_type': None,\n",
      "                               'uri': 'http://www.phenome-fppn.fr/id/data/1627603200/279ca21b895a93fba436daf076332f30'}],\n",
      "                'settings': None,\n",
      "                'uri': 'http://www.phenome-fppn.fr/id/provenance/grain_sample_pmg_prov/6'},\n",
      " 'raw_data': None,\n",
      " 'scientific_object': 'http://www.phenome-fppn.fr/set/scientific-objects/so-42-9',\n",
      " 'timezone': None,\n",
      " 'uri': None,\n",
      " 'value': 306.56,\n",
      " 'variable': 'test:set/variables#variable.pmg/7'},\n",
      "  {'_date': '2021-07-30',\n",
      " 'confidence': None,\n",
      " 'metadata': None,\n",
      " 'provenance': {'experiments': None,\n",
      "                'prov_used': [{'rdf_type': None,\n",
      "                               'uri': 'http://www.phenome-fppn.fr/id/data/1627603200/a900b32667d0b33db7cdc2a483b713e3'},\n",
      "                              {'rdf_type': None,\n",
      "                               'uri': 'http://www.phenome-fppn.fr/id/data/1627603200/1ef56e15e9986c042d6aa934df2b085c'},\n",
      "                              {'rdf_type': None,\n",
      "                               'uri': 'http://www.phenome-fppn.fr/id/data/1627603200/6cecaccd2ed46e5281271011d1453dfb'},\n",
      "                              {'rdf_type': None,\n",
      "                               'uri': 'http://www.phenome-fppn.fr/id/data/1627603200/2bc353513a3ce343420bb5a16df1c51c'},\n",
      "                              {'rdf_type': None,\n",
      "                               'uri': 'http://www.phenome-fppn.fr/id/data/1627603200/304479c74ba3ea7ea4e05ed15f065c7c'},\n",
      "                              {'rdf_type': None,\n",
      "                               'uri': 'http://www.phenome-fppn.fr/id/data/1627603200/bf4bab720a830591ae46718bc7bdd21b'},\n",
      "                              {'rdf_type': None,\n",
      "                               'uri': 'http://www.phenome-fppn.fr/id/data/1627603200/36c0cb90951fd7e07b985d53f6717e3c'},\n",
      "                              {'rdf_type': None,\n",
      "                               'uri': 'http://www.phenome-fppn.fr/id/data/1627603200/30dc33b8545bc8dc70c3b409ed32c2e3'},\n",
      "                              {'rdf_type': None,\n",
      "                               'uri': 'http://www.phenome-fppn.fr/id/data/1627603200/c9941a50b65b79af1e4fc1c31bb2fce2'},\n",
      "                              {'rdf_type': None,\n",
      "                               'uri': 'http://www.phenome-fppn.fr/id/data/1627603200/279ca21b895a93fba436daf076332f30'}],\n",
      "                'settings': None,\n",
      "                'uri': 'http://www.phenome-fppn.fr/id/provenance/grain_sample_pmg_prov/6'},\n",
      " 'raw_data': None,\n",
      " 'scientific_object': 'http://www.phenome-fppn.fr/set/scientific-objects/so-58-9',\n",
      " 'timezone': None,\n",
      " 'uri': None,\n",
      " 'value': 273.72,\n",
      " 'variable': 'test:set/variables#variable.pmg/7'},\n",
      "  {'_date': '2021-07-30',\n",
      " 'confidence': None,\n",
      " 'metadata': None,\n",
      " 'provenance': {'experiments': None,\n",
      "                'prov_used': [{'rdf_type': None,\n",
      "                               'uri': 'http://www.phenome-fppn.fr/id/data/1627603200/a900b32667d0b33db7cdc2a483b713e3'},\n",
      "                              {'rdf_type': None,\n",
      "                               'uri': 'http://www.phenome-fppn.fr/id/data/1627603200/1ef56e15e9986c042d6aa934df2b085c'},\n",
      "                              {'rdf_type': None,\n",
      "                               'uri': 'http://www.phenome-fppn.fr/id/data/1627603200/6cecaccd2ed46e5281271011d1453dfb'},\n",
      "                              {'rdf_type': None,\n",
      "                               'uri': 'http://www.phenome-fppn.fr/id/data/1627603200/2bc353513a3ce343420bb5a16df1c51c'},\n",
      "                              {'rdf_type': None,\n",
      "                               'uri': 'http://www.phenome-fppn.fr/id/data/1627603200/304479c74ba3ea7ea4e05ed15f065c7c'},\n",
      "                              {'rdf_type': None,\n",
      "                               'uri': 'http://www.phenome-fppn.fr/id/data/1627603200/bf4bab720a830591ae46718bc7bdd21b'},\n",
      "                              {'rdf_type': None,\n",
      "                               'uri': 'http://www.phenome-fppn.fr/id/data/1627603200/36c0cb90951fd7e07b985d53f6717e3c'},\n",
      "                              {'rdf_type': None,\n",
      "                               'uri': 'http://www.phenome-fppn.fr/id/data/1627603200/30dc33b8545bc8dc70c3b409ed32c2e3'},\n",
      "                              {'rdf_type': None,\n",
      "                               'uri': 'http://www.phenome-fppn.fr/id/data/1627603200/c9941a50b65b79af1e4fc1c31bb2fce2'},\n",
      "                              {'rdf_type': None,\n",
      "                               'uri': 'http://www.phenome-fppn.fr/id/data/1627603200/279ca21b895a93fba436daf076332f30'}],\n",
      "                'settings': None,\n",
      "                'uri': 'http://www.phenome-fppn.fr/id/provenance/grain_sample_pmg_prov/6'},\n",
      " 'raw_data': None,\n",
      " 'scientific_object': 'http://www.phenome-fppn.fr/set/scientific-objects/so-74-9',\n",
      " 'timezone': None,\n",
      " 'uri': None,\n",
      " 'value': 352.4,\n",
      " 'variable': 'test:set/variables#variable.pmg/7'}],\n",
      " [{'_date': '2021-07-30',\n",
      " 'confidence': None,\n",
      " 'metadata': None,\n",
      " 'provenance': {'experiments': None,\n",
      "                'prov_used': [{'rdf_type': None,\n",
      "                               'uri': 'http://www.phenome-fppn.fr/id/data/1627603200/44576454fb85e94c15daca10d5e38ef9'},\n",
      "                              {'rdf_type': None,\n",
      "                               'uri': 'http://www.phenome-fppn.fr/id/data/1627603200/9b4bb86883a3797ebcf53956794e453e'},\n",
      "                              {'rdf_type': None,\n",
      "                               'uri': 'http://www.phenome-fppn.fr/id/data/1627603200/49d0efc416022d07bb623ffba23c9df7'},\n",
      "                              {'rdf_type': None,\n",
      "                               'uri': 'http://www.phenome-fppn.fr/id/data/1627603200/158e1611709bc7bd9e6ce6256d431f33'},\n",
      "                              {'rdf_type': None,\n",
      "                               'uri': 'http://www.phenome-fppn.fr/id/data/1627603200/3c4666aeecb9dae663c85780aa020755'},\n",
      "                              {'rdf_type': None,\n",
      "                               'uri': 'http://www.phenome-fppn.fr/id/data/1627603200/a900b32667d0b33db7cdc2a483b713e3'},\n",
      "                              {'rdf_type': None,\n",
      "                               'uri': 'http://www.phenome-fppn.fr/id/data/1627603200/1ef56e15e9986c042d6aa934df2b085c'},\n",
      "                              {'rdf_type': None,\n",
      "                               'uri': 'http://www.phenome-fppn.fr/id/data/1627603200/6cecaccd2ed46e5281271011d1453dfb'},\n",
      "                              {'rdf_type': None,\n",
      "                               'uri': 'http://www.phenome-fppn.fr/id/data/1627603200/2bc353513a3ce343420bb5a16df1c51c'},\n",
      "                              {'rdf_type': None,\n",
      "                               'uri': 'http://www.phenome-fppn.fr/id/data/1627603200/304479c74ba3ea7ea4e05ed15f065c7c'},\n",
      "                              {'rdf_type': None,\n",
      "                               'uri': 'http://www.phenome-fppn.fr/id/data/1627603200/bf4bab720a830591ae46718bc7bdd21b'},\n",
      "                              {'rdf_type': None,\n",
      "                               'uri': 'http://www.phenome-fppn.fr/id/data/1627603200/36c0cb90951fd7e07b985d53f6717e3c'},\n",
      "                              {'rdf_type': None,\n",
      "                               'uri': 'http://www.phenome-fppn.fr/id/data/1627603200/30dc33b8545bc8dc70c3b409ed32c2e3'},\n",
      "                              {'rdf_type': None,\n",
      "                               'uri': 'http://www.phenome-fppn.fr/id/data/1627603200/c9941a50b65b79af1e4fc1c31bb2fce2'},\n",
      "                              {'rdf_type': None,\n",
      "                               'uri': 'http://www.phenome-fppn.fr/id/data/1627603200/279ca21b895a93fba436daf076332f30'}],\n",
      "                'settings': None,\n",
      "                'uri': 'http://www.phenome-fppn.fr/id/provenance/grain_sample_pmg15_prov/6'},\n",
      " 'raw_data': None,\n",
      " 'scientific_object': 'http://www.phenome-fppn.fr/set/scientific-objects/so-10-9',\n",
      " 'timezone': None,\n",
      " 'uri': None,\n",
      " 'value': 303.6202353,\n",
      " 'variable': 'test:set/variables#variable.pmg15/7'},\n",
      "  {'_date': '2021-07-30',\n",
      " 'confidence': None,\n",
      " 'metadata': None,\n",
      " 'provenance': {'experiments': None,\n",
      "                'prov_used': [{'rdf_type': None,\n",
      "                               'uri': 'http://www.phenome-fppn.fr/id/data/1627603200/44576454fb85e94c15daca10d5e38ef9'},\n",
      "                              {'rdf_type': None,\n",
      "                               'uri': 'http://www.phenome-fppn.fr/id/data/1627603200/9b4bb86883a3797ebcf53956794e453e'},\n",
      "                              {'rdf_type': None,\n",
      "                               'uri': 'http://www.phenome-fppn.fr/id/data/1627603200/49d0efc416022d07bb623ffba23c9df7'},\n",
      "                              {'rdf_type': None,\n",
      "                               'uri': 'http://www.phenome-fppn.fr/id/data/1627603200/158e1611709bc7bd9e6ce6256d431f33'},\n",
      "                              {'rdf_type': None,\n",
      "                               'uri': 'http://www.phenome-fppn.fr/id/data/1627603200/3c4666aeecb9dae663c85780aa020755'},\n",
      "                              {'rdf_type': None,\n",
      "                               'uri': 'http://www.phenome-fppn.fr/id/data/1627603200/a900b32667d0b33db7cdc2a483b713e3'},\n",
      "                              {'rdf_type': None,\n",
      "                               'uri': 'http://www.phenome-fppn.fr/id/data/1627603200/1ef56e15e9986c042d6aa934df2b085c'},\n",
      "                              {'rdf_type': None,\n",
      "                               'uri': 'http://www.phenome-fppn.fr/id/data/1627603200/6cecaccd2ed46e5281271011d1453dfb'},\n",
      "                              {'rdf_type': None,\n",
      "                               'uri': 'http://www.phenome-fppn.fr/id/data/1627603200/2bc353513a3ce343420bb5a16df1c51c'},\n",
      "                              {'rdf_type': None,\n",
      "                               'uri': 'http://www.phenome-fppn.fr/id/data/1627603200/304479c74ba3ea7ea4e05ed15f065c7c'},\n",
      "                              {'rdf_type': None,\n",
      "                               'uri': 'http://www.phenome-fppn.fr/id/data/1627603200/bf4bab720a830591ae46718bc7bdd21b'},\n",
      "                              {'rdf_type': None,\n",
      "                               'uri': 'http://www.phenome-fppn.fr/id/data/1627603200/36c0cb90951fd7e07b985d53f6717e3c'},\n",
      "                              {'rdf_type': None,\n",
      "                               'uri': 'http://www.phenome-fppn.fr/id/data/1627603200/30dc33b8545bc8dc70c3b409ed32c2e3'},\n",
      "                              {'rdf_type': None,\n",
      "                               'uri': 'http://www.phenome-fppn.fr/id/data/1627603200/c9941a50b65b79af1e4fc1c31bb2fce2'},\n",
      "                              {'rdf_type': None,\n",
      "                               'uri': 'http://www.phenome-fppn.fr/id/data/1627603200/279ca21b895a93fba436daf076332f30'}],\n",
      "                'settings': None,\n",
      "                'uri': 'http://www.phenome-fppn.fr/id/provenance/grain_sample_pmg15_prov/6'},\n",
      " 'raw_data': None,\n",
      " 'scientific_object': 'http://www.phenome-fppn.fr/set/scientific-objects/so-26-9',\n",
      " 'timezone': None,\n",
      " 'uri': None,\n",
      " 'value': 275.9985882,\n",
      " 'variable': 'test:set/variables#variable.pmg15/7'},\n",
      "  {'_date': '2021-07-30',\n",
      " 'confidence': None,\n",
      " 'metadata': None,\n",
      " 'provenance': {'experiments': None,\n",
      "                'prov_used': [{'rdf_type': None,\n",
      "                               'uri': 'http://www.phenome-fppn.fr/id/data/1627603200/44576454fb85e94c15daca10d5e38ef9'},\n",
      "                              {'rdf_type': None,\n",
      "                               'uri': 'http://www.phenome-fppn.fr/id/data/1627603200/9b4bb86883a3797ebcf53956794e453e'},\n",
      "                              {'rdf_type': None,\n",
      "                               'uri': 'http://www.phenome-fppn.fr/id/data/1627603200/49d0efc416022d07bb623ffba23c9df7'},\n",
      "                              {'rdf_type': None,\n",
      "                               'uri': 'http://www.phenome-fppn.fr/id/data/1627603200/158e1611709bc7bd9e6ce6256d431f33'},\n",
      "                              {'rdf_type': None,\n",
      "                               'uri': 'http://www.phenome-fppn.fr/id/data/1627603200/3c4666aeecb9dae663c85780aa020755'},\n",
      "                              {'rdf_type': None,\n",
      "                               'uri': 'http://www.phenome-fppn.fr/id/data/1627603200/a900b32667d0b33db7cdc2a483b713e3'},\n",
      "                              {'rdf_type': None,\n",
      "                               'uri': 'http://www.phenome-fppn.fr/id/data/1627603200/1ef56e15e9986c042d6aa934df2b085c'},\n",
      "                              {'rdf_type': None,\n",
      "                               'uri': 'http://www.phenome-fppn.fr/id/data/1627603200/6cecaccd2ed46e5281271011d1453dfb'},\n",
      "                              {'rdf_type': None,\n",
      "                               'uri': 'http://www.phenome-fppn.fr/id/data/1627603200/2bc353513a3ce343420bb5a16df1c51c'},\n",
      "                              {'rdf_type': None,\n",
      "                               'uri': 'http://www.phenome-fppn.fr/id/data/1627603200/304479c74ba3ea7ea4e05ed15f065c7c'},\n",
      "                              {'rdf_type': None,\n",
      "                               'uri': 'http://www.phenome-fppn.fr/id/data/1627603200/bf4bab720a830591ae46718bc7bdd21b'},\n",
      "                              {'rdf_type': None,\n",
      "                               'uri': 'http://www.phenome-fppn.fr/id/data/1627603200/36c0cb90951fd7e07b985d53f6717e3c'},\n",
      "                              {'rdf_type': None,\n",
      "                               'uri': 'http://www.phenome-fppn.fr/id/data/1627603200/30dc33b8545bc8dc70c3b409ed32c2e3'},\n",
      "                              {'rdf_type': None,\n",
      "                               'uri': 'http://www.phenome-fppn.fr/id/data/1627603200/c9941a50b65b79af1e4fc1c31bb2fce2'},\n",
      "                              {'rdf_type': None,\n",
      "                               'uri': 'http://www.phenome-fppn.fr/id/data/1627603200/279ca21b895a93fba436daf076332f30'}],\n",
      "                'settings': None,\n",
      "                'uri': 'http://www.phenome-fppn.fr/id/provenance/grain_sample_pmg15_prov/6'},\n",
      " 'raw_data': None,\n",
      " 'scientific_object': 'http://www.phenome-fppn.fr/set/scientific-objects/so-42-9',\n",
      " 'timezone': None,\n",
      " 'uri': None,\n",
      " 'value': 285.2811294,\n",
      " 'variable': 'test:set/variables#variable.pmg15/7'},\n",
      "  {'_date': '2021-07-30',\n",
      " 'confidence': None,\n",
      " 'metadata': None,\n",
      " 'provenance': {'experiments': None,\n",
      "                'prov_used': [{'rdf_type': None,\n",
      "                               'uri': 'http://www.phenome-fppn.fr/id/data/1627603200/44576454fb85e94c15daca10d5e38ef9'},\n",
      "                              {'rdf_type': None,\n",
      "                               'uri': 'http://www.phenome-fppn.fr/id/data/1627603200/9b4bb86883a3797ebcf53956794e453e'},\n",
      "                              {'rdf_type': None,\n",
      "                               'uri': 'http://www.phenome-fppn.fr/id/data/1627603200/49d0efc416022d07bb623ffba23c9df7'},\n",
      "                              {'rdf_type': None,\n",
      "                               'uri': 'http://www.phenome-fppn.fr/id/data/1627603200/158e1611709bc7bd9e6ce6256d431f33'},\n",
      "                              {'rdf_type': None,\n",
      "                               'uri': 'http://www.phenome-fppn.fr/id/data/1627603200/3c4666aeecb9dae663c85780aa020755'},\n",
      "                              {'rdf_type': None,\n",
      "                               'uri': 'http://www.phenome-fppn.fr/id/data/1627603200/a900b32667d0b33db7cdc2a483b713e3'},\n",
      "                              {'rdf_type': None,\n",
      "                               'uri': 'http://www.phenome-fppn.fr/id/data/1627603200/1ef56e15e9986c042d6aa934df2b085c'},\n",
      "                              {'rdf_type': None,\n",
      "                               'uri': 'http://www.phenome-fppn.fr/id/data/1627603200/6cecaccd2ed46e5281271011d1453dfb'},\n",
      "                              {'rdf_type': None,\n",
      "                               'uri': 'http://www.phenome-fppn.fr/id/data/1627603200/2bc353513a3ce343420bb5a16df1c51c'},\n",
      "                              {'rdf_type': None,\n",
      "                               'uri': 'http://www.phenome-fppn.fr/id/data/1627603200/304479c74ba3ea7ea4e05ed15f065c7c'},\n",
      "                              {'rdf_type': None,\n",
      "                               'uri': 'http://www.phenome-fppn.fr/id/data/1627603200/bf4bab720a830591ae46718bc7bdd21b'},\n",
      "                              {'rdf_type': None,\n",
      "                               'uri': 'http://www.phenome-fppn.fr/id/data/1627603200/36c0cb90951fd7e07b985d53f6717e3c'},\n",
      "                              {'rdf_type': None,\n",
      "                               'uri': 'http://www.phenome-fppn.fr/id/data/1627603200/30dc33b8545bc8dc70c3b409ed32c2e3'},\n",
      "                              {'rdf_type': None,\n",
      "                               'uri': 'http://www.phenome-fppn.fr/id/data/1627603200/c9941a50b65b79af1e4fc1c31bb2fce2'},\n",
      "                              {'rdf_type': None,\n",
      "                               'uri': 'http://www.phenome-fppn.fr/id/data/1627603200/279ca21b895a93fba436daf076332f30'}],\n",
      "                'settings': None,\n",
      "                'uri': 'http://www.phenome-fppn.fr/id/provenance/grain_sample_pmg15_prov/6'},\n",
      " 'raw_data': None,\n",
      " 'scientific_object': 'http://www.phenome-fppn.fr/set/scientific-objects/so-58-9',\n",
      " 'timezone': None,\n",
      " 'uri': None,\n",
      " 'value': 258.5848941,\n",
      " 'variable': 'test:set/variables#variable.pmg15/7'},\n",
      "  {'_date': '2021-07-30',\n",
      " 'confidence': None,\n",
      " 'metadata': None,\n",
      " 'provenance': {'experiments': None,\n",
      "                'prov_used': [{'rdf_type': None,\n",
      "                               'uri': 'http://www.phenome-fppn.fr/id/data/1627603200/44576454fb85e94c15daca10d5e38ef9'},\n",
      "                              {'rdf_type': None,\n",
      "                               'uri': 'http://www.phenome-fppn.fr/id/data/1627603200/9b4bb86883a3797ebcf53956794e453e'},\n",
      "                              {'rdf_type': None,\n",
      "                               'uri': 'http://www.phenome-fppn.fr/id/data/1627603200/49d0efc416022d07bb623ffba23c9df7'},\n",
      "                              {'rdf_type': None,\n",
      "                               'uri': 'http://www.phenome-fppn.fr/id/data/1627603200/158e1611709bc7bd9e6ce6256d431f33'},\n",
      "                              {'rdf_type': None,\n",
      "                               'uri': 'http://www.phenome-fppn.fr/id/data/1627603200/3c4666aeecb9dae663c85780aa020755'},\n",
      "                              {'rdf_type': None,\n",
      "                               'uri': 'http://www.phenome-fppn.fr/id/data/1627603200/a900b32667d0b33db7cdc2a483b713e3'},\n",
      "                              {'rdf_type': None,\n",
      "                               'uri': 'http://www.phenome-fppn.fr/id/data/1627603200/1ef56e15e9986c042d6aa934df2b085c'},\n",
      "                              {'rdf_type': None,\n",
      "                               'uri': 'http://www.phenome-fppn.fr/id/data/1627603200/6cecaccd2ed46e5281271011d1453dfb'},\n",
      "                              {'rdf_type': None,\n",
      "                               'uri': 'http://www.phenome-fppn.fr/id/data/1627603200/2bc353513a3ce343420bb5a16df1c51c'},\n",
      "                              {'rdf_type': None,\n",
      "                               'uri': 'http://www.phenome-fppn.fr/id/data/1627603200/304479c74ba3ea7ea4e05ed15f065c7c'},\n",
      "                              {'rdf_type': None,\n",
      "                               'uri': 'http://www.phenome-fppn.fr/id/data/1627603200/bf4bab720a830591ae46718bc7bdd21b'},\n",
      "                              {'rdf_type': None,\n",
      "                               'uri': 'http://www.phenome-fppn.fr/id/data/1627603200/36c0cb90951fd7e07b985d53f6717e3c'},\n",
      "                              {'rdf_type': None,\n",
      "                               'uri': 'http://www.phenome-fppn.fr/id/data/1627603200/30dc33b8545bc8dc70c3b409ed32c2e3'},\n",
      "                              {'rdf_type': None,\n",
      "                               'uri': 'http://www.phenome-fppn.fr/id/data/1627603200/c9941a50b65b79af1e4fc1c31bb2fce2'},\n",
      "                              {'rdf_type': None,\n",
      "                               'uri': 'http://www.phenome-fppn.fr/id/data/1627603200/279ca21b895a93fba436daf076332f30'}],\n",
      "                'settings': None,\n",
      "                'uri': 'http://www.phenome-fppn.fr/id/provenance/grain_sample_pmg15_prov/6'},\n",
      " 'raw_data': None,\n",
      " 'scientific_object': 'http://www.phenome-fppn.fr/set/scientific-objects/so-74-9',\n",
      " 'timezone': None,\n",
      " 'uri': None,\n",
      " 'value': 333.3289412,\n",
      " 'variable': 'test:set/variables#variable.pmg15/7'}]]\n"
     ]
    }
   ],
   "source": [
    "dc_dto = opensilexClientToolsPython.DataCreationDTO\n",
    "pem = opensilexClientToolsPython.ProvEntityModel\n",
    "pems = [\n",
    "    [\n",
    "        pem(res_data_three[y][\"result\"][x])\n",
    "        for x in range(0, n)\n",
    "    ]\n",
    "    for y in range(0, 3)\n",
    "]\n",
    "bodies = [\n",
    "    [\n",
    "        dc_dto(_date=\"2021-07-30\",\n",
    "           variable=var_uris[y],\n",
    "           value=float(df[vars_kept[y]][x]),\n",
    "           scientific_object=so_uris[x],\n",
    "           provenance=dpm(uri=prov_uris[y], prov_used=pems[1] + pems[2]))\n",
    "        if y == 3\n",
    "        else\n",
    "        dc_dto(_date=\"2021-07-30\",\n",
    "           variable=var_uris[y],\n",
    "           value=float(df[vars_kept[y]][x]),\n",
    "           scientific_object=so_uris[x],\n",
    "           provenance=dpm(uri=prov_uris[y], prov_used=pems[0] + pems[1] + pems[2]))\n",
    "        for x in range(0, n)\n",
    "    ]\n",
    "    for y in range(3, len(vars_kept))\n",
    "]\n",
    "pprint(bodies)"
   ]
  },
  {
   "cell_type": "markdown",
   "id": "db3962c6-22ae-48d5-ae41-aacba6c65510",
   "metadata": {},
   "source": [
    "Length should be 2 Variables * 5"
   ]
  },
  {
   "cell_type": "code",
   "execution_count": 45,
   "id": "2578a695-c471-41c7-972c-d56ea235351a",
   "metadata": {},
   "outputs": [
    {
     "name": "stdout",
     "output_type": "stream",
     "text": [
      "2 5\n"
     ]
    }
   ],
   "source": [
    "print(len(bodies), len(bodies[0]))"
   ]
  },
  {
   "cell_type": "code",
   "execution_count": 46,
   "id": "6f6cdca7-1a1c-4ade-b954-5752a81a8cf7",
   "metadata": {
    "tags": []
   },
   "outputs": [],
   "source": [
    "res_data_two = [\n",
    "    data_api_instance.add_list_data(body=bodies[x])\n",
    "    for x in range(0, 2)\n",
    "]"
   ]
  },
  {
   "cell_type": "code",
   "execution_count": 47,
   "id": "f61d9d32-72eb-4de5-8101-740a9e0eb276",
   "metadata": {
    "tags": []
   },
   "outputs": [
    {
     "data": {
      "text/plain": [
       "[{'result': ['http://www.phenome-fppn.fr/id/data/1627603200/34fb0bacfc180f18f3cc0427c60ed461',\n",
       "   'http://www.phenome-fppn.fr/id/data/1627603200/e38d425eb1163e7e64b4dc61ecfc25e7',\n",
       "   'http://www.phenome-fppn.fr/id/data/1627603200/a57c13d026ccae5ab910a8df41a53a68',\n",
       "   'http://www.phenome-fppn.fr/id/data/1627603200/a137f02e85cb899c410ca379be8785d4',\n",
       "   'http://www.phenome-fppn.fr/id/data/1627603200/34533dd88f5b08e95b0dc9f87ce29bf4'],\n",
       "  'metadata': {'pagination': {'pageSize': 0,\n",
       "    'currentPage': 0,\n",
       "    'totalCount': 0,\n",
       "    'totalPages': 0},\n",
       "   'status': [],\n",
       "   'datafiles': ['http://www.phenome-fppn.fr/id/data/1627603200/34fb0bacfc180f18f3cc0427c60ed461',\n",
       "    'http://www.phenome-fppn.fr/id/data/1627603200/e38d425eb1163e7e64b4dc61ecfc25e7',\n",
       "    'http://www.phenome-fppn.fr/id/data/1627603200/a57c13d026ccae5ab910a8df41a53a68',\n",
       "    'http://www.phenome-fppn.fr/id/data/1627603200/a137f02e85cb899c410ca379be8785d4',\n",
       "    'http://www.phenome-fppn.fr/id/data/1627603200/34533dd88f5b08e95b0dc9f87ce29bf4']}},\n",
       " {'result': ['http://www.phenome-fppn.fr/id/data/1627603200/a1e3c743711a895822fc4e83073f8230',\n",
       "   'http://www.phenome-fppn.fr/id/data/1627603200/5ac37397cbcfb8aadf0e80346386f514',\n",
       "   'http://www.phenome-fppn.fr/id/data/1627603200/64156e989e629a93ebfe0afa0e963d84',\n",
       "   'http://www.phenome-fppn.fr/id/data/1627603200/7a6f0f18cb2f03567012516f3f2e9193',\n",
       "   'http://www.phenome-fppn.fr/id/data/1627603200/58c7572d7c305c8e379d708a081ed745'],\n",
       "  'metadata': {'pagination': {'pageSize': 0,\n",
       "    'currentPage': 0,\n",
       "    'totalCount': 0,\n",
       "    'totalPages': 0},\n",
       "   'status': [],\n",
       "   'datafiles': ['http://www.phenome-fppn.fr/id/data/1627603200/a1e3c743711a895822fc4e83073f8230',\n",
       "    'http://www.phenome-fppn.fr/id/data/1627603200/5ac37397cbcfb8aadf0e80346386f514',\n",
       "    'http://www.phenome-fppn.fr/id/data/1627603200/64156e989e629a93ebfe0afa0e963d84',\n",
       "    'http://www.phenome-fppn.fr/id/data/1627603200/7a6f0f18cb2f03567012516f3f2e9193',\n",
       "    'http://www.phenome-fppn.fr/id/data/1627603200/58c7572d7c305c8e379d708a081ed745']}}]"
      ]
     },
     "execution_count": 47,
     "metadata": {},
     "output_type": "execute_result"
    }
   ],
   "source": [
    "res_data_two"
   ]
  },
  {
   "cell_type": "markdown",
   "id": "e3d6b66e-e962-41c5-957f-202dbc7782ae",
   "metadata": {},
   "source": [
    "Checking the result on one entry"
   ]
  },
  {
   "cell_type": "code",
   "execution_count": 48,
   "id": "a910404e-dfe8-4a97-8a91-b05889e7d19f",
   "metadata": {},
   "outputs": [
    {
     "data": {
      "text/plain": [
       "{'result': {'_date': '2021-07-30',\n",
       "  'confidence': None,\n",
       "  'metadata': None,\n",
       "  'provenance': {'experiments': None,\n",
       "                 'prov_used': [{'rdf_type': None,\n",
       "                                'uri': 'test:id/data/1627603200/44576454fb85e94c15daca10d5e38ef9'},\n",
       "                               {'rdf_type': None,\n",
       "                                'uri': 'test:id/data/1627603200/9b4bb86883a3797ebcf53956794e453e'},\n",
       "                               {'rdf_type': None,\n",
       "                                'uri': 'test:id/data/1627603200/49d0efc416022d07bb623ffba23c9df7'},\n",
       "                               {'rdf_type': None,\n",
       "                                'uri': 'test:id/data/1627603200/158e1611709bc7bd9e6ce6256d431f33'},\n",
       "                               {'rdf_type': None,\n",
       "                                'uri': 'test:id/data/1627603200/3c4666aeecb9dae663c85780aa020755'},\n",
       "                               {'rdf_type': None,\n",
       "                                'uri': 'test:id/data/1627603200/a900b32667d0b33db7cdc2a483b713e3'},\n",
       "                               {'rdf_type': None,\n",
       "                                'uri': 'test:id/data/1627603200/1ef56e15e9986c042d6aa934df2b085c'},\n",
       "                               {'rdf_type': None,\n",
       "                                'uri': 'test:id/data/1627603200/6cecaccd2ed46e5281271011d1453dfb'},\n",
       "                               {'rdf_type': None,\n",
       "                                'uri': 'test:id/data/1627603200/2bc353513a3ce343420bb5a16df1c51c'},\n",
       "                               {'rdf_type': None,\n",
       "                                'uri': 'test:id/data/1627603200/304479c74ba3ea7ea4e05ed15f065c7c'},\n",
       "                               {'rdf_type': None,\n",
       "                                'uri': 'test:id/data/1627603200/bf4bab720a830591ae46718bc7bdd21b'},\n",
       "                               {'rdf_type': None,\n",
       "                                'uri': 'test:id/data/1627603200/36c0cb90951fd7e07b985d53f6717e3c'},\n",
       "                               {'rdf_type': None,\n",
       "                                'uri': 'test:id/data/1627603200/30dc33b8545bc8dc70c3b409ed32c2e3'},\n",
       "                               {'rdf_type': None,\n",
       "                                'uri': 'test:id/data/1627603200/c9941a50b65b79af1e4fc1c31bb2fce2'},\n",
       "                               {'rdf_type': None,\n",
       "                                'uri': 'test:id/data/1627603200/279ca21b895a93fba436daf076332f30'}],\n",
       "                 'settings': None,\n",
       "                 'uri': 'test:id/provenance/grain_sample_pmg15_prov/6'},\n",
       "  'raw_data': None,\n",
       "  'scientific_object': 'test:set/scientific-objects/so-10-9',\n",
       "  'uri': 'test:id/data/1627603200/a1e3c743711a895822fc4e83073f8230',\n",
       "  'value': 303.6202353,\n",
       "  'variable': 'test:set/variables#variable.pmg15/7'},\n",
       " 'metadata': {'pagination': {'pageSize': 0,\n",
       "   'currentPage': 0,\n",
       "   'totalCount': 0,\n",
       "   'totalPages': 0},\n",
       "  'status': [],\n",
       "  'datafiles': []}}"
      ]
     },
     "execution_count": 48,
     "metadata": {},
     "output_type": "execute_result"
    }
   ],
   "source": [
    "data_api_instance.get_data(res_data_two[1][\"result\"][0])"
   ]
  },
  {
   "cell_type": "markdown",
   "id": "3501cabd-2d82-42dd-8f29-dab94f1f4264",
   "metadata": {},
   "source": [
    "---\n",
    "#    "
   ]
  }
 ],
 "metadata": {
  "kernelspec": {
   "display_name": "Python 3",
   "language": "python",
   "name": "python3"
  },
  "language_info": {
   "codemirror_mode": {
    "name": "ipython",
    "version": 3
   },
   "file_extension": ".py",
   "mimetype": "text/x-python",
   "name": "python",
   "nbconvert_exporter": "python",
   "pygments_lexer": "ipython3",
   "version": "3.8.10"
  }
 },
 "nbformat": 4,
 "nbformat_minor": 5
}
