{
 "cells": [
  {
   "attachments": {},
   "cell_type": "markdown",
   "metadata": {},
   "source": [
    "# Small example of data import \n",
    "09/09/2022  \n",
    "Gabriel Besombes      \n",
    "\n",
    "#     <br>"
   ]
  },
  {
   "attachments": {},
   "cell_type": "markdown",
   "metadata": {},
   "source": [
    "## Import packages\n",
    "---"
   ]
  },
  {
   "cell_type": "code",
   "execution_count": 1,
   "metadata": {},
   "outputs": [],
   "source": [
    "import opensilexClientToolsPython as oCTP\n",
    "import getpass"
   ]
  },
  {
   "attachments": {},
   "cell_type": "markdown",
   "metadata": {},
   "source": [
    "---\n",
    "#    <br>"
   ]
  },
  {
   "attachments": {},
   "cell_type": "markdown",
   "metadata": {},
   "source": [
    "## Use of the `ApiClient` class\n",
    "---"
   ]
  },
  {
   "attachments": {},
   "cell_type": "markdown",
   "metadata": {},
   "source": [
    "Creating instances of :\n",
    "* `ApiClient` class to connect to OpenSilex\n",
    "* `VariablesApi` class to create/query Variables\n",
    "* `ScientificObjectsApi` class to create Scientific Objects\n",
    "* `DataApi` class to upload/query the Data"
   ]
  },
  {
   "cell_type": "code",
   "execution_count": 2,
   "metadata": {},
   "outputs": [],
   "source": [
    "pythonClient = oCTP.ApiClient()\n",
    "pythonClient.connect_to_opensilex_ws(identifier=input(\"Identifier : \"),\n",
    "                                     password=getpass.getpass('Password : '),\n",
    "                                     host=\"http://opensilex.org/sandbox/rest\")\n",
    "var_api_instance = oCTP.VariablesApi(pythonClient)\n",
    "data_api_instance = oCTP.DataApi(pythonClient)\n",
    "obj_api_instance = oCTP.ScientificObjectsApi(pythonClient)"
   ]
  },
  {
   "attachments": {},
   "cell_type": "markdown",
   "metadata": {},
   "source": [
    "---\n",
    "#   <br>"
   ]
  },
  {
   "attachments": {},
   "cell_type": "markdown",
   "metadata": {},
   "source": [
    "## Creating an object\n",
    "---"
   ]
  },
  {
   "cell_type": "code",
   "execution_count": 3,
   "metadata": {},
   "outputs": [
    {
     "data": {
      "text/plain": [
       "'http://opensilex.test/id/scientific-object/so-my_scientific_object/2'"
      ]
     },
     "execution_count": 3,
     "metadata": {},
     "output_type": "execute_result"
    }
   ],
   "source": [
    "body = oCTP.ScientificObjectCreationDTO(\n",
    "    rdf_type = \"vocabulary:ScientificObject\", \n",
    "    name = \"my scientific object\"\n",
    ")\n",
    "response = obj_api_instance.create_scientific_object(body=body)\n",
    "object_uri = response[\"result\"][0]\n",
    "object_uri"
   ]
  },
  {
   "attachments": {},
   "cell_type": "markdown",
   "metadata": {},
   "source": [
    "---\n",
    "#   <br>"
   ]
  },
  {
   "attachments": {},
   "cell_type": "markdown",
   "metadata": {},
   "source": [
    "## Creating a variable\n",
    "---"
   ]
  },
  {
   "cell_type": "code",
   "execution_count": 4,
   "metadata": {},
   "outputs": [
    {
     "data": {
      "text/plain": [
       "'opensilex-sandbox:id/variable/my_variable'"
      ]
     },
     "execution_count": 4,
     "metadata": {},
     "output_type": "execute_result"
    }
   ],
   "source": [
    "body = oCTP.VariableCreationDTO(\n",
    "    name = \"my variable\",\n",
    "    entity = \"http://purl.obolibrary.org/obo/ENVO_00002005\", # Air\n",
    "    characteristic = \"http://purl.obolibrary.org/obo/PATO_0000146\",\n",
    "    method = \"http://phenome.inrae.fr/id/variable/method.thermocouple\",\n",
    "    unit = \"http://www.ontology-of-units-of-measure.org/resource/om-2/degreeCelsius\",\n",
    "    datatype = \"http://www.w3.org/2001/XMLSchema#decimal\"\n",
    ")\n",
    "response = var_api_instance.create_variable(body=body)\n",
    "variable_uri = response[\"result\"][0]\n",
    "variable_uri"
   ]
  },
  {
   "attachments": {},
   "cell_type": "markdown",
   "metadata": {},
   "source": [
    "---\n",
    "#   <br>"
   ]
  },
  {
   "attachments": {},
   "cell_type": "markdown",
   "metadata": {},
   "source": [
    "## Creating a data point\n",
    "---"
   ]
  },
  {
   "cell_type": "code",
   "execution_count": 5,
   "metadata": {},
   "outputs": [
    {
     "data": {
      "text/plain": [
       "'http://opensilex.test/id/data/fde2db51-bf01-489f-a3a1-02f82b678903'"
      ]
     },
     "execution_count": 5,
     "metadata": {},
     "output_type": "execute_result"
    }
   ],
   "source": [
    "body = [oCTP.DataCreationDTO(\n",
    "    _date = \"2022-09-08\", \n",
    "    target = object_uri, \n",
    "    variable = variable_uri, \n",
    "    provenance = oCTP.DataProvenanceModel(uri = \"test:provenance/standard_provenance\"),\n",
    "    value = 3.14\n",
    ")]\n",
    "response = data_api_instance.add_list_data(body=body)\n",
    "data_uri = response[\"result\"][0]\n",
    "data_uri"
   ]
  },
  {
   "attachments": {},
   "cell_type": "markdown",
   "metadata": {},
   "source": [
    "---\n",
    "#   <br>"
   ]
  },
  {
   "attachments": {},
   "cell_type": "markdown",
   "metadata": {},
   "source": [
    "## Getting the data associated with our variable and object\n",
    "---"
   ]
  },
  {
   "cell_type": "code",
   "execution_count": 6,
   "metadata": {},
   "outputs": [
    {
     "data": {
      "text/plain": [
       "[{'_date': '2022-09-08',\n",
       "  'confidence': None,\n",
       "  'metadata': None,\n",
       "  'provenance': {'experiments': None,\n",
       "                 'prov_used': None,\n",
       "                 'prov_was_associated_with': None,\n",
       "                 'settings': None,\n",
       "                 'uri': 'test:provenance/standard_provenance'},\n",
       "  'raw_data': None,\n",
       "  'target': 'opensilex-sandbox:id/scientific-object/so-my_scientific_object/2',\n",
       "  'uri': 'opensilex-sandbox:id/data/fde2db51-bf01-489f-a3a1-02f82b678903',\n",
       "  'value': 3.14,\n",
       "  'variable': 'opensilex-sandbox:id/variable/my_variable'}]"
      ]
     },
     "execution_count": 6,
     "metadata": {},
     "output_type": "execute_result"
    }
   ],
   "source": [
    "response = data_api_instance.search_data_list(\n",
    "    targets = [object_uri], \n",
    "    variables = [variable_uri]\n",
    ")\n",
    "data = response[\"result\"]\n",
    "data"
   ]
  },
  {
   "cell_type": "code",
   "execution_count": 7,
   "metadata": {},
   "outputs": [
    {
     "data": {
      "text/plain": [
       "{'result': [{'_date': '2022-09-08',\n",
       "   'confidence': None,\n",
       "   'metadata': None,\n",
       "   'provenance': {'experiments': None,\n",
       "                  'prov_used': None,\n",
       "                  'prov_was_associated_with': None,\n",
       "                  'settings': None,\n",
       "                  'uri': 'test:provenance/standard_provenance'},\n",
       "   'raw_data': None,\n",
       "   'target': 'opensilex-sandbox:id/scientific-object/so-my_scientific_object/2',\n",
       "   'uri': 'opensilex-sandbox:id/data/fde2db51-bf01-489f-a3a1-02f82b678903',\n",
       "   'value': 3.14,\n",
       "   'variable': 'opensilex-sandbox:id/variable/my_variable'}],\n",
       " 'metadata': {'pagination': {'pageSize': 20,\n",
       "   'currentPage': 0,\n",
       "   'totalCount': 1,\n",
       "   'totalPages': 1},\n",
       "  'status': [],\n",
       "  'datafiles': []}}"
      ]
     },
     "execution_count": 7,
     "metadata": {},
     "output_type": "execute_result"
    }
   ],
   "source": [
    "response"
   ]
  },
  {
   "attachments": {},
   "cell_type": "markdown",
   "metadata": {},
   "source": [
    "---\n",
    "#   <br>"
   ]
  }
 ],
 "metadata": {
  "kernelspec": {
   "display_name": "Python 3.9.7 ('PyR')",
   "language": "python",
   "name": "python3"
  },
  "language_info": {
   "codemirror_mode": {
    "name": "ipython",
    "version": 3
   },
   "file_extension": ".py",
   "mimetype": "text/x-python",
   "name": "python",
   "nbconvert_exporter": "python",
   "pygments_lexer": "ipython3",
   "version": "3.9.13"
  },
  "orig_nbformat": 4,
  "vscode": {
   "interpreter": {
    "hash": "4274126d5a09977ab27b31797281700bd0b2435b4f709d3501564ae031ad3783"
   }
  }
 },
 "nbformat": 4,
 "nbformat_minor": 2
}
