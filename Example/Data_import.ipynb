{
 "cells": [
  {
   "cell_type": "markdown",
   "metadata": {},
   "source": [
    "# Data Importation example with multiple variables and secondary variables    \n",
    "27/07/2021   \n",
    "Gabriel Besombes    \n",
    "__Data used__ : GrainSample.csv, extracted from Notations_2020_EPPN-PhenoMaize.xlsx     \n",
    "\n",
    "#     <br>"
   ]
  },
  {
   "cell_type": "markdown",
   "metadata": {},
   "source": [
    "## Import packages\n",
    "---"
   ]
  },
  {
   "cell_type": "code",
   "execution_count": 9,
   "metadata": {},
   "outputs": [],
   "source": [
    "import opensilexClientToolsPython as oCTP\n",
    "import pandas as pd\n",
    "import getpass"
   ]
  },
  {
   "cell_type": "markdown",
   "metadata": {},
   "source": [
    "---\n",
    "#    <br>"
   ]
  },
  {
   "cell_type": "markdown",
   "metadata": {},
   "source": [
    "## Import csv\n",
    "---"
   ]
  },
  {
   "cell_type": "code",
   "execution_count": 10,
   "metadata": {},
   "outputs": [
    {
     "data": {
      "text/html": [
       "<div>\n",
       "<style scoped>\n",
       "    .dataframe tbody tr th:only-of-type {\n",
       "        vertical-align: middle;\n",
       "    }\n",
       "\n",
       "    .dataframe tbody tr th {\n",
       "        vertical-align: top;\n",
       "    }\n",
       "\n",
       "    .dataframe thead th {\n",
       "        text-align: right;\n",
       "    }\n",
       "</style>\n",
       "<table border=\"1\" class=\"dataframe\">\n",
       "  <thead>\n",
       "    <tr style=\"text-align: right;\">\n",
       "      <th></th>\n",
       "      <th>Tri</th>\n",
       "      <th>Trial_id</th>\n",
       "      <th>X</th>\n",
       "      <th>Y</th>\n",
       "      <th>Plot</th>\n",
       "      <th>Alias</th>\n",
       "      <th>Experiment</th>\n",
       "      <th>Species</th>\n",
       "      <th>Variety</th>\n",
       "      <th>ExperimentModalities</th>\n",
       "      <th>...</th>\n",
       "      <th>Project</th>\n",
       "      <th>Alias_PF</th>\n",
       "      <th>CodeB</th>\n",
       "      <th>GrainSample</th>\n",
       "      <th>Hte</th>\n",
       "      <th>nbk</th>\n",
       "      <th>Poids</th>\n",
       "      <th>Date</th>\n",
       "      <th>PMG</th>\n",
       "      <th>PMG15</th>\n",
       "    </tr>\n",
       "  </thead>\n",
       "  <tbody>\n",
       "    <tr>\n",
       "      <th>0</th>\n",
       "      <td>79</td>\n",
       "      <td>MA20_PM</td>\n",
       "      <td>3</td>\n",
       "      <td>8</td>\n",
       "      <td>10</td>\n",
       "      <td>EPPN_Plot_0010</td>\n",
       "      <td>2020_PhenoMaize</td>\n",
       "      <td>Maize</td>\n",
       "      <td>DKC4590</td>\n",
       "      <td>WW</td>\n",
       "      <td>...</td>\n",
       "      <td>EPPN</td>\n",
       "      <td>73</td>\n",
       "      <td>MA20_PM_10_DKC4590_1</td>\n",
       "      <td>1</td>\n",
       "      <td>21.0</td>\n",
       "      <td>500</td>\n",
       "      <td>163.34</td>\n",
       "      <td>2020-10-14</td>\n",
       "      <td>326.68</td>\n",
       "      <td>303.620235</td>\n",
       "    </tr>\n",
       "    <tr>\n",
       "      <th>1</th>\n",
       "      <td>77</td>\n",
       "      <td>MA20_PM</td>\n",
       "      <td>3</td>\n",
       "      <td>10</td>\n",
       "      <td>26</td>\n",
       "      <td>EPPN_Plot_0026</td>\n",
       "      <td>2020_PhenoMaize</td>\n",
       "      <td>Maize</td>\n",
       "      <td>EPPN4_H</td>\n",
       "      <td>WW</td>\n",
       "      <td>...</td>\n",
       "      <td>EPPN</td>\n",
       "      <td>93</td>\n",
       "      <td>MA20_PM_26_EPPN4_H_2</td>\n",
       "      <td>2</td>\n",
       "      <td>17.8</td>\n",
       "      <td>500</td>\n",
       "      <td>142.70</td>\n",
       "      <td>2020-10-14</td>\n",
       "      <td>285.40</td>\n",
       "      <td>275.998588</td>\n",
       "    </tr>\n",
       "    <tr>\n",
       "      <th>2</th>\n",
       "      <td>75</td>\n",
       "      <td>MA20_PM</td>\n",
       "      <td>3</td>\n",
       "      <td>12</td>\n",
       "      <td>42</td>\n",
       "      <td>EPPN_Plot_0042</td>\n",
       "      <td>2020_PhenoMaize</td>\n",
       "      <td>Maize</td>\n",
       "      <td>EPPN9_H</td>\n",
       "      <td>WW</td>\n",
       "      <td>...</td>\n",
       "      <td>EPPN</td>\n",
       "      <td>113</td>\n",
       "      <td>MA20_PM_42_EPPN9_H_3</td>\n",
       "      <td>3</td>\n",
       "      <td>20.9</td>\n",
       "      <td>500</td>\n",
       "      <td>153.28</td>\n",
       "      <td>2020-10-14</td>\n",
       "      <td>306.56</td>\n",
       "      <td>285.281129</td>\n",
       "    </tr>\n",
       "    <tr>\n",
       "      <th>3</th>\n",
       "      <td>73</td>\n",
       "      <td>MA20_PM</td>\n",
       "      <td>3</td>\n",
       "      <td>14</td>\n",
       "      <td>58</td>\n",
       "      <td>EPPN_Plot_0058</td>\n",
       "      <td>2020_PhenoMaize</td>\n",
       "      <td>Maize</td>\n",
       "      <td>EPPN2_H</td>\n",
       "      <td>WW</td>\n",
       "      <td>...</td>\n",
       "      <td>EPPN</td>\n",
       "      <td>133</td>\n",
       "      <td>MA20_PM_58_EPPN2_H_4</td>\n",
       "      <td>4</td>\n",
       "      <td>19.7</td>\n",
       "      <td>500</td>\n",
       "      <td>136.86</td>\n",
       "      <td>2020-10-14</td>\n",
       "      <td>273.72</td>\n",
       "      <td>258.584894</td>\n",
       "    </tr>\n",
       "    <tr>\n",
       "      <th>4</th>\n",
       "      <td>71</td>\n",
       "      <td>MA20_PM</td>\n",
       "      <td>3</td>\n",
       "      <td>16</td>\n",
       "      <td>74</td>\n",
       "      <td>EPPN_Plot_0074</td>\n",
       "      <td>2020_PhenoMaize</td>\n",
       "      <td>Maize</td>\n",
       "      <td>DKC4590</td>\n",
       "      <td>WW</td>\n",
       "      <td>...</td>\n",
       "      <td>EPPN</td>\n",
       "      <td>153</td>\n",
       "      <td>MA20_PM_74_DKC4590_5</td>\n",
       "      <td>5</td>\n",
       "      <td>19.6</td>\n",
       "      <td>500</td>\n",
       "      <td>176.20</td>\n",
       "      <td>2020-10-14</td>\n",
       "      <td>352.40</td>\n",
       "      <td>333.328941</td>\n",
       "    </tr>\n",
       "  </tbody>\n",
       "</table>\n",
       "<p>5 rows × 23 columns</p>\n",
       "</div>"
      ],
      "text/plain": [
       "   Tri Trial_id  X   Y  Plot           Alias       Experiment Species  \\\n",
       "0   79  MA20_PM  3   8    10  EPPN_Plot_0010  2020_PhenoMaize   Maize   \n",
       "1   77  MA20_PM  3  10    26  EPPN_Plot_0026  2020_PhenoMaize   Maize   \n",
       "2   75  MA20_PM  3  12    42  EPPN_Plot_0042  2020_PhenoMaize   Maize   \n",
       "3   73  MA20_PM  3  14    58  EPPN_Plot_0058  2020_PhenoMaize   Maize   \n",
       "4   71  MA20_PM  3  16    74  EPPN_Plot_0074  2020_PhenoMaize   Maize   \n",
       "\n",
       "   Variety ExperimentModalities  ...  Project  Alias_PF                 CodeB  \\\n",
       "0  DKC4590                   WW  ...     EPPN        73  MA20_PM_10_DKC4590_1   \n",
       "1  EPPN4_H                   WW  ...     EPPN        93  MA20_PM_26_EPPN4_H_2   \n",
       "2  EPPN9_H                   WW  ...     EPPN       113  MA20_PM_42_EPPN9_H_3   \n",
       "3  EPPN2_H                   WW  ...     EPPN       133  MA20_PM_58_EPPN2_H_4   \n",
       "4  DKC4590                   WW  ...     EPPN       153  MA20_PM_74_DKC4590_5   \n",
       "\n",
       "  GrainSample   Hte  nbk   Poids        Date     PMG       PMG15  \n",
       "0           1  21.0  500  163.34  2020-10-14  326.68  303.620235  \n",
       "1           2  17.8  500  142.70  2020-10-14  285.40  275.998588  \n",
       "2           3  20.9  500  153.28  2020-10-14  306.56  285.281129  \n",
       "3           4  19.7  500  136.86  2020-10-14  273.72  258.584894  \n",
       "4           5  19.6  500  176.20  2020-10-14  352.40  333.328941  \n",
       "\n",
       "[5 rows x 23 columns]"
      ]
     },
     "execution_count": 10,
     "metadata": {},
     "output_type": "execute_result"
    }
   ],
   "source": [
    "df = pd.read_csv(\"./GrainSample.csv\", delimiter=\";\", decimal=\",\")\n",
    "df.head()"
   ]
  },
  {
   "cell_type": "markdown",
   "metadata": {},
   "source": [
    "Global look at the data"
   ]
  },
  {
   "cell_type": "code",
   "execution_count": 11,
   "metadata": {},
   "outputs": [
    {
     "data": {
      "text/html": [
       "<div>\n",
       "<style scoped>\n",
       "    .dataframe tbody tr th:only-of-type {\n",
       "        vertical-align: middle;\n",
       "    }\n",
       "\n",
       "    .dataframe tbody tr th {\n",
       "        vertical-align: top;\n",
       "    }\n",
       "\n",
       "    .dataframe thead th {\n",
       "        text-align: right;\n",
       "    }\n",
       "</style>\n",
       "<table border=\"1\" class=\"dataframe\">\n",
       "  <thead>\n",
       "    <tr style=\"text-align: right;\">\n",
       "      <th></th>\n",
       "      <th>Tri</th>\n",
       "      <th>X</th>\n",
       "      <th>Y</th>\n",
       "      <th>Plot</th>\n",
       "      <th>Replication</th>\n",
       "      <th>GenotypeNumber</th>\n",
       "      <th>Internal_Id</th>\n",
       "      <th>Alias_PF</th>\n",
       "      <th>GrainSample</th>\n",
       "      <th>Hte</th>\n",
       "      <th>nbk</th>\n",
       "      <th>Poids</th>\n",
       "      <th>PMG</th>\n",
       "      <th>PMG15</th>\n",
       "    </tr>\n",
       "  </thead>\n",
       "  <tbody>\n",
       "    <tr>\n",
       "      <th>count</th>\n",
       "      <td>108.000000</td>\n",
       "      <td>108.000000</td>\n",
       "      <td>108.000000</td>\n",
       "      <td>108.000000</td>\n",
       "      <td>108.000000</td>\n",
       "      <td>108.000000</td>\n",
       "      <td>108.00000</td>\n",
       "      <td>108.000000</td>\n",
       "      <td>108.00000</td>\n",
       "      <td>108.000000</td>\n",
       "      <td>108.0</td>\n",
       "      <td>108.000000</td>\n",
       "      <td>108.000000</td>\n",
       "      <td>108.000000</td>\n",
       "    </tr>\n",
       "    <tr>\n",
       "      <th>mean</th>\n",
       "      <td>160.500000</td>\n",
       "      <td>5.500000</td>\n",
       "      <td>41.500000</td>\n",
       "      <td>160.500000</td>\n",
       "      <td>2.722222</td>\n",
       "      <td>5.833333</td>\n",
       "      <td>54.50000</td>\n",
       "      <td>410.500000</td>\n",
       "      <td>54.50000</td>\n",
       "      <td>20.659259</td>\n",
       "      <td>500.0</td>\n",
       "      <td>156.456296</td>\n",
       "      <td>312.912593</td>\n",
       "      <td>292.036681</td>\n",
       "    </tr>\n",
       "    <tr>\n",
       "      <th>std</th>\n",
       "      <td>69.631003</td>\n",
       "      <td>1.715787</td>\n",
       "      <td>26.138917</td>\n",
       "      <td>94.061175</td>\n",
       "      <td>2.103994</td>\n",
       "      <td>4.750799</td>\n",
       "      <td>31.32092</td>\n",
       "      <td>261.394803</td>\n",
       "      <td>31.32092</td>\n",
       "      <td>1.672093</td>\n",
       "      <td>0.0</td>\n",
       "      <td>11.676797</td>\n",
       "      <td>23.353593</td>\n",
       "      <td>22.007594</td>\n",
       "    </tr>\n",
       "    <tr>\n",
       "      <th>min</th>\n",
       "      <td>42.000000</td>\n",
       "      <td>3.000000</td>\n",
       "      <td>8.000000</td>\n",
       "      <td>10.000000</td>\n",
       "      <td>0.000000</td>\n",
       "      <td>0.000000</td>\n",
       "      <td>1.00000</td>\n",
       "      <td>73.000000</td>\n",
       "      <td>1.00000</td>\n",
       "      <td>17.000000</td>\n",
       "      <td>500.0</td>\n",
       "      <td>129.800000</td>\n",
       "      <td>259.600000</td>\n",
       "      <td>238.199529</td>\n",
       "    </tr>\n",
       "    <tr>\n",
       "      <th>25%</th>\n",
       "      <td>101.750000</td>\n",
       "      <td>4.000000</td>\n",
       "      <td>16.000000</td>\n",
       "      <td>76.750000</td>\n",
       "      <td>1.000000</td>\n",
       "      <td>1.000000</td>\n",
       "      <td>27.75000</td>\n",
       "      <td>155.750000</td>\n",
       "      <td>27.75000</td>\n",
       "      <td>19.600000</td>\n",
       "      <td>500.0</td>\n",
       "      <td>148.342500</td>\n",
       "      <td>296.685000</td>\n",
       "      <td>276.368382</td>\n",
       "    </tr>\n",
       "    <tr>\n",
       "      <th>50%</th>\n",
       "      <td>160.500000</td>\n",
       "      <td>5.500000</td>\n",
       "      <td>41.500000</td>\n",
       "      <td>160.500000</td>\n",
       "      <td>3.000000</td>\n",
       "      <td>5.500000</td>\n",
       "      <td>54.50000</td>\n",
       "      <td>410.500000</td>\n",
       "      <td>54.50000</td>\n",
       "      <td>20.700000</td>\n",
       "      <td>500.0</td>\n",
       "      <td>154.900000</td>\n",
       "      <td>309.800000</td>\n",
       "      <td>288.746612</td>\n",
       "    </tr>\n",
       "    <tr>\n",
       "      <th>75%</th>\n",
       "      <td>219.250000</td>\n",
       "      <td>7.000000</td>\n",
       "      <td>67.000000</td>\n",
       "      <td>244.250000</td>\n",
       "      <td>5.000000</td>\n",
       "      <td>10.000000</td>\n",
       "      <td>81.25000</td>\n",
       "      <td>665.250000</td>\n",
       "      <td>81.25000</td>\n",
       "      <td>21.925000</td>\n",
       "      <td>500.0</td>\n",
       "      <td>165.240000</td>\n",
       "      <td>330.480000</td>\n",
       "      <td>309.596541</td>\n",
       "    </tr>\n",
       "    <tr>\n",
       "      <th>max</th>\n",
       "      <td>279.000000</td>\n",
       "      <td>8.000000</td>\n",
       "      <td>75.000000</td>\n",
       "      <td>311.000000</td>\n",
       "      <td>6.000000</td>\n",
       "      <td>14.000000</td>\n",
       "      <td>108.00000</td>\n",
       "      <td>748.000000</td>\n",
       "      <td>108.00000</td>\n",
       "      <td>24.900000</td>\n",
       "      <td>500.0</td>\n",
       "      <td>182.720000</td>\n",
       "      <td>365.440000</td>\n",
       "      <td>338.520000</td>\n",
       "    </tr>\n",
       "  </tbody>\n",
       "</table>\n",
       "</div>"
      ],
      "text/plain": [
       "              Tri           X           Y        Plot  Replication  \\\n",
       "count  108.000000  108.000000  108.000000  108.000000   108.000000   \n",
       "mean   160.500000    5.500000   41.500000  160.500000     2.722222   \n",
       "std     69.631003    1.715787   26.138917   94.061175     2.103994   \n",
       "min     42.000000    3.000000    8.000000   10.000000     0.000000   \n",
       "25%    101.750000    4.000000   16.000000   76.750000     1.000000   \n",
       "50%    160.500000    5.500000   41.500000  160.500000     3.000000   \n",
       "75%    219.250000    7.000000   67.000000  244.250000     5.000000   \n",
       "max    279.000000    8.000000   75.000000  311.000000     6.000000   \n",
       "\n",
       "       GenotypeNumber  Internal_Id    Alias_PF  GrainSample         Hte  \\\n",
       "count      108.000000    108.00000  108.000000    108.00000  108.000000   \n",
       "mean         5.833333     54.50000  410.500000     54.50000   20.659259   \n",
       "std          4.750799     31.32092  261.394803     31.32092    1.672093   \n",
       "min          0.000000      1.00000   73.000000      1.00000   17.000000   \n",
       "25%          1.000000     27.75000  155.750000     27.75000   19.600000   \n",
       "50%          5.500000     54.50000  410.500000     54.50000   20.700000   \n",
       "75%         10.000000     81.25000  665.250000     81.25000   21.925000   \n",
       "max         14.000000    108.00000  748.000000    108.00000   24.900000   \n",
       "\n",
       "         nbk       Poids         PMG       PMG15  \n",
       "count  108.0  108.000000  108.000000  108.000000  \n",
       "mean   500.0  156.456296  312.912593  292.036681  \n",
       "std      0.0   11.676797   23.353593   22.007594  \n",
       "min    500.0  129.800000  259.600000  238.199529  \n",
       "25%    500.0  148.342500  296.685000  276.368382  \n",
       "50%    500.0  154.900000  309.800000  288.746612  \n",
       "75%    500.0  165.240000  330.480000  309.596541  \n",
       "max    500.0  182.720000  365.440000  338.520000  "
      ]
     },
     "execution_count": 11,
     "metadata": {},
     "output_type": "execute_result"
    }
   ],
   "source": [
    "df.describe()"
   ]
  },
  {
   "cell_type": "markdown",
   "metadata": {},
   "source": [
    "Checking for na"
   ]
  },
  {
   "cell_type": "code",
   "execution_count": 12,
   "metadata": {},
   "outputs": [
    {
     "data": {
      "text/plain": [
       "False"
      ]
     },
     "execution_count": 12,
     "metadata": {},
     "output_type": "execute_result"
    }
   ],
   "source": [
    "df.isna().any().any()"
   ]
  },
  {
   "cell_type": "markdown",
   "metadata": {},
   "source": [
    "The data looks good from the get-go"
   ]
  },
  {
   "cell_type": "markdown",
   "metadata": {},
   "source": [
    "---\n",
    "#    <br>"
   ]
  },
  {
   "cell_type": "markdown",
   "metadata": {},
   "source": [
    "## Use of the `ApiClient` class\n",
    "---"
   ]
  },
  {
   "cell_type": "markdown",
   "metadata": {},
   "source": [
    "Creating instances of :\n",
    "* `ApiClient` class to connect to OpenSilex\n",
    "* `VariablesApi` class to create Variables\n",
    "* `ScientificObjectsApi` class to create Scientific Objects\n",
    "* `DataApi` class to create Provenances and upload the Data"
   ]
  },
  {
   "cell_type": "code",
   "execution_count": 13,
   "metadata": {},
   "outputs": [],
   "source": [
    "pythonClient = oCTP.ApiClient()\n",
    "pythonClient.connect_to_opensilex_ws(identifier=input(\"Identifier : \"),\n",
    "                                     password=getpass.getpass('Password : '),\n",
    "                                     host=\"http://138.102.159.37:8081/rest\")\n",
    "var_api_instance = oCTP.VariablesApi(pythonClient)\n",
    "data_api_instance = oCTP.DataApi(pythonClient)\n",
    "obj_api_instance = oCTP.ScientificObjectsApi(pythonClient)"
   ]
  },
  {
   "cell_type": "markdown",
   "metadata": {},
   "source": [
    "---\n",
    "#   <br>"
   ]
  },
  {
   "cell_type": "markdown",
   "metadata": {},
   "source": [
    "## Subset of data to test\n",
    "---"
   ]
  },
  {
   "cell_type": "markdown",
   "metadata": {},
   "source": [
    "The test is done with only the first five elements and on the __Hte__, __nbk__, __Poids__, __PMG__, __PMG15__ variables. __Plot__ is also kept as the scientific objects.    \n",
    "Description :\n",
    "* __Hte__ : Humidity level in %\n",
    "* __nbk__ : Number of grains in the sample\n",
    "* __Poids__ : Weight of the sample\n",
    "* __PMG__ : Thousand seeds weight (TSW) = __Poids__\\*1000/__nbk__\n",
    "* __PMG15__ = __PMG__\\*(100-__Hte__)/85"
   ]
  },
  {
   "cell_type": "code",
   "execution_count": 14,
   "metadata": {},
   "outputs": [],
   "source": [
    "n = 5"
   ]
  },
  {
   "cell_type": "code",
   "execution_count": 20,
   "metadata": {},
   "outputs": [
    {
     "data": {
      "text/html": [
       "<div>\n",
       "<style scoped>\n",
       "    .dataframe tbody tr th:only-of-type {\n",
       "        vertical-align: middle;\n",
       "    }\n",
       "\n",
       "    .dataframe tbody tr th {\n",
       "        vertical-align: top;\n",
       "    }\n",
       "\n",
       "    .dataframe thead th {\n",
       "        text-align: right;\n",
       "    }\n",
       "</style>\n",
       "<table border=\"1\" class=\"dataframe\">\n",
       "  <thead>\n",
       "    <tr style=\"text-align: right;\">\n",
       "      <th></th>\n",
       "      <th>Plot</th>\n",
       "      <th>Hte</th>\n",
       "      <th>nbk</th>\n",
       "      <th>Poids</th>\n",
       "      <th>PMG</th>\n",
       "      <th>PMG15</th>\n",
       "    </tr>\n",
       "  </thead>\n",
       "  <tbody>\n",
       "    <tr>\n",
       "      <th>0</th>\n",
       "      <td>10</td>\n",
       "      <td>21.0</td>\n",
       "      <td>500</td>\n",
       "      <td>163.34</td>\n",
       "      <td>326.68</td>\n",
       "      <td>303.620235</td>\n",
       "    </tr>\n",
       "    <tr>\n",
       "      <th>1</th>\n",
       "      <td>26</td>\n",
       "      <td>17.8</td>\n",
       "      <td>500</td>\n",
       "      <td>142.70</td>\n",
       "      <td>285.40</td>\n",
       "      <td>275.998588</td>\n",
       "    </tr>\n",
       "    <tr>\n",
       "      <th>2</th>\n",
       "      <td>42</td>\n",
       "      <td>20.9</td>\n",
       "      <td>500</td>\n",
       "      <td>153.28</td>\n",
       "      <td>306.56</td>\n",
       "      <td>285.281129</td>\n",
       "    </tr>\n",
       "    <tr>\n",
       "      <th>3</th>\n",
       "      <td>58</td>\n",
       "      <td>19.7</td>\n",
       "      <td>500</td>\n",
       "      <td>136.86</td>\n",
       "      <td>273.72</td>\n",
       "      <td>258.584894</td>\n",
       "    </tr>\n",
       "    <tr>\n",
       "      <th>4</th>\n",
       "      <td>74</td>\n",
       "      <td>19.6</td>\n",
       "      <td>500</td>\n",
       "      <td>176.20</td>\n",
       "      <td>352.40</td>\n",
       "      <td>333.328941</td>\n",
       "    </tr>\n",
       "  </tbody>\n",
       "</table>\n",
       "</div>"
      ],
      "text/plain": [
       "   Plot   Hte  nbk   Poids     PMG       PMG15\n",
       "0    10  21.0  500  163.34  326.68  303.620235\n",
       "1    26  17.8  500  142.70  285.40  275.998588\n",
       "2    42  20.9  500  153.28  306.56  285.281129\n",
       "3    58  19.7  500  136.86  273.72  258.584894\n",
       "4    74  19.6  500  176.20  352.40  333.328941"
      ]
     },
     "execution_count": 20,
     "metadata": {},
     "output_type": "execute_result"
    }
   ],
   "source": [
    "df[[\"Plot\", \"Hte\", \"nbk\", \"Poids\", \"PMG\", \"PMG15\"]][:n]"
   ]
  },
  {
   "cell_type": "code",
   "execution_count": 16,
   "metadata": {},
   "outputs": [],
   "source": [
    "vars_kept = [\"Hte\", \"nbk\", \"Poids\", \"PMG\", \"PMG15\"]"
   ]
  },
  {
   "cell_type": "markdown",
   "metadata": {},
   "source": [
    "Making sure to use the right data types"
   ]
  },
  {
   "cell_type": "code",
   "execution_count": 17,
   "metadata": {},
   "outputs": [
    {
     "data": {
      "text/html": [
       "<div>\n",
       "<style scoped>\n",
       "    .dataframe tbody tr th:only-of-type {\n",
       "        vertical-align: middle;\n",
       "    }\n",
       "\n",
       "    .dataframe tbody tr th {\n",
       "        vertical-align: top;\n",
       "    }\n",
       "\n",
       "    .dataframe thead th {\n",
       "        text-align: right;\n",
       "    }\n",
       "</style>\n",
       "<table border=\"1\" class=\"dataframe\">\n",
       "  <thead>\n",
       "    <tr style=\"text-align: right;\">\n",
       "      <th></th>\n",
       "      <th>Plot</th>\n",
       "      <th>Hte</th>\n",
       "      <th>nbk</th>\n",
       "      <th>Poids</th>\n",
       "      <th>PMG</th>\n",
       "      <th>PMG15</th>\n",
       "    </tr>\n",
       "  </thead>\n",
       "  <tbody>\n",
       "    <tr>\n",
       "      <th>0</th>\n",
       "      <td>10</td>\n",
       "      <td>21.0</td>\n",
       "      <td>500</td>\n",
       "      <td>163.34</td>\n",
       "      <td>326.68</td>\n",
       "      <td>303.620235</td>\n",
       "    </tr>\n",
       "    <tr>\n",
       "      <th>1</th>\n",
       "      <td>26</td>\n",
       "      <td>17.8</td>\n",
       "      <td>500</td>\n",
       "      <td>142.70</td>\n",
       "      <td>285.40</td>\n",
       "      <td>275.998588</td>\n",
       "    </tr>\n",
       "    <tr>\n",
       "      <th>2</th>\n",
       "      <td>42</td>\n",
       "      <td>20.9</td>\n",
       "      <td>500</td>\n",
       "      <td>153.28</td>\n",
       "      <td>306.56</td>\n",
       "      <td>285.281129</td>\n",
       "    </tr>\n",
       "    <tr>\n",
       "      <th>3</th>\n",
       "      <td>58</td>\n",
       "      <td>19.7</td>\n",
       "      <td>500</td>\n",
       "      <td>136.86</td>\n",
       "      <td>273.72</td>\n",
       "      <td>258.584894</td>\n",
       "    </tr>\n",
       "    <tr>\n",
       "      <th>4</th>\n",
       "      <td>74</td>\n",
       "      <td>19.6</td>\n",
       "      <td>500</td>\n",
       "      <td>176.20</td>\n",
       "      <td>352.40</td>\n",
       "      <td>333.328941</td>\n",
       "    </tr>\n",
       "  </tbody>\n",
       "</table>\n",
       "</div>"
      ],
      "text/plain": [
       "   Plot   Hte  nbk   Poids     PMG       PMG15\n",
       "0    10  21.0  500  163.34  326.68  303.620235\n",
       "1    26  17.8  500  142.70  285.40  275.998588\n",
       "2    42  20.9  500  153.28  306.56  285.281129\n",
       "3    58  19.7  500  136.86  273.72  258.584894\n",
       "4    74  19.6  500  176.20  352.40  333.328941"
      ]
     },
     "execution_count": 17,
     "metadata": {},
     "output_type": "execute_result"
    }
   ],
   "source": [
    "df[[\"Hte\", \"Poids\", \"PMG\", \"PMG15\"]] = df[[\"Hte\", \"Poids\", \"PMG\", \"PMG15\"]][:n].astype(float)\n",
    "df[[\"nbk\"]] = df[[\"nbk\"]].astype(int)\n",
    "df[[\"Plot\", \"Hte\", \"nbk\", \"Poids\", \"PMG\", \"PMG15\"]][:n]"
   ]
  },
  {
   "cell_type": "code",
   "execution_count": 18,
   "metadata": {},
   "outputs": [
    {
     "data": {
      "text/plain": [
       "Plot       int64\n",
       "Hte      float64\n",
       "nbk        int64\n",
       "Poids    float64\n",
       "PMG      float64\n",
       "PMG15    float64\n",
       "dtype: object"
      ]
     },
     "execution_count": 18,
     "metadata": {},
     "output_type": "execute_result"
    }
   ],
   "source": [
    "df[[\"Plot\", \"Hte\", \"nbk\", \"Poids\", \"PMG\", \"PMG15\"]].dtypes"
   ]
  },
  {
   "cell_type": "code",
   "execution_count": 21,
   "id": "d30778a3",
   "metadata": {},
   "outputs": [],
   "source": [
    "sub_df = df[[\"Plot\", \"Hte\", \"nbk\", \"Poids\", \"PMG\", \"PMG15\"]][:n]"
   ]
  },
  {
   "cell_type": "markdown",
   "metadata": {},
   "source": [
    "---\n",
    "#    <br>"
   ]
  },
  {
   "cell_type": "markdown",
   "metadata": {},
   "source": [
    "## 1) Creating the Provenances\n",
    "---"
   ]
  },
  {
   "cell_type": "markdown",
   "metadata": {},
   "source": [
    "One provenance is created for each variable"
   ]
  },
  {
   "cell_type": "markdown",
   "metadata": {},
   "source": [
    "`ProvenanceCreationDTO` is used to make the object that will be sent in the request"
   ]
  },
  {
   "cell_type": "code",
   "execution_count": 22,
   "metadata": {},
   "outputs": [
    {
     "data": {
      "text/plain": [
       "[{'description': None,\n",
       "  'name': 'Grain_sample_Hte_prov',\n",
       "  'prov_activity': None,\n",
       "  'prov_agent': None,\n",
       "  'uri': None},\n",
       " {'description': None,\n",
       "  'name': 'Grain_sample_nbk_prov',\n",
       "  'prov_activity': None,\n",
       "  'prov_agent': None,\n",
       "  'uri': None},\n",
       " {'description': None,\n",
       "  'name': 'Grain_sample_Poids_prov',\n",
       "  'prov_activity': None,\n",
       "  'prov_agent': None,\n",
       "  'uri': None},\n",
       " {'description': None,\n",
       "  'name': 'Grain_sample_PMG_prov',\n",
       "  'prov_activity': None,\n",
       "  'prov_agent': None,\n",
       "  'uri': None},\n",
       " {'description': None,\n",
       "  'name': 'Grain_sample_PMG15_prov',\n",
       "  'prov_activity': None,\n",
       "  'prov_agent': None,\n",
       "  'uri': None}]"
      ]
     },
     "execution_count": 22,
     "metadata": {},
     "output_type": "execute_result"
    }
   ],
   "source": [
    "pc_dto = oCTP.ProvenanceCreationDTO\n",
    "bodies = [pc_dto(name=\"Grain_sample_{}_prov\".format(v)) for v in vars_kept]\n",
    "bodies"
   ]
  },
  {
   "cell_type": "markdown",
   "metadata": {},
   "source": [
    "The Provenances are then created"
   ]
  },
  {
   "cell_type": "code",
   "execution_count": 23,
   "metadata": {},
   "outputs": [
    {
     "data": {
      "text/plain": [
       "[{'result': ['http://www.phenome-fppn.fr/id/provenance/grain_sample_hte_prov1'],\n",
       "  'metadata': {'pagination': {'pageSize': 0,\n",
       "    'currentPage': 0,\n",
       "    'totalCount': 0,\n",
       "    'totalPages': 0},\n",
       "   'status': [],\n",
       "   'datafiles': ['http://www.phenome-fppn.fr/id/provenance/grain_sample_hte_prov1']}},\n",
       " {'result': ['http://www.phenome-fppn.fr/id/provenance/grain_sample_nbk_prov1'],\n",
       "  'metadata': {'pagination': {'pageSize': 0,\n",
       "    'currentPage': 0,\n",
       "    'totalCount': 0,\n",
       "    'totalPages': 0},\n",
       "   'status': [],\n",
       "   'datafiles': ['http://www.phenome-fppn.fr/id/provenance/grain_sample_nbk_prov1']}},\n",
       " {'result': ['http://www.phenome-fppn.fr/id/provenance/grain_sample_poids_prov1'],\n",
       "  'metadata': {'pagination': {'pageSize': 0,\n",
       "    'currentPage': 0,\n",
       "    'totalCount': 0,\n",
       "    'totalPages': 0},\n",
       "   'status': [],\n",
       "   'datafiles': ['http://www.phenome-fppn.fr/id/provenance/grain_sample_poids_prov1']}},\n",
       " {'result': ['http://www.phenome-fppn.fr/id/provenance/grain_sample_pmg_prov1'],\n",
       "  'metadata': {'pagination': {'pageSize': 0,\n",
       "    'currentPage': 0,\n",
       "    'totalCount': 0,\n",
       "    'totalPages': 0},\n",
       "   'status': [],\n",
       "   'datafiles': ['http://www.phenome-fppn.fr/id/provenance/grain_sample_pmg_prov1']}},\n",
       " {'result': ['http://www.phenome-fppn.fr/id/provenance/grain_sample_pmg15_prov1'],\n",
       "  'metadata': {'pagination': {'pageSize': 0,\n",
       "    'currentPage': 0,\n",
       "    'totalCount': 0,\n",
       "    'totalPages': 0},\n",
       "   'status': [],\n",
       "   'datafiles': ['http://www.phenome-fppn.fr/id/provenance/grain_sample_pmg15_prov1']}}]"
      ]
     },
     "execution_count": 23,
     "metadata": {},
     "output_type": "execute_result"
    }
   ],
   "source": [
    "res_prov = [\n",
    "    data_api_instance.create_provenance(body=body)\n",
    "    for body in bodies\n",
    "]\n",
    "res_prov"
   ]
  },
  {
   "cell_type": "markdown",
   "metadata": {},
   "source": [
    "The Provenances' URIs are retrieved from `res_prov`"
   ]
  },
  {
   "cell_type": "code",
   "execution_count": 24,
   "metadata": {},
   "outputs": [
    {
     "data": {
      "text/plain": [
       "['http://www.phenome-fppn.fr/id/provenance/grain_sample_hte_prov1',\n",
       " 'http://www.phenome-fppn.fr/id/provenance/grain_sample_nbk_prov1',\n",
       " 'http://www.phenome-fppn.fr/id/provenance/grain_sample_poids_prov1',\n",
       " 'http://www.phenome-fppn.fr/id/provenance/grain_sample_pmg_prov1',\n",
       " 'http://www.phenome-fppn.fr/id/provenance/grain_sample_pmg15_prov1']"
      ]
     },
     "execution_count": 24,
     "metadata": {},
     "output_type": "execute_result"
    }
   ],
   "source": [
    "prov_uris = [prov['result'][0] for prov in res_prov]\n",
    "prov_uris"
   ]
  },
  {
   "cell_type": "markdown",
   "metadata": {},
   "source": [
    "---\n",
    "# <br>"
   ]
  },
  {
   "cell_type": "markdown",
   "metadata": {},
   "source": [
    "## 2) Creating the Variables\n",
    "---"
   ]
  },
  {
   "cell_type": "markdown",
   "metadata": {},
   "source": [
    "To create the Variables substeps are needed"
   ]
  },
  {
   "cell_type": "markdown",
   "metadata": {},
   "source": [
    "### Substep 1 : Entity creation"
   ]
  },
  {
   "cell_type": "markdown",
   "metadata": {},
   "source": [
    "Only one entity needs to be created as all these refer to grain samples"
   ]
  },
  {
   "cell_type": "markdown",
   "metadata": {},
   "source": [
    "`EntityCreationDTO` is used to make the right format of Json to create an Entity"
   ]
  },
  {
   "cell_type": "code",
   "execution_count": 25,
   "metadata": {
    "tags": []
   },
   "outputs": [
    {
     "data": {
      "text/plain": [
       "{'broad_match': None,\n",
       " 'close_match': None,\n",
       " 'description': None,\n",
       " 'exact_match': None,\n",
       " 'name': 'Grain_sample',\n",
       " 'narrow_match': None,\n",
       " 'uri': None}"
      ]
     },
     "execution_count": 25,
     "metadata": {},
     "output_type": "execute_result"
    }
   ],
   "source": [
    "body = oCTP.EntityCreationDTO(name=\"Grain_sample\")\n",
    "body"
   ]
  },
  {
   "cell_type": "markdown",
   "metadata": {},
   "source": [
    "The Entity is then created"
   ]
  },
  {
   "cell_type": "code",
   "execution_count": 26,
   "metadata": {},
   "outputs": [
    {
     "data": {
      "text/plain": [
       "{'result': ['test:id/variable/entity.grain_sample'],\n",
       " 'metadata': {'pagination': {'pageSize': 0,\n",
       "   'currentPage': 0,\n",
       "   'totalCount': 0,\n",
       "   'totalPages': 0},\n",
       "  'status': [],\n",
       "  'datafiles': ['test:id/variable/entity.grain_sample']}}"
      ]
     },
     "execution_count": 26,
     "metadata": {},
     "output_type": "execute_result"
    }
   ],
   "source": [
    "res_entity = var_api_instance.create_entity(body=body)\n",
    "res_entity"
   ]
  },
  {
   "cell_type": "markdown",
   "metadata": {},
   "source": [
    "The Entity's URI is retrieved from `res_entity`"
   ]
  },
  {
   "cell_type": "code",
   "execution_count": 27,
   "metadata": {},
   "outputs": [
    {
     "data": {
      "text/plain": [
       "'test:id/variable/entity.grain_sample'"
      ]
     },
     "execution_count": 27,
     "metadata": {},
     "output_type": "execute_result"
    }
   ],
   "source": [
    "entity_uri = res_entity['result'][0]\n",
    "entity_uri"
   ]
  },
  {
   "cell_type": "markdown",
   "metadata": {},
   "source": [
    "   <br>"
   ]
  },
  {
   "cell_type": "markdown",
   "metadata": {},
   "source": [
    "### Substep 2 : Characteristic creation"
   ]
  },
  {
   "cell_type": "markdown",
   "metadata": {},
   "source": [
    "One Characteristic is created for each variable"
   ]
  },
  {
   "cell_type": "code",
   "execution_count": 28,
   "metadata": {},
   "outputs": [
    {
     "data": {
      "text/plain": [
       "['Hte', 'nbk', 'Poids', 'PMG', 'PMG15']"
      ]
     },
     "execution_count": 28,
     "metadata": {},
     "output_type": "execute_result"
    }
   ],
   "source": [
    "vars_kept"
   ]
  },
  {
   "cell_type": "code",
   "execution_count": 29,
   "metadata": {},
   "outputs": [],
   "source": [
    "char_dict = {\n",
    "    'Hte' : 'Humidity level',\n",
    "    'nbk' : 'Number of grains',\n",
    "    'Poids' : 'Weight of sample',\n",
    "    'PMG' : 'Thousand seeds weight',\n",
    "    'PMG15' : 'Thousand seeds weight 15%'\n",
    "}"
   ]
  },
  {
   "cell_type": "markdown",
   "metadata": {},
   "source": [
    "`CharacteristicCreationDTO` is used to make the object that will be sent in the request to create a Characteristic"
   ]
  },
  {
   "cell_type": "code",
   "execution_count": 30,
   "metadata": {},
   "outputs": [
    {
     "data": {
      "text/plain": [
       "[{'broad_match': None,\n",
       "  'close_match': None,\n",
       "  'description': None,\n",
       "  'exact_match': None,\n",
       "  'name': 'Humidity level',\n",
       "  'narrow_match': None,\n",
       "  'uri': None},\n",
       " {'broad_match': None,\n",
       "  'close_match': None,\n",
       "  'description': None,\n",
       "  'exact_match': None,\n",
       "  'name': 'Number of grains',\n",
       "  'narrow_match': None,\n",
       "  'uri': None},\n",
       " {'broad_match': None,\n",
       "  'close_match': None,\n",
       "  'description': None,\n",
       "  'exact_match': None,\n",
       "  'name': 'Weight of sample',\n",
       "  'narrow_match': None,\n",
       "  'uri': None},\n",
       " {'broad_match': None,\n",
       "  'close_match': None,\n",
       "  'description': None,\n",
       "  'exact_match': None,\n",
       "  'name': 'Thousand seeds weight',\n",
       "  'narrow_match': None,\n",
       "  'uri': None},\n",
       " {'broad_match': None,\n",
       "  'close_match': None,\n",
       "  'description': None,\n",
       "  'exact_match': None,\n",
       "  'name': 'Thousand seeds weight 15%',\n",
       "  'narrow_match': None,\n",
       "  'uri': None}]"
      ]
     },
     "execution_count": 30,
     "metadata": {},
     "output_type": "execute_result"
    }
   ],
   "source": [
    "cc_dto = oCTP.CharacteristicCreationDTO\n",
    "bodies = [cc_dto(name=char_dict[x]) for x in vars_kept]\n",
    "bodies"
   ]
  },
  {
   "cell_type": "markdown",
   "metadata": {},
   "source": [
    "The Characteristics are then created"
   ]
  },
  {
   "cell_type": "code",
   "execution_count": 31,
   "metadata": {},
   "outputs": [
    {
     "data": {
      "text/plain": [
       "[{'result': ['test:id/variable/characteristic.humidity_level'],\n",
       "  'metadata': {'pagination': {'pageSize': 0,\n",
       "    'currentPage': 0,\n",
       "    'totalCount': 0,\n",
       "    'totalPages': 0},\n",
       "   'status': [],\n",
       "   'datafiles': ['test:id/variable/characteristic.humidity_level']}},\n",
       " {'result': ['test:id/variable/characteristic.number_of_grains'],\n",
       "  'metadata': {'pagination': {'pageSize': 0,\n",
       "    'currentPage': 0,\n",
       "    'totalCount': 0,\n",
       "    'totalPages': 0},\n",
       "   'status': [],\n",
       "   'datafiles': ['test:id/variable/characteristic.number_of_grains']}},\n",
       " {'result': ['test:id/variable/characteristic.weight_of_sample'],\n",
       "  'metadata': {'pagination': {'pageSize': 0,\n",
       "    'currentPage': 0,\n",
       "    'totalCount': 0,\n",
       "    'totalPages': 0},\n",
       "   'status': [],\n",
       "   'datafiles': ['test:id/variable/characteristic.weight_of_sample']}},\n",
       " {'result': ['test:id/variable/characteristic.thousand_seeds_weight'],\n",
       "  'metadata': {'pagination': {'pageSize': 0,\n",
       "    'currentPage': 0,\n",
       "    'totalCount': 0,\n",
       "    'totalPages': 0},\n",
       "   'status': [],\n",
       "   'datafiles': ['test:id/variable/characteristic.thousand_seeds_weight']}},\n",
       " {'result': ['test:id/variable/characteristic.thousand_seeds_weight_15'],\n",
       "  'metadata': {'pagination': {'pageSize': 0,\n",
       "    'currentPage': 0,\n",
       "    'totalCount': 0,\n",
       "    'totalPages': 0},\n",
       "   'status': [],\n",
       "   'datafiles': ['test:id/variable/characteristic.thousand_seeds_weight_15']}}]"
      ]
     },
     "execution_count": 31,
     "metadata": {},
     "output_type": "execute_result"
    }
   ],
   "source": [
    "res_char = [\n",
    "    var_api_instance.create_characteristic(body=body)\n",
    "    for body in bodies\n",
    "]\n",
    "res_char"
   ]
  },
  {
   "cell_type": "markdown",
   "metadata": {},
   "source": [
    "The Characteristics' URIs are retrieved from `res_char`"
   ]
  },
  {
   "cell_type": "code",
   "execution_count": 32,
   "metadata": {},
   "outputs": [
    {
     "data": {
      "text/plain": [
       "['test:id/variable/characteristic.humidity_level',\n",
       " 'test:id/variable/characteristic.number_of_grains',\n",
       " 'test:id/variable/characteristic.weight_of_sample',\n",
       " 'test:id/variable/characteristic.thousand_seeds_weight',\n",
       " 'test:id/variable/characteristic.thousand_seeds_weight_15']"
      ]
     },
     "execution_count": 32,
     "metadata": {},
     "output_type": "execute_result"
    }
   ],
   "source": [
    "char_uris = [char['result'][0] for char in res_char]\n",
    "char_uris"
   ]
  },
  {
   "cell_type": "markdown",
   "metadata": {},
   "source": [
    "<br>   "
   ]
  },
  {
   "cell_type": "markdown",
   "metadata": {},
   "source": [
    "### Substep 3 : Unit creation"
   ]
  },
  {
   "cell_type": "markdown",
   "metadata": {},
   "source": [
    "One Unit is created for each variable"
   ]
  },
  {
   "cell_type": "code",
   "execution_count": 33,
   "metadata": {},
   "outputs": [
    {
     "data": {
      "text/plain": [
       "['Hte', 'nbk', 'Poids', 'PMG', 'PMG15']"
      ]
     },
     "execution_count": 33,
     "metadata": {},
     "output_type": "execute_result"
    }
   ],
   "source": [
    "vars_kept"
   ]
  },
  {
   "cell_type": "code",
   "execution_count": 34,
   "metadata": {},
   "outputs": [],
   "source": [
    "unit_dict = {\n",
    "    'Hte' : 'Humidity %',\n",
    "    'nbk' : 'Number of grains',\n",
    "    'Poids' : 'grams',\n",
    "    'PMG' : 'grams per thousand seeds',\n",
    "    'PMG15' : 'grams per thousand seeds'\n",
    "}"
   ]
  },
  {
   "cell_type": "markdown",
   "metadata": {},
   "source": [
    "`UnitCreationDTO` is used to make the right format of Json to create a Unit"
   ]
  },
  {
   "cell_type": "code",
   "execution_count": 35,
   "metadata": {
    "tags": []
   },
   "outputs": [
    {
     "data": {
      "text/plain": [
       "[{'alternative_symbol': None,\n",
       "  'broad_match': None,\n",
       "  'close_match': None,\n",
       "  'description': None,\n",
       "  'exact_match': None,\n",
       "  'name': 'Humidity %',\n",
       "  'narrow_match': None,\n",
       "  'symbol': None,\n",
       "  'uri': None},\n",
       " {'alternative_symbol': None,\n",
       "  'broad_match': None,\n",
       "  'close_match': None,\n",
       "  'description': None,\n",
       "  'exact_match': None,\n",
       "  'name': 'Number of grains',\n",
       "  'narrow_match': None,\n",
       "  'symbol': None,\n",
       "  'uri': None},\n",
       " {'alternative_symbol': None,\n",
       "  'broad_match': None,\n",
       "  'close_match': None,\n",
       "  'description': None,\n",
       "  'exact_match': None,\n",
       "  'name': 'grams',\n",
       "  'narrow_match': None,\n",
       "  'symbol': None,\n",
       "  'uri': None},\n",
       " {'alternative_symbol': None,\n",
       "  'broad_match': None,\n",
       "  'close_match': None,\n",
       "  'description': None,\n",
       "  'exact_match': None,\n",
       "  'name': 'grams per thousand seeds',\n",
       "  'narrow_match': None,\n",
       "  'symbol': None,\n",
       "  'uri': None},\n",
       " {'alternative_symbol': None,\n",
       "  'broad_match': None,\n",
       "  'close_match': None,\n",
       "  'description': None,\n",
       "  'exact_match': None,\n",
       "  'name': 'grams per thousand seeds',\n",
       "  'narrow_match': None,\n",
       "  'symbol': None,\n",
       "  'uri': None}]"
      ]
     },
     "execution_count": 35,
     "metadata": {},
     "output_type": "execute_result"
    }
   ],
   "source": [
    "uc_dto = oCTP.UnitCreationDTO\n",
    "bodies = [uc_dto(name=unit_dict[x]) for x in vars_kept]\n",
    "bodies"
   ]
  },
  {
   "cell_type": "markdown",
   "metadata": {},
   "source": [
    "The Characteristics are then created"
   ]
  },
  {
   "cell_type": "code",
   "execution_count": 36,
   "metadata": {},
   "outputs": [
    {
     "data": {
      "text/plain": [
       "[{'result': ['test:id/variable/unit.humidity'],\n",
       "  'metadata': {'pagination': {'pageSize': 0,\n",
       "    'currentPage': 0,\n",
       "    'totalCount': 0,\n",
       "    'totalPages': 0},\n",
       "   'status': [],\n",
       "   'datafiles': ['test:id/variable/unit.humidity']}},\n",
       " {'result': ['test:id/variable/unit.number_of_grains'],\n",
       "  'metadata': {'pagination': {'pageSize': 0,\n",
       "    'currentPage': 0,\n",
       "    'totalCount': 0,\n",
       "    'totalPages': 0},\n",
       "   'status': [],\n",
       "   'datafiles': ['test:id/variable/unit.number_of_grains']}},\n",
       " {'result': ['test:id/variable/unit.grams'],\n",
       "  'metadata': {'pagination': {'pageSize': 0,\n",
       "    'currentPage': 0,\n",
       "    'totalCount': 0,\n",
       "    'totalPages': 0},\n",
       "   'status': [],\n",
       "   'datafiles': ['test:id/variable/unit.grams']}},\n",
       " {'result': ['test:id/variable/unit.grams_per_thousand_seeds'],\n",
       "  'metadata': {'pagination': {'pageSize': 0,\n",
       "    'currentPage': 0,\n",
       "    'totalCount': 0,\n",
       "    'totalPages': 0},\n",
       "   'status': [],\n",
       "   'datafiles': ['test:id/variable/unit.grams_per_thousand_seeds']}},\n",
       " {'result': ['test:id/variable/unit.grams_per_thousand_seeds1'],\n",
       "  'metadata': {'pagination': {'pageSize': 0,\n",
       "    'currentPage': 0,\n",
       "    'totalCount': 0,\n",
       "    'totalPages': 0},\n",
       "   'status': [],\n",
       "   'datafiles': ['test:id/variable/unit.grams_per_thousand_seeds1']}}]"
      ]
     },
     "execution_count": 36,
     "metadata": {},
     "output_type": "execute_result"
    }
   ],
   "source": [
    "res_unit = [\n",
    "    var_api_instance.create_unit(body=body)\n",
    "    for body in bodies\n",
    "]\n",
    "res_unit"
   ]
  },
  {
   "cell_type": "markdown",
   "metadata": {},
   "source": [
    "The Units' URIs are retrieved from `res_unit`"
   ]
  },
  {
   "cell_type": "code",
   "execution_count": 37,
   "metadata": {},
   "outputs": [
    {
     "data": {
      "text/plain": [
       "['test:id/variable/unit.humidity',\n",
       " 'test:id/variable/unit.number_of_grains',\n",
       " 'test:id/variable/unit.grams',\n",
       " 'test:id/variable/unit.grams_per_thousand_seeds',\n",
       " 'test:id/variable/unit.grams_per_thousand_seeds1']"
      ]
     },
     "execution_count": 37,
     "metadata": {},
     "output_type": "execute_result"
    }
   ],
   "source": [
    "unit_uris = [unit['result'][0] for unit in res_unit]\n",
    "unit_uris"
   ]
  },
  {
   "cell_type": "markdown",
   "metadata": {},
   "source": [
    "__Note__ : a duplicate unit was created by mistake"
   ]
  },
  {
   "cell_type": "markdown",
   "metadata": {},
   "source": [
    "   <br>"
   ]
  },
  {
   "cell_type": "markdown",
   "metadata": {},
   "source": [
    "### Substep 4 : Variables creation"
   ]
  },
  {
   "cell_type": "markdown",
   "metadata": {},
   "source": [
    "Fetching the datatypes to get the right datatype's URI"
   ]
  },
  {
   "cell_type": "code",
   "execution_count": 38,
   "metadata": {},
   "outputs": [
    {
     "data": {
      "text/plain": [
       "{'result': [{'name': 'datatypes.boolean', 'uri': 'http://www.w3.org/2001/XMLSchema#boolean'},\n",
       "  {'name': 'datatypes.date', 'uri': 'http://www.w3.org/2001/XMLSchema#date'},\n",
       "  {'name': 'datatypes.datetime',\n",
       "   'uri': 'http://www.w3.org/2001/XMLSchema#dateTime'},\n",
       "  {'name': 'datatypes.decimal', 'uri': 'http://www.w3.org/2001/XMLSchema#decimal'},\n",
       "  {'name': 'datatypes.number', 'uri': 'http://www.w3.org/2001/XMLSchema#integer'},\n",
       "  {'name': 'datatypes.string', 'uri': 'http://www.w3.org/2001/XMLSchema#string'}],\n",
       " 'metadata': {'pagination': {'pageSize': 6,\n",
       "   'currentPage': 0,\n",
       "   'totalCount': 6,\n",
       "   'totalPages': 1},\n",
       "  'status': [],\n",
       "  'datafiles': []}}"
      ]
     },
     "execution_count": 38,
     "metadata": {},
     "output_type": "execute_result"
    }
   ],
   "source": [
    "datatypes = var_api_instance.get_datatypes()\n",
    "datatypes"
   ]
  },
  {
   "cell_type": "markdown",
   "metadata": {},
   "source": [
    "Keep only decimal and number datatype's URI"
   ]
  },
  {
   "cell_type": "code",
   "execution_count": 54,
   "metadata": {},
   "outputs": [
    {
     "data": {
      "text/plain": [
       "['http://www.w3.org/2001/XMLSchema#decimal',\n",
       " 'http://www.w3.org/2001/XMLSchema#integer',\n",
       " 'http://www.w3.org/2001/XMLSchema#decimal',\n",
       " 'http://www.w3.org/2001/XMLSchema#decimal',\n",
       " 'http://www.w3.org/2001/XMLSchema#decimal']"
      ]
     },
     "execution_count": 54,
     "metadata": {},
     "output_type": "execute_result"
    }
   ],
   "source": [
    "dec = datatypes['result'][3].uri\n",
    "num = datatypes['result'][4].uri\n",
    "datatypes_uris = [dec, num, dec, dec, dec]\n",
    "datatypes_uris"
   ]
  },
  {
   "cell_type": "markdown",
   "metadata": {},
   "source": [
    "`VariableCreationDTO` is used to make the right format of Json to create a Variable"
   ]
  },
  {
   "cell_type": "code",
   "execution_count": 55,
   "metadata": {},
   "outputs": [
    {
     "data": {
      "text/plain": [
       "[{'alternative_name': None,\n",
       "  'broad_match': None,\n",
       "  'characteristic': 'test:id/variable/characteristic.humidity_level',\n",
       "  'close_match': None,\n",
       "  'datatype': 'http://www.w3.org/2001/XMLSchema#decimal',\n",
       "  'description': None,\n",
       "  'entity': 'test:id/variable/entity.grain_sample',\n",
       "  'entity_of_interest': None,\n",
       "  'exact_match': None,\n",
       "  'method': 'http://www.opensilex.org/vocabulary/oeso#standard_method',\n",
       "  'name': 'Hte',\n",
       "  'narrow_match': None,\n",
       "  'sampling_interval': None,\n",
       "  'species': None,\n",
       "  'time_interval': None,\n",
       "  'trait': None,\n",
       "  'trait_name': None,\n",
       "  'unit': 'test:id/variable/unit.humidity',\n",
       "  'uri': None},\n",
       " {'alternative_name': None,\n",
       "  'broad_match': None,\n",
       "  'characteristic': 'test:id/variable/characteristic.number_of_grains',\n",
       "  'close_match': None,\n",
       "  'datatype': 'http://www.w3.org/2001/XMLSchema#integer',\n",
       "  'description': None,\n",
       "  'entity': 'test:id/variable/entity.grain_sample',\n",
       "  'entity_of_interest': None,\n",
       "  'exact_match': None,\n",
       "  'method': 'http://www.opensilex.org/vocabulary/oeso#standard_method',\n",
       "  'name': 'nbk',\n",
       "  'narrow_match': None,\n",
       "  'sampling_interval': None,\n",
       "  'species': None,\n",
       "  'time_interval': None,\n",
       "  'trait': None,\n",
       "  'trait_name': None,\n",
       "  'unit': 'test:id/variable/unit.number_of_grains',\n",
       "  'uri': None},\n",
       " {'alternative_name': None,\n",
       "  'broad_match': None,\n",
       "  'characteristic': 'test:id/variable/characteristic.weight_of_sample',\n",
       "  'close_match': None,\n",
       "  'datatype': 'http://www.w3.org/2001/XMLSchema#decimal',\n",
       "  'description': None,\n",
       "  'entity': 'test:id/variable/entity.grain_sample',\n",
       "  'entity_of_interest': None,\n",
       "  'exact_match': None,\n",
       "  'method': 'http://www.opensilex.org/vocabulary/oeso#standard_method',\n",
       "  'name': 'Poids',\n",
       "  'narrow_match': None,\n",
       "  'sampling_interval': None,\n",
       "  'species': None,\n",
       "  'time_interval': None,\n",
       "  'trait': None,\n",
       "  'trait_name': None,\n",
       "  'unit': 'test:id/variable/unit.grams',\n",
       "  'uri': None},\n",
       " {'alternative_name': None,\n",
       "  'broad_match': None,\n",
       "  'characteristic': 'test:id/variable/characteristic.thousand_seeds_weight',\n",
       "  'close_match': None,\n",
       "  'datatype': 'http://www.w3.org/2001/XMLSchema#decimal',\n",
       "  'description': None,\n",
       "  'entity': 'test:id/variable/entity.grain_sample',\n",
       "  'entity_of_interest': None,\n",
       "  'exact_match': None,\n",
       "  'method': 'http://www.opensilex.org/vocabulary/oeso#standard_method',\n",
       "  'name': 'PMG',\n",
       "  'narrow_match': None,\n",
       "  'sampling_interval': None,\n",
       "  'species': None,\n",
       "  'time_interval': None,\n",
       "  'trait': None,\n",
       "  'trait_name': None,\n",
       "  'unit': 'test:id/variable/unit.grams_per_thousand_seeds',\n",
       "  'uri': None},\n",
       " {'alternative_name': None,\n",
       "  'broad_match': None,\n",
       "  'characteristic': 'test:id/variable/characteristic.thousand_seeds_weight_15',\n",
       "  'close_match': None,\n",
       "  'datatype': 'http://www.w3.org/2001/XMLSchema#decimal',\n",
       "  'description': None,\n",
       "  'entity': 'test:id/variable/entity.grain_sample',\n",
       "  'entity_of_interest': None,\n",
       "  'exact_match': None,\n",
       "  'method': 'http://www.opensilex.org/vocabulary/oeso#standard_method',\n",
       "  'name': 'PMG15',\n",
       "  'narrow_match': None,\n",
       "  'sampling_interval': None,\n",
       "  'species': None,\n",
       "  'time_interval': None,\n",
       "  'trait': None,\n",
       "  'trait_name': None,\n",
       "  'unit': 'test:id/variable/unit.grams_per_thousand_seeds1',\n",
       "  'uri': None}]"
      ]
     },
     "execution_count": 55,
     "metadata": {},
     "output_type": "execute_result"
    }
   ],
   "source": [
    "vc_dto = oCTP.VariableCreationDTO\n",
    "bodies = [\n",
    "    vc_dto(name=vars_kept[x],\n",
    "           entity=entity_uri,\n",
    "           characteristic=char_uris[x], unit=unit_uris[x],\n",
    "           datatype=datatypes_uris[x],\n",
    "           method=\"http://www.opensilex.org/vocabulary/oeso#standard_method\")\n",
    "    for x in range(0, len(vars_kept))\n",
    "]\n",
    "bodies"
   ]
  },
  {
   "cell_type": "markdown",
   "metadata": {},
   "source": [
    "The variables are then created"
   ]
  },
  {
   "cell_type": "code",
   "execution_count": 56,
   "metadata": {},
   "outputs": [
    {
     "data": {
      "text/plain": [
       "[{'result': ['test:id/variable/hte1'],\n",
       "  'metadata': {'pagination': {'pageSize': 0,\n",
       "    'currentPage': 0,\n",
       "    'totalCount': 0,\n",
       "    'totalPages': 0},\n",
       "   'status': [],\n",
       "   'datafiles': ['test:id/variable/hte1']}},\n",
       " {'result': ['test:id/variable/nbk1'],\n",
       "  'metadata': {'pagination': {'pageSize': 0,\n",
       "    'currentPage': 0,\n",
       "    'totalCount': 0,\n",
       "    'totalPages': 0},\n",
       "   'status': [],\n",
       "   'datafiles': ['test:id/variable/nbk1']}},\n",
       " {'result': ['test:id/variable/poids1'],\n",
       "  'metadata': {'pagination': {'pageSize': 0,\n",
       "    'currentPage': 0,\n",
       "    'totalCount': 0,\n",
       "    'totalPages': 0},\n",
       "   'status': [],\n",
       "   'datafiles': ['test:id/variable/poids1']}},\n",
       " {'result': ['test:id/variable/pmg1'],\n",
       "  'metadata': {'pagination': {'pageSize': 0,\n",
       "    'currentPage': 0,\n",
       "    'totalCount': 0,\n",
       "    'totalPages': 0},\n",
       "   'status': [],\n",
       "   'datafiles': ['test:id/variable/pmg1']}},\n",
       " {'result': ['test:id/variable/pmg151'],\n",
       "  'metadata': {'pagination': {'pageSize': 0,\n",
       "    'currentPage': 0,\n",
       "    'totalCount': 0,\n",
       "    'totalPages': 0},\n",
       "   'status': [],\n",
       "   'datafiles': ['test:id/variable/pmg151']}}]"
      ]
     },
     "execution_count": 56,
     "metadata": {},
     "output_type": "execute_result"
    }
   ],
   "source": [
    "res_var = [\n",
    "    var_api_instance.create_variable(body=body)\n",
    "    for body in bodies\n",
    "]\n",
    "res_var"
   ]
  },
  {
   "cell_type": "markdown",
   "metadata": {},
   "source": [
    "The Variable's URI is retrieved from `res_var`"
   ]
  },
  {
   "cell_type": "code",
   "execution_count": 57,
   "metadata": {},
   "outputs": [
    {
     "data": {
      "text/plain": [
       "['test:id/variable/hte1',\n",
       " 'test:id/variable/nbk1',\n",
       " 'test:id/variable/poids1',\n",
       " 'test:id/variable/pmg1',\n",
       " 'test:id/variable/pmg151']"
      ]
     },
     "execution_count": 57,
     "metadata": {},
     "output_type": "execute_result"
    }
   ],
   "source": [
    "var_uris = [var['result'][0] for var in res_var]\n",
    "var_uris"
   ]
  },
  {
   "cell_type": "markdown",
   "metadata": {},
   "source": [
    "---\n",
    "#    <br>"
   ]
  },
  {
   "cell_type": "markdown",
   "metadata": {},
   "source": [
    "## 4) Creating the Scientific Objects\n",
    "---"
   ]
  },
  {
   "cell_type": "markdown",
   "metadata": {},
   "source": [
    "Fetching the datatypes to get the right datatype's URI"
   ]
  },
  {
   "cell_type": "code",
   "execution_count": 58,
   "metadata": {},
   "outputs": [
    {
     "data": {
      "text/plain": [
       "{'result': [{'name': 'leaf', 'uri': 'http://www.opensilex.org/vocabulary/oeso#Leaf'},\n",
       "  {'name': 'seed', 'uri': 'http://www.opensilex.org/vocabulary/oeso#Seed'},\n",
       "  {'name': 'scion', 'uri': 'http://www.opensilex.org/vocabulary/oeso#Scion'},\n",
       "  {'name': 'plant', 'uri': 'http://www.opensilex.org/vocabulary/oeso#Plant'},\n",
       "  {'name': 'plot', 'uri': 'http://www.opensilex.org/vocabulary/oeso#Plot'},\n",
       "  {'name': 'silk', 'uri': 'http://www.opensilex.org/vocabulary/oeso#Silk'},\n",
       "  {'name': 'rootstock',\n",
       "   'uri': 'http://www.opensilex.org/vocabulary/oeso#Rootstock'},\n",
       "  {'name': 'Plot Gabriel', 'uri': 'http://www.phenome-fppn.fr/PlotGabriel'},\n",
       "  {'name': 'SubPlot', 'uri': 'http://www.opensilex.org/vocabulary/oeso#SubPlot'},\n",
       "  {'name': 'plot', 'uri': 'inrae-sixtine:parcelle'},\n",
       "  {'name': 'test-SO', 'uri': 'dev:test-SO'},\n",
       "  {'name': 'objGabriel', 'uri': 'http://www.phenome-fppn.fr/objGabriel'},\n",
       "  {'name': 'Organ', 'uri': 'http://www.opensilex.org/vocabulary/oeso#Organ'},\n",
       "  {'name': 'Experimental Area',\n",
       "   'uri': 'http://www.opensilex.org/vocabulary/oeso#ExperimentalArea'},\n",
       "  {'name': 'Vineyard', 'uri': 'http://www.opensilex.org/vocabulary/oeso#Vineyard'},\n",
       "  {'name': 'Plot Cluster',\n",
       "   'uri': 'http://www.opensilex.org/vocabulary/oeso#PlotCluster'},\n",
       "  {'name': 'test', 'uri': 'http://www.opensilex.org/test#test'},\n",
       "  {'name': 'Population',\n",
       "   'uri': 'http://www.opensilex.org/vocabulary/oeso#Population'},\n",
       "  {'name': 'Sample', 'uri': 'http://www.opensilex.org/vocabulary/oeso#Sample'},\n",
       "  {'name': 'Ear', 'uri': 'http://www.opensilex.org/vocabulary/oeso#Ear'},\n",
       "  {'name': 'sdf', 'uri': 'http://www.opensilex.org/vocabulary/oeso#OSalaracine'},\n",
       "  {'name': 'testcomponent', 'uri': 'http://www.phenome-fppn.fr/PO2component'},\n",
       "  {'name': 'Crop', 'uri': 'http://www.opensilex.org/vocabulary/oeso#Crop'},\n",
       "  {'name': 'Cultivated Plants',\n",
       "   'uri': 'http://www.opensilex.org/vocabulary/oeso#CultivatedPlants'},\n",
       "  {'name': 'Weed', 'uri': 'http://www.opensilex.org/vocabulary/oeso#Weed'},\n",
       "  {'name': 'Micro plot',\n",
       "   'uri': 'http://www.opensilex.org/vocabulary/oeso#MicroPlot'},\n",
       "  {'name': 'gegt', 'uri': 'vovabulary:bcplot'},\n",
       "  {'name': 'qd', 'uri': 'http://www.opensilex.org/vocabulary/oeso#bc-type-os'},\n",
       "  {'name': 'rthtyh', 'uri': 'http://www.opensilex.org/vocabulary/oeso#bctype'},\n",
       "  {'name': 'Sub Plot Gabriel', 'uri': 'http://www.phenome-fppn.fr/SubPlotGabriel'},\n",
       "  {'name': 'micro-plot', 'uri': 'inrae-sixtine:placette'}],\n",
       " 'metadata': {'pagination': {'pageSize': 31,\n",
       "   'currentPage': 0,\n",
       "   'totalCount': 31,\n",
       "   'totalPages': 1},\n",
       "  'status': [],\n",
       "  'datafiles': []}}"
      ]
     },
     "execution_count": 58,
     "metadata": {},
     "output_type": "execute_result"
    }
   ],
   "source": [
    "obj_types = obj_api_instance.get_used_types()\n",
    "obj_types"
   ]
  },
  {
   "cell_type": "markdown",
   "metadata": {},
   "source": [
    "Keep only plot Object type URI"
   ]
  },
  {
   "cell_type": "code",
   "execution_count": 59,
   "metadata": {},
   "outputs": [
    {
     "data": {
      "text/plain": [
       "'http://www.opensilex.org/vocabulary/oeso#Plot'"
      ]
     },
     "execution_count": 59,
     "metadata": {},
     "output_type": "execute_result"
    }
   ],
   "source": [
    "objtype_uri = [x.uri for x in obj_types['result'] if x.name == 'plot'][0]\n",
    "objtype_uri"
   ]
  },
  {
   "cell_type": "markdown",
   "metadata": {},
   "source": [
    "`ScientificObjectCreationDTO` is used to make the right format of Json to create Scientific Objects"
   ]
  },
  {
   "cell_type": "code",
   "execution_count": 60,
   "metadata": {},
   "outputs": [
    {
     "data": {
      "text/plain": [
       "[{'experiment': None,\n",
       "  'geometry': None,\n",
       "  'name': '10',\n",
       "  'rdf_type': 'http://www.opensilex.org/vocabulary/oeso#Plot',\n",
       "  'relations': None,\n",
       "  'uri': None},\n",
       " {'experiment': None,\n",
       "  'geometry': None,\n",
       "  'name': '26',\n",
       "  'rdf_type': 'http://www.opensilex.org/vocabulary/oeso#Plot',\n",
       "  'relations': None,\n",
       "  'uri': None},\n",
       " {'experiment': None,\n",
       "  'geometry': None,\n",
       "  'name': '42',\n",
       "  'rdf_type': 'http://www.opensilex.org/vocabulary/oeso#Plot',\n",
       "  'relations': None,\n",
       "  'uri': None},\n",
       " {'experiment': None,\n",
       "  'geometry': None,\n",
       "  'name': '58',\n",
       "  'rdf_type': 'http://www.opensilex.org/vocabulary/oeso#Plot',\n",
       "  'relations': None,\n",
       "  'uri': None},\n",
       " {'experiment': None,\n",
       "  'geometry': None,\n",
       "  'name': '74',\n",
       "  'rdf_type': 'http://www.opensilex.org/vocabulary/oeso#Plot',\n",
       "  'relations': None,\n",
       "  'uri': None}]"
      ]
     },
     "execution_count": 60,
     "metadata": {},
     "output_type": "execute_result"
    }
   ],
   "source": [
    "so_dto = oCTP.ScientificObjectCreationDTO\n",
    "bodies = [\n",
    "    so_dto(name=str(x),\n",
    "           rdf_type=objtype_uri) for x in df.Plot[:n]\n",
    "]\n",
    "bodies"
   ]
  },
  {
   "cell_type": "markdown",
   "metadata": {},
   "source": [
    "The Scientific Objects are then created"
   ]
  },
  {
   "cell_type": "code",
   "execution_count": 61,
   "metadata": {},
   "outputs": [
    {
     "data": {
      "text/plain": [
       "[{'result': ['http://www.phenome-fppn.fr/id/scientific-object/so-102'],\n",
       "  'metadata': {'pagination': {'pageSize': 0,\n",
       "    'currentPage': 0,\n",
       "    'totalCount': 0,\n",
       "    'totalPages': 0},\n",
       "   'status': [],\n",
       "   'datafiles': ['http://www.phenome-fppn.fr/id/scientific-object/so-102']}},\n",
       " {'result': ['http://www.phenome-fppn.fr/id/scientific-object/so-262'],\n",
       "  'metadata': {'pagination': {'pageSize': 0,\n",
       "    'currentPage': 0,\n",
       "    'totalCount': 0,\n",
       "    'totalPages': 0},\n",
       "   'status': [],\n",
       "   'datafiles': ['http://www.phenome-fppn.fr/id/scientific-object/so-262']}},\n",
       " {'result': ['http://www.phenome-fppn.fr/id/scientific-object/so-422'],\n",
       "  'metadata': {'pagination': {'pageSize': 0,\n",
       "    'currentPage': 0,\n",
       "    'totalCount': 0,\n",
       "    'totalPages': 0},\n",
       "   'status': [],\n",
       "   'datafiles': ['http://www.phenome-fppn.fr/id/scientific-object/so-422']}},\n",
       " {'result': ['http://www.phenome-fppn.fr/id/scientific-object/so-581'],\n",
       "  'metadata': {'pagination': {'pageSize': 0,\n",
       "    'currentPage': 0,\n",
       "    'totalCount': 0,\n",
       "    'totalPages': 0},\n",
       "   'status': [],\n",
       "   'datafiles': ['http://www.phenome-fppn.fr/id/scientific-object/so-581']}},\n",
       " {'result': ['http://www.phenome-fppn.fr/id/scientific-object/so-741'],\n",
       "  'metadata': {'pagination': {'pageSize': 0,\n",
       "    'currentPage': 0,\n",
       "    'totalCount': 0,\n",
       "    'totalPages': 0},\n",
       "   'status': [],\n",
       "   'datafiles': ['http://www.phenome-fppn.fr/id/scientific-object/so-741']}}]"
      ]
     },
     "execution_count": 61,
     "metadata": {},
     "output_type": "execute_result"
    }
   ],
   "source": [
    "cso = obj_api_instance.create_scientific_object\n",
    "res_so = [cso(body=body) for body in bodies]\n",
    "res_so"
   ]
  },
  {
   "cell_type": "markdown",
   "metadata": {},
   "source": [
    "The Scientific Objects' URIs are retrieved from `res_so`"
   ]
  },
  {
   "cell_type": "code",
   "execution_count": 62,
   "metadata": {},
   "outputs": [
    {
     "data": {
      "text/plain": [
       "['http://www.phenome-fppn.fr/id/scientific-object/so-102',\n",
       " 'http://www.phenome-fppn.fr/id/scientific-object/so-262',\n",
       " 'http://www.phenome-fppn.fr/id/scientific-object/so-422',\n",
       " 'http://www.phenome-fppn.fr/id/scientific-object/so-581',\n",
       " 'http://www.phenome-fppn.fr/id/scientific-object/so-741']"
      ]
     },
     "execution_count": 62,
     "metadata": {},
     "output_type": "execute_result"
    }
   ],
   "source": [
    "so_uris = [res['result'][0] for res in res_so]\n",
    "so_uris"
   ]
  },
  {
   "cell_type": "markdown",
   "metadata": {},
   "source": [
    "#     <br>"
   ]
  },
  {
   "cell_type": "markdown",
   "metadata": {},
   "source": [
    "## 5) Data upload\n",
    "---"
   ]
  },
  {
   "cell_type": "markdown",
   "metadata": {},
   "source": [
    "The data for the first three variables can now be uploaded and linked to the new Provenances and Variables"
   ]
  },
  {
   "cell_type": "code",
   "execution_count": 63,
   "metadata": {},
   "outputs": [
    {
     "data": {
      "text/plain": [
       "[{'experiments': None,\n",
       "  'prov_used': None,\n",
       "  'prov_was_associated_with': None,\n",
       "  'settings': None,\n",
       "  'uri': 'http://www.phenome-fppn.fr/id/provenance/grain_sample_hte_prov1'},\n",
       " {'experiments': None,\n",
       "  'prov_used': None,\n",
       "  'prov_was_associated_with': None,\n",
       "  'settings': None,\n",
       "  'uri': 'http://www.phenome-fppn.fr/id/provenance/grain_sample_nbk_prov1'},\n",
       " {'experiments': None,\n",
       "  'prov_used': None,\n",
       "  'prov_was_associated_with': None,\n",
       "  'settings': None,\n",
       "  'uri': 'http://www.phenome-fppn.fr/id/provenance/grain_sample_poids_prov1'}]"
      ]
     },
     "execution_count": 63,
     "metadata": {},
     "output_type": "execute_result"
    }
   ],
   "source": [
    "dpm = oCTP.DataProvenanceModel\n",
    "provs = [dpm(uri=uri) for uri in prov_uris[:3]]\n",
    "provs"
   ]
  },
  {
   "cell_type": "markdown",
   "metadata": {},
   "source": [
    "`DataCreationDTO` is used multiple times to make a list of Json to upload multiple values at once"
   ]
  },
  {
   "cell_type": "markdown",
   "metadata": {},
   "source": [
    "__NUMPY INTEGERS AREN'T SUPPORTED__"
   ]
  },
  {
   "cell_type": "code",
   "execution_count": 64,
   "metadata": {
    "tags": []
   },
   "outputs": [
    {
     "data": {
      "text/plain": [
       "[[{'_date': '2021-07-30',\n",
       "   'confidence': None,\n",
       "   'metadata': None,\n",
       "   'provenance': {'experiments': None,\n",
       "                  'prov_used': None,\n",
       "                  'prov_was_associated_with': None,\n",
       "                  'settings': None,\n",
       "                  'uri': 'http://www.phenome-fppn.fr/id/provenance/grain_sample_hte_prov1'},\n",
       "   'raw_data': None,\n",
       "   'target': 'http://www.phenome-fppn.fr/id/scientific-object/so-102',\n",
       "   'timezone': None,\n",
       "   'uri': None,\n",
       "   'value': 21.0,\n",
       "   'variable': 'test:id/variable/hte1'},\n",
       "  {'_date': '2021-07-30',\n",
       "   'confidence': None,\n",
       "   'metadata': None,\n",
       "   'provenance': {'experiments': None,\n",
       "                  'prov_used': None,\n",
       "                  'prov_was_associated_with': None,\n",
       "                  'settings': None,\n",
       "                  'uri': 'http://www.phenome-fppn.fr/id/provenance/grain_sample_hte_prov1'},\n",
       "   'raw_data': None,\n",
       "   'target': 'http://www.phenome-fppn.fr/id/scientific-object/so-262',\n",
       "   'timezone': None,\n",
       "   'uri': None,\n",
       "   'value': 17.8,\n",
       "   'variable': 'test:id/variable/hte1'},\n",
       "  {'_date': '2021-07-30',\n",
       "   'confidence': None,\n",
       "   'metadata': None,\n",
       "   'provenance': {'experiments': None,\n",
       "                  'prov_used': None,\n",
       "                  'prov_was_associated_with': None,\n",
       "                  'settings': None,\n",
       "                  'uri': 'http://www.phenome-fppn.fr/id/provenance/grain_sample_hte_prov1'},\n",
       "   'raw_data': None,\n",
       "   'target': 'http://www.phenome-fppn.fr/id/scientific-object/so-422',\n",
       "   'timezone': None,\n",
       "   'uri': None,\n",
       "   'value': 20.9,\n",
       "   'variable': 'test:id/variable/hte1'},\n",
       "  {'_date': '2021-07-30',\n",
       "   'confidence': None,\n",
       "   'metadata': None,\n",
       "   'provenance': {'experiments': None,\n",
       "                  'prov_used': None,\n",
       "                  'prov_was_associated_with': None,\n",
       "                  'settings': None,\n",
       "                  'uri': 'http://www.phenome-fppn.fr/id/provenance/grain_sample_hte_prov1'},\n",
       "   'raw_data': None,\n",
       "   'target': 'http://www.phenome-fppn.fr/id/scientific-object/so-581',\n",
       "   'timezone': None,\n",
       "   'uri': None,\n",
       "   'value': 19.7,\n",
       "   'variable': 'test:id/variable/hte1'},\n",
       "  {'_date': '2021-07-30',\n",
       "   'confidence': None,\n",
       "   'metadata': None,\n",
       "   'provenance': {'experiments': None,\n",
       "                  'prov_used': None,\n",
       "                  'prov_was_associated_with': None,\n",
       "                  'settings': None,\n",
       "                  'uri': 'http://www.phenome-fppn.fr/id/provenance/grain_sample_hte_prov1'},\n",
       "   'raw_data': None,\n",
       "   'target': 'http://www.phenome-fppn.fr/id/scientific-object/so-741',\n",
       "   'timezone': None,\n",
       "   'uri': None,\n",
       "   'value': 19.6,\n",
       "   'variable': 'test:id/variable/hte1'}],\n",
       " [{'_date': '2021-07-30',\n",
       "   'confidence': None,\n",
       "   'metadata': None,\n",
       "   'provenance': {'experiments': None,\n",
       "                  'prov_used': None,\n",
       "                  'prov_was_associated_with': None,\n",
       "                  'settings': None,\n",
       "                  'uri': 'http://www.phenome-fppn.fr/id/provenance/grain_sample_nbk_prov1'},\n",
       "   'raw_data': None,\n",
       "   'target': 'http://www.phenome-fppn.fr/id/scientific-object/so-102',\n",
       "   'timezone': None,\n",
       "   'uri': None,\n",
       "   'value': 500,\n",
       "   'variable': 'test:id/variable/nbk1'},\n",
       "  {'_date': '2021-07-30',\n",
       "   'confidence': None,\n",
       "   'metadata': None,\n",
       "   'provenance': {'experiments': None,\n",
       "                  'prov_used': None,\n",
       "                  'prov_was_associated_with': None,\n",
       "                  'settings': None,\n",
       "                  'uri': 'http://www.phenome-fppn.fr/id/provenance/grain_sample_nbk_prov1'},\n",
       "   'raw_data': None,\n",
       "   'target': 'http://www.phenome-fppn.fr/id/scientific-object/so-262',\n",
       "   'timezone': None,\n",
       "   'uri': None,\n",
       "   'value': 500,\n",
       "   'variable': 'test:id/variable/nbk1'},\n",
       "  {'_date': '2021-07-30',\n",
       "   'confidence': None,\n",
       "   'metadata': None,\n",
       "   'provenance': {'experiments': None,\n",
       "                  'prov_used': None,\n",
       "                  'prov_was_associated_with': None,\n",
       "                  'settings': None,\n",
       "                  'uri': 'http://www.phenome-fppn.fr/id/provenance/grain_sample_nbk_prov1'},\n",
       "   'raw_data': None,\n",
       "   'target': 'http://www.phenome-fppn.fr/id/scientific-object/so-422',\n",
       "   'timezone': None,\n",
       "   'uri': None,\n",
       "   'value': 500,\n",
       "   'variable': 'test:id/variable/nbk1'},\n",
       "  {'_date': '2021-07-30',\n",
       "   'confidence': None,\n",
       "   'metadata': None,\n",
       "   'provenance': {'experiments': None,\n",
       "                  'prov_used': None,\n",
       "                  'prov_was_associated_with': None,\n",
       "                  'settings': None,\n",
       "                  'uri': 'http://www.phenome-fppn.fr/id/provenance/grain_sample_nbk_prov1'},\n",
       "   'raw_data': None,\n",
       "   'target': 'http://www.phenome-fppn.fr/id/scientific-object/so-581',\n",
       "   'timezone': None,\n",
       "   'uri': None,\n",
       "   'value': 500,\n",
       "   'variable': 'test:id/variable/nbk1'},\n",
       "  {'_date': '2021-07-30',\n",
       "   'confidence': None,\n",
       "   'metadata': None,\n",
       "   'provenance': {'experiments': None,\n",
       "                  'prov_used': None,\n",
       "                  'prov_was_associated_with': None,\n",
       "                  'settings': None,\n",
       "                  'uri': 'http://www.phenome-fppn.fr/id/provenance/grain_sample_nbk_prov1'},\n",
       "   'raw_data': None,\n",
       "   'target': 'http://www.phenome-fppn.fr/id/scientific-object/so-741',\n",
       "   'timezone': None,\n",
       "   'uri': None,\n",
       "   'value': 500,\n",
       "   'variable': 'test:id/variable/nbk1'}],\n",
       " [{'_date': '2021-07-30',\n",
       "   'confidence': None,\n",
       "   'metadata': None,\n",
       "   'provenance': {'experiments': None,\n",
       "                  'prov_used': None,\n",
       "                  'prov_was_associated_with': None,\n",
       "                  'settings': None,\n",
       "                  'uri': 'http://www.phenome-fppn.fr/id/provenance/grain_sample_poids_prov1'},\n",
       "   'raw_data': None,\n",
       "   'target': 'http://www.phenome-fppn.fr/id/scientific-object/so-102',\n",
       "   'timezone': None,\n",
       "   'uri': None,\n",
       "   'value': 163.34,\n",
       "   'variable': 'test:id/variable/poids1'},\n",
       "  {'_date': '2021-07-30',\n",
       "   'confidence': None,\n",
       "   'metadata': None,\n",
       "   'provenance': {'experiments': None,\n",
       "                  'prov_used': None,\n",
       "                  'prov_was_associated_with': None,\n",
       "                  'settings': None,\n",
       "                  'uri': 'http://www.phenome-fppn.fr/id/provenance/grain_sample_poids_prov1'},\n",
       "   'raw_data': None,\n",
       "   'target': 'http://www.phenome-fppn.fr/id/scientific-object/so-262',\n",
       "   'timezone': None,\n",
       "   'uri': None,\n",
       "   'value': 142.7,\n",
       "   'variable': 'test:id/variable/poids1'},\n",
       "  {'_date': '2021-07-30',\n",
       "   'confidence': None,\n",
       "   'metadata': None,\n",
       "   'provenance': {'experiments': None,\n",
       "                  'prov_used': None,\n",
       "                  'prov_was_associated_with': None,\n",
       "                  'settings': None,\n",
       "                  'uri': 'http://www.phenome-fppn.fr/id/provenance/grain_sample_poids_prov1'},\n",
       "   'raw_data': None,\n",
       "   'target': 'http://www.phenome-fppn.fr/id/scientific-object/so-422',\n",
       "   'timezone': None,\n",
       "   'uri': None,\n",
       "   'value': 153.28,\n",
       "   'variable': 'test:id/variable/poids1'},\n",
       "  {'_date': '2021-07-30',\n",
       "   'confidence': None,\n",
       "   'metadata': None,\n",
       "   'provenance': {'experiments': None,\n",
       "                  'prov_used': None,\n",
       "                  'prov_was_associated_with': None,\n",
       "                  'settings': None,\n",
       "                  'uri': 'http://www.phenome-fppn.fr/id/provenance/grain_sample_poids_prov1'},\n",
       "   'raw_data': None,\n",
       "   'target': 'http://www.phenome-fppn.fr/id/scientific-object/so-581',\n",
       "   'timezone': None,\n",
       "   'uri': None,\n",
       "   'value': 136.86,\n",
       "   'variable': 'test:id/variable/poids1'},\n",
       "  {'_date': '2021-07-30',\n",
       "   'confidence': None,\n",
       "   'metadata': None,\n",
       "   'provenance': {'experiments': None,\n",
       "                  'prov_used': None,\n",
       "                  'prov_was_associated_with': None,\n",
       "                  'settings': None,\n",
       "                  'uri': 'http://www.phenome-fppn.fr/id/provenance/grain_sample_poids_prov1'},\n",
       "   'raw_data': None,\n",
       "   'target': 'http://www.phenome-fppn.fr/id/scientific-object/so-741',\n",
       "   'timezone': None,\n",
       "   'uri': None,\n",
       "   'value': 176.2,\n",
       "   'variable': 'test:id/variable/poids1'}]]"
      ]
     },
     "execution_count": 64,
     "metadata": {},
     "output_type": "execute_result"
    }
   ],
   "source": [
    "dc_dto = oCTP.DataCreationDTO\n",
    "bodies = [\n",
    "    [\n",
    "        dc_dto(_date=\"2021-07-30\",\n",
    "           variable=var_uris[y],\n",
    "           value=int(df[vars_kept[y]][x]),\n",
    "           target=so_uris[x],\n",
    "           provenance=provs[y])\n",
    "        if y == 1\n",
    "        else\n",
    "        dc_dto(_date=\"2021-07-30\",\n",
    "           variable=var_uris[y],\n",
    "           value=float(df[vars_kept[y]][x]),\n",
    "           target=so_uris[x],\n",
    "           provenance=provs[y])\n",
    "        for x in range(0, n)\n",
    "    ]\n",
    "    for y in range(0, 3)\n",
    "]\n",
    "bodies"
   ]
  },
  {
   "cell_type": "markdown",
   "metadata": {},
   "source": [
    "Length should be 3 Variables * 5 entries"
   ]
  },
  {
   "cell_type": "code",
   "execution_count": 65,
   "metadata": {},
   "outputs": [
    {
     "name": "stdout",
     "output_type": "stream",
     "text": [
      "3 5\n"
     ]
    }
   ],
   "source": [
    "print(len(bodies), len(bodies[0]))"
   ]
  },
  {
   "cell_type": "code",
   "execution_count": 66,
   "metadata": {
    "tags": []
   },
   "outputs": [],
   "source": [
    "res_data_three = [\n",
    "    data_api_instance.add_list_data(body=bodies[x])\n",
    "    for x in range(0, 3)\n",
    "]"
   ]
  },
  {
   "cell_type": "code",
   "execution_count": 67,
   "metadata": {
    "tags": []
   },
   "outputs": [
    {
     "data": {
      "text/plain": [
       "[{'result': ['http://www.phenome-fppn.fr/id/data/1627603200.0b490725002ad520ee2a553ae66b8fbd',\n",
       "   'http://www.phenome-fppn.fr/id/data/1627603200.8ca6109c02f2640f52d0238066c2a59f',\n",
       "   'http://www.phenome-fppn.fr/id/data/1627603200.f4ae0d950e3051f0a3410e937749260b',\n",
       "   'http://www.phenome-fppn.fr/id/data/1627603200.84c3854acf2810358f5d96a347acb187',\n",
       "   'http://www.phenome-fppn.fr/id/data/1627603200.b525b900f3b7d3f295f4077be54803e9'],\n",
       "  'metadata': {'pagination': {'pageSize': 0,\n",
       "    'currentPage': 0,\n",
       "    'totalCount': 0,\n",
       "    'totalPages': 0},\n",
       "   'status': [],\n",
       "   'datafiles': ['http://www.phenome-fppn.fr/id/data/1627603200.0b490725002ad520ee2a553ae66b8fbd',\n",
       "    'http://www.phenome-fppn.fr/id/data/1627603200.8ca6109c02f2640f52d0238066c2a59f',\n",
       "    'http://www.phenome-fppn.fr/id/data/1627603200.f4ae0d950e3051f0a3410e937749260b',\n",
       "    'http://www.phenome-fppn.fr/id/data/1627603200.84c3854acf2810358f5d96a347acb187',\n",
       "    'http://www.phenome-fppn.fr/id/data/1627603200.b525b900f3b7d3f295f4077be54803e9']}},\n",
       " {'result': ['http://www.phenome-fppn.fr/id/data/1627603200.6ea6c494a984e1b04949a267ca9d350f',\n",
       "   'http://www.phenome-fppn.fr/id/data/1627603200.1a7aff5ce95a23bbe2457d5e4de55316',\n",
       "   'http://www.phenome-fppn.fr/id/data/1627603200.2a42cba52b97ac57f8eecc14782b296a',\n",
       "   'http://www.phenome-fppn.fr/id/data/1627603200.1d5bb895142df8600dfa9126d9640779',\n",
       "   'http://www.phenome-fppn.fr/id/data/1627603200.400a23231f6255dcff30713e98117644'],\n",
       "  'metadata': {'pagination': {'pageSize': 0,\n",
       "    'currentPage': 0,\n",
       "    'totalCount': 0,\n",
       "    'totalPages': 0},\n",
       "   'status': [],\n",
       "   'datafiles': ['http://www.phenome-fppn.fr/id/data/1627603200.6ea6c494a984e1b04949a267ca9d350f',\n",
       "    'http://www.phenome-fppn.fr/id/data/1627603200.1a7aff5ce95a23bbe2457d5e4de55316',\n",
       "    'http://www.phenome-fppn.fr/id/data/1627603200.2a42cba52b97ac57f8eecc14782b296a',\n",
       "    'http://www.phenome-fppn.fr/id/data/1627603200.1d5bb895142df8600dfa9126d9640779',\n",
       "    'http://www.phenome-fppn.fr/id/data/1627603200.400a23231f6255dcff30713e98117644']}},\n",
       " {'result': ['http://www.phenome-fppn.fr/id/data/1627603200.7c2a5f88b3f775d56c3e10336f461b03',\n",
       "   'http://www.phenome-fppn.fr/id/data/1627603200.bdf103602f5911156ddfd3f794c4b1d8',\n",
       "   'http://www.phenome-fppn.fr/id/data/1627603200.a059ff78f9e3ad07722bf9fd42f7ac11',\n",
       "   'http://www.phenome-fppn.fr/id/data/1627603200.9022a17d1a86b906da715f091d1d4509',\n",
       "   'http://www.phenome-fppn.fr/id/data/1627603200.f13c98ac4e73db94d8ffeba9fbbe357c'],\n",
       "  'metadata': {'pagination': {'pageSize': 0,\n",
       "    'currentPage': 0,\n",
       "    'totalCount': 0,\n",
       "    'totalPages': 0},\n",
       "   'status': [],\n",
       "   'datafiles': ['http://www.phenome-fppn.fr/id/data/1627603200.7c2a5f88b3f775d56c3e10336f461b03',\n",
       "    'http://www.phenome-fppn.fr/id/data/1627603200.bdf103602f5911156ddfd3f794c4b1d8',\n",
       "    'http://www.phenome-fppn.fr/id/data/1627603200.a059ff78f9e3ad07722bf9fd42f7ac11',\n",
       "    'http://www.phenome-fppn.fr/id/data/1627603200.9022a17d1a86b906da715f091d1d4509',\n",
       "    'http://www.phenome-fppn.fr/id/data/1627603200.f13c98ac4e73db94d8ffeba9fbbe357c']}}]"
      ]
     },
     "execution_count": 67,
     "metadata": {},
     "output_type": "execute_result"
    }
   ],
   "source": [
    "res_data_three"
   ]
  },
  {
   "cell_type": "markdown",
   "metadata": {},
   "source": [
    "The data for the last two variables can now be uploaded and linked to the new Provenances, Variables and the adequate data used to produce the values"
   ]
  },
  {
   "cell_type": "code",
   "execution_count": 68,
   "metadata": {},
   "outputs": [
    {
     "data": {
      "text/plain": [
       "'http://www.phenome-fppn.fr/id/data/1627603200.0b490725002ad520ee2a553ae66b8fbd'"
      ]
     },
     "execution_count": 68,
     "metadata": {},
     "output_type": "execute_result"
    }
   ],
   "source": [
    "res_data_three[0][\"result\"][0]"
   ]
  },
  {
   "cell_type": "code",
   "execution_count": 69,
   "metadata": {
    "tags": []
   },
   "outputs": [
    {
     "data": {
      "text/plain": [
       "[[{'_date': '2021-07-30',\n",
       "   'confidence': None,\n",
       "   'metadata': None,\n",
       "   'provenance': {'experiments': None,\n",
       "                  'prov_used': [{'rdf_type': None,\n",
       "                                 'uri': 'http://www.phenome-fppn.fr/id/data/1627603200.6ea6c494a984e1b04949a267ca9d350f'},\n",
       "                                {'rdf_type': None,\n",
       "                                 'uri': 'http://www.phenome-fppn.fr/id/data/1627603200.1a7aff5ce95a23bbe2457d5e4de55316'},\n",
       "                                {'rdf_type': None,\n",
       "                                 'uri': 'http://www.phenome-fppn.fr/id/data/1627603200.2a42cba52b97ac57f8eecc14782b296a'},\n",
       "                                {'rdf_type': None,\n",
       "                                 'uri': 'http://www.phenome-fppn.fr/id/data/1627603200.1d5bb895142df8600dfa9126d9640779'},\n",
       "                                {'rdf_type': None,\n",
       "                                 'uri': 'http://www.phenome-fppn.fr/id/data/1627603200.400a23231f6255dcff30713e98117644'},\n",
       "                                {'rdf_type': None,\n",
       "                                 'uri': 'http://www.phenome-fppn.fr/id/data/1627603200.7c2a5f88b3f775d56c3e10336f461b03'},\n",
       "                                {'rdf_type': None,\n",
       "                                 'uri': 'http://www.phenome-fppn.fr/id/data/1627603200.bdf103602f5911156ddfd3f794c4b1d8'},\n",
       "                                {'rdf_type': None,\n",
       "                                 'uri': 'http://www.phenome-fppn.fr/id/data/1627603200.a059ff78f9e3ad07722bf9fd42f7ac11'},\n",
       "                                {'rdf_type': None,\n",
       "                                 'uri': 'http://www.phenome-fppn.fr/id/data/1627603200.9022a17d1a86b906da715f091d1d4509'},\n",
       "                                {'rdf_type': None,\n",
       "                                 'uri': 'http://www.phenome-fppn.fr/id/data/1627603200.f13c98ac4e73db94d8ffeba9fbbe357c'}],\n",
       "                  'prov_was_associated_with': None,\n",
       "                  'settings': None,\n",
       "                  'uri': 'http://www.phenome-fppn.fr/id/provenance/grain_sample_pmg_prov1'},\n",
       "   'raw_data': None,\n",
       "   'target': 'http://www.phenome-fppn.fr/id/scientific-object/so-102',\n",
       "   'timezone': None,\n",
       "   'uri': None,\n",
       "   'value': 326.68,\n",
       "   'variable': 'test:id/variable/pmg1'},\n",
       "  {'_date': '2021-07-30',\n",
       "   'confidence': None,\n",
       "   'metadata': None,\n",
       "   'provenance': {'experiments': None,\n",
       "                  'prov_used': [{'rdf_type': None,\n",
       "                                 'uri': 'http://www.phenome-fppn.fr/id/data/1627603200.6ea6c494a984e1b04949a267ca9d350f'},\n",
       "                                {'rdf_type': None,\n",
       "                                 'uri': 'http://www.phenome-fppn.fr/id/data/1627603200.1a7aff5ce95a23bbe2457d5e4de55316'},\n",
       "                                {'rdf_type': None,\n",
       "                                 'uri': 'http://www.phenome-fppn.fr/id/data/1627603200.2a42cba52b97ac57f8eecc14782b296a'},\n",
       "                                {'rdf_type': None,\n",
       "                                 'uri': 'http://www.phenome-fppn.fr/id/data/1627603200.1d5bb895142df8600dfa9126d9640779'},\n",
       "                                {'rdf_type': None,\n",
       "                                 'uri': 'http://www.phenome-fppn.fr/id/data/1627603200.400a23231f6255dcff30713e98117644'},\n",
       "                                {'rdf_type': None,\n",
       "                                 'uri': 'http://www.phenome-fppn.fr/id/data/1627603200.7c2a5f88b3f775d56c3e10336f461b03'},\n",
       "                                {'rdf_type': None,\n",
       "                                 'uri': 'http://www.phenome-fppn.fr/id/data/1627603200.bdf103602f5911156ddfd3f794c4b1d8'},\n",
       "                                {'rdf_type': None,\n",
       "                                 'uri': 'http://www.phenome-fppn.fr/id/data/1627603200.a059ff78f9e3ad07722bf9fd42f7ac11'},\n",
       "                                {'rdf_type': None,\n",
       "                                 'uri': 'http://www.phenome-fppn.fr/id/data/1627603200.9022a17d1a86b906da715f091d1d4509'},\n",
       "                                {'rdf_type': None,\n",
       "                                 'uri': 'http://www.phenome-fppn.fr/id/data/1627603200.f13c98ac4e73db94d8ffeba9fbbe357c'}],\n",
       "                  'prov_was_associated_with': None,\n",
       "                  'settings': None,\n",
       "                  'uri': 'http://www.phenome-fppn.fr/id/provenance/grain_sample_pmg_prov1'},\n",
       "   'raw_data': None,\n",
       "   'target': 'http://www.phenome-fppn.fr/id/scientific-object/so-262',\n",
       "   'timezone': None,\n",
       "   'uri': None,\n",
       "   'value': 285.4,\n",
       "   'variable': 'test:id/variable/pmg1'},\n",
       "  {'_date': '2021-07-30',\n",
       "   'confidence': None,\n",
       "   'metadata': None,\n",
       "   'provenance': {'experiments': None,\n",
       "                  'prov_used': [{'rdf_type': None,\n",
       "                                 'uri': 'http://www.phenome-fppn.fr/id/data/1627603200.6ea6c494a984e1b04949a267ca9d350f'},\n",
       "                                {'rdf_type': None,\n",
       "                                 'uri': 'http://www.phenome-fppn.fr/id/data/1627603200.1a7aff5ce95a23bbe2457d5e4de55316'},\n",
       "                                {'rdf_type': None,\n",
       "                                 'uri': 'http://www.phenome-fppn.fr/id/data/1627603200.2a42cba52b97ac57f8eecc14782b296a'},\n",
       "                                {'rdf_type': None,\n",
       "                                 'uri': 'http://www.phenome-fppn.fr/id/data/1627603200.1d5bb895142df8600dfa9126d9640779'},\n",
       "                                {'rdf_type': None,\n",
       "                                 'uri': 'http://www.phenome-fppn.fr/id/data/1627603200.400a23231f6255dcff30713e98117644'},\n",
       "                                {'rdf_type': None,\n",
       "                                 'uri': 'http://www.phenome-fppn.fr/id/data/1627603200.7c2a5f88b3f775d56c3e10336f461b03'},\n",
       "                                {'rdf_type': None,\n",
       "                                 'uri': 'http://www.phenome-fppn.fr/id/data/1627603200.bdf103602f5911156ddfd3f794c4b1d8'},\n",
       "                                {'rdf_type': None,\n",
       "                                 'uri': 'http://www.phenome-fppn.fr/id/data/1627603200.a059ff78f9e3ad07722bf9fd42f7ac11'},\n",
       "                                {'rdf_type': None,\n",
       "                                 'uri': 'http://www.phenome-fppn.fr/id/data/1627603200.9022a17d1a86b906da715f091d1d4509'},\n",
       "                                {'rdf_type': None,\n",
       "                                 'uri': 'http://www.phenome-fppn.fr/id/data/1627603200.f13c98ac4e73db94d8ffeba9fbbe357c'}],\n",
       "                  'prov_was_associated_with': None,\n",
       "                  'settings': None,\n",
       "                  'uri': 'http://www.phenome-fppn.fr/id/provenance/grain_sample_pmg_prov1'},\n",
       "   'raw_data': None,\n",
       "   'target': 'http://www.phenome-fppn.fr/id/scientific-object/so-422',\n",
       "   'timezone': None,\n",
       "   'uri': None,\n",
       "   'value': 306.56,\n",
       "   'variable': 'test:id/variable/pmg1'},\n",
       "  {'_date': '2021-07-30',\n",
       "   'confidence': None,\n",
       "   'metadata': None,\n",
       "   'provenance': {'experiments': None,\n",
       "                  'prov_used': [{'rdf_type': None,\n",
       "                                 'uri': 'http://www.phenome-fppn.fr/id/data/1627603200.6ea6c494a984e1b04949a267ca9d350f'},\n",
       "                                {'rdf_type': None,\n",
       "                                 'uri': 'http://www.phenome-fppn.fr/id/data/1627603200.1a7aff5ce95a23bbe2457d5e4de55316'},\n",
       "                                {'rdf_type': None,\n",
       "                                 'uri': 'http://www.phenome-fppn.fr/id/data/1627603200.2a42cba52b97ac57f8eecc14782b296a'},\n",
       "                                {'rdf_type': None,\n",
       "                                 'uri': 'http://www.phenome-fppn.fr/id/data/1627603200.1d5bb895142df8600dfa9126d9640779'},\n",
       "                                {'rdf_type': None,\n",
       "                                 'uri': 'http://www.phenome-fppn.fr/id/data/1627603200.400a23231f6255dcff30713e98117644'},\n",
       "                                {'rdf_type': None,\n",
       "                                 'uri': 'http://www.phenome-fppn.fr/id/data/1627603200.7c2a5f88b3f775d56c3e10336f461b03'},\n",
       "                                {'rdf_type': None,\n",
       "                                 'uri': 'http://www.phenome-fppn.fr/id/data/1627603200.bdf103602f5911156ddfd3f794c4b1d8'},\n",
       "                                {'rdf_type': None,\n",
       "                                 'uri': 'http://www.phenome-fppn.fr/id/data/1627603200.a059ff78f9e3ad07722bf9fd42f7ac11'},\n",
       "                                {'rdf_type': None,\n",
       "                                 'uri': 'http://www.phenome-fppn.fr/id/data/1627603200.9022a17d1a86b906da715f091d1d4509'},\n",
       "                                {'rdf_type': None,\n",
       "                                 'uri': 'http://www.phenome-fppn.fr/id/data/1627603200.f13c98ac4e73db94d8ffeba9fbbe357c'}],\n",
       "                  'prov_was_associated_with': None,\n",
       "                  'settings': None,\n",
       "                  'uri': 'http://www.phenome-fppn.fr/id/provenance/grain_sample_pmg_prov1'},\n",
       "   'raw_data': None,\n",
       "   'target': 'http://www.phenome-fppn.fr/id/scientific-object/so-581',\n",
       "   'timezone': None,\n",
       "   'uri': None,\n",
       "   'value': 273.72,\n",
       "   'variable': 'test:id/variable/pmg1'},\n",
       "  {'_date': '2021-07-30',\n",
       "   'confidence': None,\n",
       "   'metadata': None,\n",
       "   'provenance': {'experiments': None,\n",
       "                  'prov_used': [{'rdf_type': None,\n",
       "                                 'uri': 'http://www.phenome-fppn.fr/id/data/1627603200.6ea6c494a984e1b04949a267ca9d350f'},\n",
       "                                {'rdf_type': None,\n",
       "                                 'uri': 'http://www.phenome-fppn.fr/id/data/1627603200.1a7aff5ce95a23bbe2457d5e4de55316'},\n",
       "                                {'rdf_type': None,\n",
       "                                 'uri': 'http://www.phenome-fppn.fr/id/data/1627603200.2a42cba52b97ac57f8eecc14782b296a'},\n",
       "                                {'rdf_type': None,\n",
       "                                 'uri': 'http://www.phenome-fppn.fr/id/data/1627603200.1d5bb895142df8600dfa9126d9640779'},\n",
       "                                {'rdf_type': None,\n",
       "                                 'uri': 'http://www.phenome-fppn.fr/id/data/1627603200.400a23231f6255dcff30713e98117644'},\n",
       "                                {'rdf_type': None,\n",
       "                                 'uri': 'http://www.phenome-fppn.fr/id/data/1627603200.7c2a5f88b3f775d56c3e10336f461b03'},\n",
       "                                {'rdf_type': None,\n",
       "                                 'uri': 'http://www.phenome-fppn.fr/id/data/1627603200.bdf103602f5911156ddfd3f794c4b1d8'},\n",
       "                                {'rdf_type': None,\n",
       "                                 'uri': 'http://www.phenome-fppn.fr/id/data/1627603200.a059ff78f9e3ad07722bf9fd42f7ac11'},\n",
       "                                {'rdf_type': None,\n",
       "                                 'uri': 'http://www.phenome-fppn.fr/id/data/1627603200.9022a17d1a86b906da715f091d1d4509'},\n",
       "                                {'rdf_type': None,\n",
       "                                 'uri': 'http://www.phenome-fppn.fr/id/data/1627603200.f13c98ac4e73db94d8ffeba9fbbe357c'}],\n",
       "                  'prov_was_associated_with': None,\n",
       "                  'settings': None,\n",
       "                  'uri': 'http://www.phenome-fppn.fr/id/provenance/grain_sample_pmg_prov1'},\n",
       "   'raw_data': None,\n",
       "   'target': 'http://www.phenome-fppn.fr/id/scientific-object/so-741',\n",
       "   'timezone': None,\n",
       "   'uri': None,\n",
       "   'value': 352.4,\n",
       "   'variable': 'test:id/variable/pmg1'}],\n",
       " [{'_date': '2021-07-30',\n",
       "   'confidence': None,\n",
       "   'metadata': None,\n",
       "   'provenance': {'experiments': None,\n",
       "                  'prov_used': [{'rdf_type': None,\n",
       "                                 'uri': 'http://www.phenome-fppn.fr/id/data/1627603200.0b490725002ad520ee2a553ae66b8fbd'},\n",
       "                                {'rdf_type': None,\n",
       "                                 'uri': 'http://www.phenome-fppn.fr/id/data/1627603200.8ca6109c02f2640f52d0238066c2a59f'},\n",
       "                                {'rdf_type': None,\n",
       "                                 'uri': 'http://www.phenome-fppn.fr/id/data/1627603200.f4ae0d950e3051f0a3410e937749260b'},\n",
       "                                {'rdf_type': None,\n",
       "                                 'uri': 'http://www.phenome-fppn.fr/id/data/1627603200.84c3854acf2810358f5d96a347acb187'},\n",
       "                                {'rdf_type': None,\n",
       "                                 'uri': 'http://www.phenome-fppn.fr/id/data/1627603200.b525b900f3b7d3f295f4077be54803e9'},\n",
       "                                {'rdf_type': None,\n",
       "                                 'uri': 'http://www.phenome-fppn.fr/id/data/1627603200.6ea6c494a984e1b04949a267ca9d350f'},\n",
       "                                {'rdf_type': None,\n",
       "                                 'uri': 'http://www.phenome-fppn.fr/id/data/1627603200.1a7aff5ce95a23bbe2457d5e4de55316'},\n",
       "                                {'rdf_type': None,\n",
       "                                 'uri': 'http://www.phenome-fppn.fr/id/data/1627603200.2a42cba52b97ac57f8eecc14782b296a'},\n",
       "                                {'rdf_type': None,\n",
       "                                 'uri': 'http://www.phenome-fppn.fr/id/data/1627603200.1d5bb895142df8600dfa9126d9640779'},\n",
       "                                {'rdf_type': None,\n",
       "                                 'uri': 'http://www.phenome-fppn.fr/id/data/1627603200.400a23231f6255dcff30713e98117644'},\n",
       "                                {'rdf_type': None,\n",
       "                                 'uri': 'http://www.phenome-fppn.fr/id/data/1627603200.7c2a5f88b3f775d56c3e10336f461b03'},\n",
       "                                {'rdf_type': None,\n",
       "                                 'uri': 'http://www.phenome-fppn.fr/id/data/1627603200.bdf103602f5911156ddfd3f794c4b1d8'},\n",
       "                                {'rdf_type': None,\n",
       "                                 'uri': 'http://www.phenome-fppn.fr/id/data/1627603200.a059ff78f9e3ad07722bf9fd42f7ac11'},\n",
       "                                {'rdf_type': None,\n",
       "                                 'uri': 'http://www.phenome-fppn.fr/id/data/1627603200.9022a17d1a86b906da715f091d1d4509'},\n",
       "                                {'rdf_type': None,\n",
       "                                 'uri': 'http://www.phenome-fppn.fr/id/data/1627603200.f13c98ac4e73db94d8ffeba9fbbe357c'}],\n",
       "                  'prov_was_associated_with': None,\n",
       "                  'settings': None,\n",
       "                  'uri': 'http://www.phenome-fppn.fr/id/provenance/grain_sample_pmg15_prov1'},\n",
       "   'raw_data': None,\n",
       "   'target': 'http://www.phenome-fppn.fr/id/scientific-object/so-102',\n",
       "   'timezone': None,\n",
       "   'uri': None,\n",
       "   'value': 303.6202353,\n",
       "   'variable': 'test:id/variable/pmg151'},\n",
       "  {'_date': '2021-07-30',\n",
       "   'confidence': None,\n",
       "   'metadata': None,\n",
       "   'provenance': {'experiments': None,\n",
       "                  'prov_used': [{'rdf_type': None,\n",
       "                                 'uri': 'http://www.phenome-fppn.fr/id/data/1627603200.0b490725002ad520ee2a553ae66b8fbd'},\n",
       "                                {'rdf_type': None,\n",
       "                                 'uri': 'http://www.phenome-fppn.fr/id/data/1627603200.8ca6109c02f2640f52d0238066c2a59f'},\n",
       "                                {'rdf_type': None,\n",
       "                                 'uri': 'http://www.phenome-fppn.fr/id/data/1627603200.f4ae0d950e3051f0a3410e937749260b'},\n",
       "                                {'rdf_type': None,\n",
       "                                 'uri': 'http://www.phenome-fppn.fr/id/data/1627603200.84c3854acf2810358f5d96a347acb187'},\n",
       "                                {'rdf_type': None,\n",
       "                                 'uri': 'http://www.phenome-fppn.fr/id/data/1627603200.b525b900f3b7d3f295f4077be54803e9'},\n",
       "                                {'rdf_type': None,\n",
       "                                 'uri': 'http://www.phenome-fppn.fr/id/data/1627603200.6ea6c494a984e1b04949a267ca9d350f'},\n",
       "                                {'rdf_type': None,\n",
       "                                 'uri': 'http://www.phenome-fppn.fr/id/data/1627603200.1a7aff5ce95a23bbe2457d5e4de55316'},\n",
       "                                {'rdf_type': None,\n",
       "                                 'uri': 'http://www.phenome-fppn.fr/id/data/1627603200.2a42cba52b97ac57f8eecc14782b296a'},\n",
       "                                {'rdf_type': None,\n",
       "                                 'uri': 'http://www.phenome-fppn.fr/id/data/1627603200.1d5bb895142df8600dfa9126d9640779'},\n",
       "                                {'rdf_type': None,\n",
       "                                 'uri': 'http://www.phenome-fppn.fr/id/data/1627603200.400a23231f6255dcff30713e98117644'},\n",
       "                                {'rdf_type': None,\n",
       "                                 'uri': 'http://www.phenome-fppn.fr/id/data/1627603200.7c2a5f88b3f775d56c3e10336f461b03'},\n",
       "                                {'rdf_type': None,\n",
       "                                 'uri': 'http://www.phenome-fppn.fr/id/data/1627603200.bdf103602f5911156ddfd3f794c4b1d8'},\n",
       "                                {'rdf_type': None,\n",
       "                                 'uri': 'http://www.phenome-fppn.fr/id/data/1627603200.a059ff78f9e3ad07722bf9fd42f7ac11'},\n",
       "                                {'rdf_type': None,\n",
       "                                 'uri': 'http://www.phenome-fppn.fr/id/data/1627603200.9022a17d1a86b906da715f091d1d4509'},\n",
       "                                {'rdf_type': None,\n",
       "                                 'uri': 'http://www.phenome-fppn.fr/id/data/1627603200.f13c98ac4e73db94d8ffeba9fbbe357c'}],\n",
       "                  'prov_was_associated_with': None,\n",
       "                  'settings': None,\n",
       "                  'uri': 'http://www.phenome-fppn.fr/id/provenance/grain_sample_pmg15_prov1'},\n",
       "   'raw_data': None,\n",
       "   'target': 'http://www.phenome-fppn.fr/id/scientific-object/so-262',\n",
       "   'timezone': None,\n",
       "   'uri': None,\n",
       "   'value': 275.9985882,\n",
       "   'variable': 'test:id/variable/pmg151'},\n",
       "  {'_date': '2021-07-30',\n",
       "   'confidence': None,\n",
       "   'metadata': None,\n",
       "   'provenance': {'experiments': None,\n",
       "                  'prov_used': [{'rdf_type': None,\n",
       "                                 'uri': 'http://www.phenome-fppn.fr/id/data/1627603200.0b490725002ad520ee2a553ae66b8fbd'},\n",
       "                                {'rdf_type': None,\n",
       "                                 'uri': 'http://www.phenome-fppn.fr/id/data/1627603200.8ca6109c02f2640f52d0238066c2a59f'},\n",
       "                                {'rdf_type': None,\n",
       "                                 'uri': 'http://www.phenome-fppn.fr/id/data/1627603200.f4ae0d950e3051f0a3410e937749260b'},\n",
       "                                {'rdf_type': None,\n",
       "                                 'uri': 'http://www.phenome-fppn.fr/id/data/1627603200.84c3854acf2810358f5d96a347acb187'},\n",
       "                                {'rdf_type': None,\n",
       "                                 'uri': 'http://www.phenome-fppn.fr/id/data/1627603200.b525b900f3b7d3f295f4077be54803e9'},\n",
       "                                {'rdf_type': None,\n",
       "                                 'uri': 'http://www.phenome-fppn.fr/id/data/1627603200.6ea6c494a984e1b04949a267ca9d350f'},\n",
       "                                {'rdf_type': None,\n",
       "                                 'uri': 'http://www.phenome-fppn.fr/id/data/1627603200.1a7aff5ce95a23bbe2457d5e4de55316'},\n",
       "                                {'rdf_type': None,\n",
       "                                 'uri': 'http://www.phenome-fppn.fr/id/data/1627603200.2a42cba52b97ac57f8eecc14782b296a'},\n",
       "                                {'rdf_type': None,\n",
       "                                 'uri': 'http://www.phenome-fppn.fr/id/data/1627603200.1d5bb895142df8600dfa9126d9640779'},\n",
       "                                {'rdf_type': None,\n",
       "                                 'uri': 'http://www.phenome-fppn.fr/id/data/1627603200.400a23231f6255dcff30713e98117644'},\n",
       "                                {'rdf_type': None,\n",
       "                                 'uri': 'http://www.phenome-fppn.fr/id/data/1627603200.7c2a5f88b3f775d56c3e10336f461b03'},\n",
       "                                {'rdf_type': None,\n",
       "                                 'uri': 'http://www.phenome-fppn.fr/id/data/1627603200.bdf103602f5911156ddfd3f794c4b1d8'},\n",
       "                                {'rdf_type': None,\n",
       "                                 'uri': 'http://www.phenome-fppn.fr/id/data/1627603200.a059ff78f9e3ad07722bf9fd42f7ac11'},\n",
       "                                {'rdf_type': None,\n",
       "                                 'uri': 'http://www.phenome-fppn.fr/id/data/1627603200.9022a17d1a86b906da715f091d1d4509'},\n",
       "                                {'rdf_type': None,\n",
       "                                 'uri': 'http://www.phenome-fppn.fr/id/data/1627603200.f13c98ac4e73db94d8ffeba9fbbe357c'}],\n",
       "                  'prov_was_associated_with': None,\n",
       "                  'settings': None,\n",
       "                  'uri': 'http://www.phenome-fppn.fr/id/provenance/grain_sample_pmg15_prov1'},\n",
       "   'raw_data': None,\n",
       "   'target': 'http://www.phenome-fppn.fr/id/scientific-object/so-422',\n",
       "   'timezone': None,\n",
       "   'uri': None,\n",
       "   'value': 285.2811294,\n",
       "   'variable': 'test:id/variable/pmg151'},\n",
       "  {'_date': '2021-07-30',\n",
       "   'confidence': None,\n",
       "   'metadata': None,\n",
       "   'provenance': {'experiments': None,\n",
       "                  'prov_used': [{'rdf_type': None,\n",
       "                                 'uri': 'http://www.phenome-fppn.fr/id/data/1627603200.0b490725002ad520ee2a553ae66b8fbd'},\n",
       "                                {'rdf_type': None,\n",
       "                                 'uri': 'http://www.phenome-fppn.fr/id/data/1627603200.8ca6109c02f2640f52d0238066c2a59f'},\n",
       "                                {'rdf_type': None,\n",
       "                                 'uri': 'http://www.phenome-fppn.fr/id/data/1627603200.f4ae0d950e3051f0a3410e937749260b'},\n",
       "                                {'rdf_type': None,\n",
       "                                 'uri': 'http://www.phenome-fppn.fr/id/data/1627603200.84c3854acf2810358f5d96a347acb187'},\n",
       "                                {'rdf_type': None,\n",
       "                                 'uri': 'http://www.phenome-fppn.fr/id/data/1627603200.b525b900f3b7d3f295f4077be54803e9'},\n",
       "                                {'rdf_type': None,\n",
       "                                 'uri': 'http://www.phenome-fppn.fr/id/data/1627603200.6ea6c494a984e1b04949a267ca9d350f'},\n",
       "                                {'rdf_type': None,\n",
       "                                 'uri': 'http://www.phenome-fppn.fr/id/data/1627603200.1a7aff5ce95a23bbe2457d5e4de55316'},\n",
       "                                {'rdf_type': None,\n",
       "                                 'uri': 'http://www.phenome-fppn.fr/id/data/1627603200.2a42cba52b97ac57f8eecc14782b296a'},\n",
       "                                {'rdf_type': None,\n",
       "                                 'uri': 'http://www.phenome-fppn.fr/id/data/1627603200.1d5bb895142df8600dfa9126d9640779'},\n",
       "                                {'rdf_type': None,\n",
       "                                 'uri': 'http://www.phenome-fppn.fr/id/data/1627603200.400a23231f6255dcff30713e98117644'},\n",
       "                                {'rdf_type': None,\n",
       "                                 'uri': 'http://www.phenome-fppn.fr/id/data/1627603200.7c2a5f88b3f775d56c3e10336f461b03'},\n",
       "                                {'rdf_type': None,\n",
       "                                 'uri': 'http://www.phenome-fppn.fr/id/data/1627603200.bdf103602f5911156ddfd3f794c4b1d8'},\n",
       "                                {'rdf_type': None,\n",
       "                                 'uri': 'http://www.phenome-fppn.fr/id/data/1627603200.a059ff78f9e3ad07722bf9fd42f7ac11'},\n",
       "                                {'rdf_type': None,\n",
       "                                 'uri': 'http://www.phenome-fppn.fr/id/data/1627603200.9022a17d1a86b906da715f091d1d4509'},\n",
       "                                {'rdf_type': None,\n",
       "                                 'uri': 'http://www.phenome-fppn.fr/id/data/1627603200.f13c98ac4e73db94d8ffeba9fbbe357c'}],\n",
       "                  'prov_was_associated_with': None,\n",
       "                  'settings': None,\n",
       "                  'uri': 'http://www.phenome-fppn.fr/id/provenance/grain_sample_pmg15_prov1'},\n",
       "   'raw_data': None,\n",
       "   'target': 'http://www.phenome-fppn.fr/id/scientific-object/so-581',\n",
       "   'timezone': None,\n",
       "   'uri': None,\n",
       "   'value': 258.5848941,\n",
       "   'variable': 'test:id/variable/pmg151'},\n",
       "  {'_date': '2021-07-30',\n",
       "   'confidence': None,\n",
       "   'metadata': None,\n",
       "   'provenance': {'experiments': None,\n",
       "                  'prov_used': [{'rdf_type': None,\n",
       "                                 'uri': 'http://www.phenome-fppn.fr/id/data/1627603200.0b490725002ad520ee2a553ae66b8fbd'},\n",
       "                                {'rdf_type': None,\n",
       "                                 'uri': 'http://www.phenome-fppn.fr/id/data/1627603200.8ca6109c02f2640f52d0238066c2a59f'},\n",
       "                                {'rdf_type': None,\n",
       "                                 'uri': 'http://www.phenome-fppn.fr/id/data/1627603200.f4ae0d950e3051f0a3410e937749260b'},\n",
       "                                {'rdf_type': None,\n",
       "                                 'uri': 'http://www.phenome-fppn.fr/id/data/1627603200.84c3854acf2810358f5d96a347acb187'},\n",
       "                                {'rdf_type': None,\n",
       "                                 'uri': 'http://www.phenome-fppn.fr/id/data/1627603200.b525b900f3b7d3f295f4077be54803e9'},\n",
       "                                {'rdf_type': None,\n",
       "                                 'uri': 'http://www.phenome-fppn.fr/id/data/1627603200.6ea6c494a984e1b04949a267ca9d350f'},\n",
       "                                {'rdf_type': None,\n",
       "                                 'uri': 'http://www.phenome-fppn.fr/id/data/1627603200.1a7aff5ce95a23bbe2457d5e4de55316'},\n",
       "                                {'rdf_type': None,\n",
       "                                 'uri': 'http://www.phenome-fppn.fr/id/data/1627603200.2a42cba52b97ac57f8eecc14782b296a'},\n",
       "                                {'rdf_type': None,\n",
       "                                 'uri': 'http://www.phenome-fppn.fr/id/data/1627603200.1d5bb895142df8600dfa9126d9640779'},\n",
       "                                {'rdf_type': None,\n",
       "                                 'uri': 'http://www.phenome-fppn.fr/id/data/1627603200.400a23231f6255dcff30713e98117644'},\n",
       "                                {'rdf_type': None,\n",
       "                                 'uri': 'http://www.phenome-fppn.fr/id/data/1627603200.7c2a5f88b3f775d56c3e10336f461b03'},\n",
       "                                {'rdf_type': None,\n",
       "                                 'uri': 'http://www.phenome-fppn.fr/id/data/1627603200.bdf103602f5911156ddfd3f794c4b1d8'},\n",
       "                                {'rdf_type': None,\n",
       "                                 'uri': 'http://www.phenome-fppn.fr/id/data/1627603200.a059ff78f9e3ad07722bf9fd42f7ac11'},\n",
       "                                {'rdf_type': None,\n",
       "                                 'uri': 'http://www.phenome-fppn.fr/id/data/1627603200.9022a17d1a86b906da715f091d1d4509'},\n",
       "                                {'rdf_type': None,\n",
       "                                 'uri': 'http://www.phenome-fppn.fr/id/data/1627603200.f13c98ac4e73db94d8ffeba9fbbe357c'}],\n",
       "                  'prov_was_associated_with': None,\n",
       "                  'settings': None,\n",
       "                  'uri': 'http://www.phenome-fppn.fr/id/provenance/grain_sample_pmg15_prov1'},\n",
       "   'raw_data': None,\n",
       "   'target': 'http://www.phenome-fppn.fr/id/scientific-object/so-741',\n",
       "   'timezone': None,\n",
       "   'uri': None,\n",
       "   'value': 333.3289412,\n",
       "   'variable': 'test:id/variable/pmg151'}]]"
      ]
     },
     "execution_count": 69,
     "metadata": {},
     "output_type": "execute_result"
    }
   ],
   "source": [
    "dc_dto = oCTP.DataCreationDTO\n",
    "pem = oCTP.ProvEntityModel\n",
    "pems = [\n",
    "    [\n",
    "        pem(res_data_three[y][\"result\"][x])\n",
    "        for x in range(0, n)\n",
    "    ]\n",
    "    for y in range(0, 3)\n",
    "]\n",
    "bodies = [\n",
    "    [\n",
    "        dc_dto(_date=\"2021-07-30\",\n",
    "           variable=var_uris[y],\n",
    "           value=float(df[vars_kept[y]][x]),\n",
    "           target=so_uris[x],\n",
    "           provenance=dpm(uri=prov_uris[y], prov_used=pems[1] + pems[2]))\n",
    "        if y == 3\n",
    "        else\n",
    "        dc_dto(_date=\"2021-07-30\",\n",
    "           variable=var_uris[y],\n",
    "           value=float(df[vars_kept[y]][x]),\n",
    "           target=so_uris[x],\n",
    "           provenance=dpm(uri=prov_uris[y], prov_used=pems[0] + pems[1] + pems[2]))\n",
    "        for x in range(0, n)\n",
    "    ]\n",
    "    for y in range(3, len(vars_kept))\n",
    "]\n",
    "bodies"
   ]
  },
  {
   "cell_type": "markdown",
   "metadata": {},
   "source": [
    "Length should be 2 Variables * 5"
   ]
  },
  {
   "cell_type": "code",
   "execution_count": 70,
   "metadata": {},
   "outputs": [
    {
     "name": "stdout",
     "output_type": "stream",
     "text": [
      "2 5\n"
     ]
    }
   ],
   "source": [
    "print(len(bodies), len(bodies[0]))"
   ]
  },
  {
   "cell_type": "code",
   "execution_count": 71,
   "metadata": {
    "tags": []
   },
   "outputs": [],
   "source": [
    "res_data_two = [\n",
    "    data_api_instance.add_list_data(body=bodies[x])\n",
    "    for x in range(0, 2)\n",
    "]"
   ]
  },
  {
   "cell_type": "code",
   "execution_count": 72,
   "metadata": {
    "tags": []
   },
   "outputs": [
    {
     "data": {
      "text/plain": [
       "[{'result': ['http://www.phenome-fppn.fr/id/data/1627603200.ff5bfb907db45ae04ca27a5bbf686235',\n",
       "   'http://www.phenome-fppn.fr/id/data/1627603200.57221c359556cd8ce5f1b1e5c30b5105',\n",
       "   'http://www.phenome-fppn.fr/id/data/1627603200.1ce4f81ed2f5f3ce2e89675e8ae5cc46',\n",
       "   'http://www.phenome-fppn.fr/id/data/1627603200.4864874434934f49db620bc55275b424',\n",
       "   'http://www.phenome-fppn.fr/id/data/1627603200.6fc202acbe7e8a5bc2cc60e5137518c4'],\n",
       "  'metadata': {'pagination': {'pageSize': 0,\n",
       "    'currentPage': 0,\n",
       "    'totalCount': 0,\n",
       "    'totalPages': 0},\n",
       "   'status': [],\n",
       "   'datafiles': ['http://www.phenome-fppn.fr/id/data/1627603200.ff5bfb907db45ae04ca27a5bbf686235',\n",
       "    'http://www.phenome-fppn.fr/id/data/1627603200.57221c359556cd8ce5f1b1e5c30b5105',\n",
       "    'http://www.phenome-fppn.fr/id/data/1627603200.1ce4f81ed2f5f3ce2e89675e8ae5cc46',\n",
       "    'http://www.phenome-fppn.fr/id/data/1627603200.4864874434934f49db620bc55275b424',\n",
       "    'http://www.phenome-fppn.fr/id/data/1627603200.6fc202acbe7e8a5bc2cc60e5137518c4']}},\n",
       " {'result': ['http://www.phenome-fppn.fr/id/data/1627603200.f733336f7635989e17a6b0c0882f4939',\n",
       "   'http://www.phenome-fppn.fr/id/data/1627603200.455b060e1cdcbbe87594295c7a8d4bdd',\n",
       "   'http://www.phenome-fppn.fr/id/data/1627603200.7656c1ab65cc7691cf9bfcf8eef5b10c',\n",
       "   'http://www.phenome-fppn.fr/id/data/1627603200.2ae73a60a089f20b90c1f7777b6f0719',\n",
       "   'http://www.phenome-fppn.fr/id/data/1627603200.7ec51c801f88e5983389b812375595ce'],\n",
       "  'metadata': {'pagination': {'pageSize': 0,\n",
       "    'currentPage': 0,\n",
       "    'totalCount': 0,\n",
       "    'totalPages': 0},\n",
       "   'status': [],\n",
       "   'datafiles': ['http://www.phenome-fppn.fr/id/data/1627603200.f733336f7635989e17a6b0c0882f4939',\n",
       "    'http://www.phenome-fppn.fr/id/data/1627603200.455b060e1cdcbbe87594295c7a8d4bdd',\n",
       "    'http://www.phenome-fppn.fr/id/data/1627603200.7656c1ab65cc7691cf9bfcf8eef5b10c',\n",
       "    'http://www.phenome-fppn.fr/id/data/1627603200.2ae73a60a089f20b90c1f7777b6f0719',\n",
       "    'http://www.phenome-fppn.fr/id/data/1627603200.7ec51c801f88e5983389b812375595ce']}}]"
      ]
     },
     "execution_count": 72,
     "metadata": {},
     "output_type": "execute_result"
    }
   ],
   "source": [
    "res_data_two"
   ]
  },
  {
   "cell_type": "markdown",
   "metadata": {},
   "source": [
    "Checking the result on one entry"
   ]
  },
  {
   "cell_type": "code",
   "execution_count": 73,
   "metadata": {},
   "outputs": [
    {
     "data": {
      "text/plain": [
       "{'result': {'_date': '2021-07-30',\n",
       "  'confidence': None,\n",
       "  'metadata': None,\n",
       "  'provenance': {'experiments': None,\n",
       "                 'prov_used': [{'rdf_type': None,\n",
       "                                'uri': 'test:id/data/1627603200.0b490725002ad520ee2a553ae66b8fbd'},\n",
       "                               {'rdf_type': None,\n",
       "                                'uri': 'test:id/data/1627603200.8ca6109c02f2640f52d0238066c2a59f'},\n",
       "                               {'rdf_type': None,\n",
       "                                'uri': 'test:id/data/1627603200.f4ae0d950e3051f0a3410e937749260b'},\n",
       "                               {'rdf_type': None,\n",
       "                                'uri': 'test:id/data/1627603200.84c3854acf2810358f5d96a347acb187'},\n",
       "                               {'rdf_type': None,\n",
       "                                'uri': 'test:id/data/1627603200.b525b900f3b7d3f295f4077be54803e9'},\n",
       "                               {'rdf_type': None,\n",
       "                                'uri': 'test:id/data/1627603200.6ea6c494a984e1b04949a267ca9d350f'},\n",
       "                               {'rdf_type': None,\n",
       "                                'uri': 'test:id/data/1627603200.1a7aff5ce95a23bbe2457d5e4de55316'},\n",
       "                               {'rdf_type': None,\n",
       "                                'uri': 'test:id/data/1627603200.2a42cba52b97ac57f8eecc14782b296a'},\n",
       "                               {'rdf_type': None,\n",
       "                                'uri': 'test:id/data/1627603200.1d5bb895142df8600dfa9126d9640779'},\n",
       "                               {'rdf_type': None,\n",
       "                                'uri': 'test:id/data/1627603200.400a23231f6255dcff30713e98117644'},\n",
       "                               {'rdf_type': None,\n",
       "                                'uri': 'test:id/data/1627603200.7c2a5f88b3f775d56c3e10336f461b03'},\n",
       "                               {'rdf_type': None,\n",
       "                                'uri': 'test:id/data/1627603200.bdf103602f5911156ddfd3f794c4b1d8'},\n",
       "                               {'rdf_type': None,\n",
       "                                'uri': 'test:id/data/1627603200.a059ff78f9e3ad07722bf9fd42f7ac11'},\n",
       "                               {'rdf_type': None,\n",
       "                                'uri': 'test:id/data/1627603200.9022a17d1a86b906da715f091d1d4509'},\n",
       "                               {'rdf_type': None,\n",
       "                                'uri': 'test:id/data/1627603200.f13c98ac4e73db94d8ffeba9fbbe357c'}],\n",
       "                 'prov_was_associated_with': None,\n",
       "                 'settings': None,\n",
       "                 'uri': 'test:id/provenance/grain_sample_pmg15_prov1'},\n",
       "  'raw_data': None,\n",
       "  'target': 'test:id/scientific-object/so-102',\n",
       "  'uri': 'test:id/data/1627603200.f733336f7635989e17a6b0c0882f4939',\n",
       "  'value': 303.6202353,\n",
       "  'variable': 'test:id/variable/pmg151'},\n",
       " 'metadata': {'pagination': {'pageSize': 0,\n",
       "   'currentPage': 0,\n",
       "   'totalCount': 0,\n",
       "   'totalPages': 0},\n",
       "  'status': [],\n",
       "  'datafiles': []}}"
      ]
     },
     "execution_count": 73,
     "metadata": {},
     "output_type": "execute_result"
    }
   ],
   "source": [
    "data_api_instance.get_data(res_data_two[1][\"result\"][0])"
   ]
  },
  {
   "cell_type": "markdown",
   "metadata": {},
   "source": [
    "---\n",
    "#    "
   ]
  }
 ],
 "metadata": {
  "interpreter": {
   "hash": "0deacfdb0008b497b00cb5572657315a685f70749012ddb3f31028e990b08865"
  },
  "kernelspec": {
   "display_name": "Python 3.9.7 64-bit ('SunAgri': conda)",
   "name": "python3"
  },
  "language_info": {
   "codemirror_mode": {
    "name": "ipython",
    "version": 3
   },
   "file_extension": ".py",
   "mimetype": "text/x-python",
   "name": "python",
   "nbconvert_exporter": "python",
   "pygments_lexer": "ipython3",
   "version": "3.9.7"
  }
 },
 "nbformat": 4,
 "nbformat_minor": 5
}
