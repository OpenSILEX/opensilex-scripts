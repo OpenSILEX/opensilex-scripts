{
 "cells": [
  {
   "cell_type": "code",
   "execution_count": 1,
   "metadata": {},
   "outputs": [],
   "source": [
    "import xml.etree.ElementTree as Xet\n",
    "import pandas as pd\n",
    "import re"
   ]
  },
  {
   "cell_type": "code",
   "execution_count": 2,
   "metadata": {},
   "outputs": [],
   "source": [
    "prefix = \"test:\""
   ]
  },
  {
   "cell_type": "code",
   "execution_count": 3,
   "metadata": {},
   "outputs": [],
   "source": [
    "xmlparse = Xet.parse(\"./Chataignier_Bourran-PF.xml\")"
   ]
  },
  {
   "cell_type": "code",
   "execution_count": 4,
   "metadata": {},
   "outputs": [],
   "source": [
    "root = xmlparse.getroot()"
   ]
  },
  {
   "cell_type": "code",
   "execution_count": 5,
   "metadata": {},
   "outputs": [],
   "source": [
    "# TODO un peu d'opti?\n",
    "def extract(elem, d, parents, n, uri, ignore):\n",
    "    if \"{\" in elem.tag:\n",
    "        s = re.sub('{[^}]+}', '', elem.tag).lower()\n",
    "    else :\n",
    "        s = elem.tag.lower()\n",
    "        \n",
    "    if s not in d.keys():\n",
    "        d[s] = pd.DataFrame()\n",
    "    \n",
    "    newrow = {}\n",
    "\n",
    "    for k in elem.attrib.keys():\n",
    "        if \"{\" in k:\n",
    "            s2 = re.sub('{[^}]+}', '', k).lower()\n",
    "        else :\n",
    "            s2 = k.lower()\n",
    "        if s2 not in ignore:\n",
    "            newrow[s2] = elem.attrib[k]\n",
    "        \n",
    "            if \"/\" in newrow[s2]:\n",
    "                \n",
    "                l = newrow[s2].split(\" \")\n",
    "\n",
    "                for i in range(len(l)):\n",
    "                    tmp_l = l[i].split(\"/\")[1:]\n",
    "                    tmp_l = [x if any([y.isdigit() for y in x]) else x + \".0\" for x in tmp_l]\n",
    "                    tmp_l = \"/\".join(tmp_l).lower()\n",
    "                    l[i] = prefix + \"/\" + tmp_l\n",
    "                newrow[s2] = l\n",
    "\n",
    "    newrow.update(parents)\n",
    "    newrow['uri'] = uri\n",
    "\n",
    "    d[s] = d[s].append(newrow, ignore_index=True)\n",
    "\n",
    "    parents.update({s : n})\n",
    "\n",
    "    n = 0\n",
    "    t = \"\"\n",
    "    for child in elem:\n",
    "        if not any([x in child.tag.lower() for x in ignore]):\n",
    "            if child.tag.lower() != t:\n",
    "                t=child.tag.lower()\n",
    "                if \"{\" in t:\n",
    "                    t = re.sub('{[^}]+}', '', t)\n",
    "                else :\n",
    "                    t = t\n",
    "                n=0\n",
    "            s = uri + \"/@{}.{}\".format(t, n)\n",
    "            extract(child, d, parents.copy(), n, s, ignore)\n",
    "            n += 1"
   ]
  },
  {
   "cell_type": "code",
   "execution_count": 6,
   "metadata": {},
   "outputs": [],
   "source": [
    "d = {}\n",
    "n = 0\n",
    "parents = {}\n",
    "# list of tags to ignore\n",
    "ignore = [\"codeetat\", \"codesetats\", \"structuregraphique\", \"droitsacces\", \"droitutilisateurauthentifie\", \"droitutilisateurautre\"]\n",
    "for elem in root:\n",
    "    if not any([x in elem.tag.lower() for x in ignore]):\n",
    "        extract(elem, d, parents.copy(), n, prefix + \"/\" + str(n), ignore)\n",
    "        n += 1"
   ]
  },
  {
   "cell_type": "code",
   "execution_count": 7,
   "metadata": {},
   "outputs": [
    {
     "data": {
      "text/plain": [
       "dict_keys(['plateforme', 'dispositifs', 'blocs', 'parcellesunitaire', 'individus', 'protocoles', 'facteurs', 'modalites', 'traitements', 'saisie', 'sessions', 'mesurevariables', 'variables', 'echelle', 'notations', 'utilisateur', 'projetdesaisie'])"
      ]
     },
     "execution_count": 7,
     "metadata": {},
     "output_type": "execute_result"
    }
   ],
   "source": [
    "d.keys()"
   ]
  },
  {
   "cell_type": "code",
   "execution_count": 8,
   "metadata": {},
   "outputs": [
    {
     "data": {
      "text/html": [
       "<div>\n",
       "<style scoped>\n",
       "    .dataframe tbody tr th:only-of-type {\n",
       "        vertical-align: middle;\n",
       "    }\n",
       "\n",
       "    .dataframe tbody tr th {\n",
       "        vertical-align: top;\n",
       "    }\n",
       "\n",
       "    .dataframe thead th {\n",
       "        text-align: right;\n",
       "    }\n",
       "</style>\n",
       "<table border=\"1\" class=\"dataframe\">\n",
       "  <thead>\n",
       "    <tr style=\"text-align: right;\">\n",
       "      <th></th>\n",
       "      <th>combinaisons</th>\n",
       "      <th>nom</th>\n",
       "      <th>nomcourt</th>\n",
       "      <th>nbrepetitions</th>\n",
       "      <th>plateforme</th>\n",
       "      <th>dispositifs</th>\n",
       "      <th>protocoles</th>\n",
       "      <th>uri</th>\n",
       "    </tr>\n",
       "  </thead>\n",
       "  <tbody>\n",
       "    <tr>\n",
       "      <th>0</th>\n",
       "      <td>[test:/0/@dispositifs.0/@protocoles.0/@facteur...</td>\n",
       "      <td>16_1</td>\n",
       "      <td>1</td>\n",
       "      <td>1</td>\n",
       "      <td>0.0</td>\n",
       "      <td>0.0</td>\n",
       "      <td>0.0</td>\n",
       "      <td>test:/0/@dispositifs.0/@protocoles.0/@traiteme...</td>\n",
       "    </tr>\n",
       "    <tr>\n",
       "      <th>1</th>\n",
       "      <td>[test:/0/@dispositifs.0/@protocoles.0/@facteur...</td>\n",
       "      <td>1000</td>\n",
       "      <td>2</td>\n",
       "      <td>232</td>\n",
       "      <td>0.0</td>\n",
       "      <td>0.0</td>\n",
       "      <td>0.0</td>\n",
       "      <td>test:/0/@dispositifs.0/@protocoles.0/@traiteme...</td>\n",
       "    </tr>\n",
       "    <tr>\n",
       "      <th>2</th>\n",
       "      <td>[test:/0/@dispositifs.0/@protocoles.0/@facteur...</td>\n",
       "      <td>36_1</td>\n",
       "      <td>3</td>\n",
       "      <td>1</td>\n",
       "      <td>0.0</td>\n",
       "      <td>0.0</td>\n",
       "      <td>0.0</td>\n",
       "      <td>test:/0/@dispositifs.0/@protocoles.0/@traiteme...</td>\n",
       "    </tr>\n",
       "    <tr>\n",
       "      <th>3</th>\n",
       "      <td>[test:/0/@dispositifs.0/@protocoles.0/@facteur...</td>\n",
       "      <td>27_1</td>\n",
       "      <td>4</td>\n",
       "      <td>1</td>\n",
       "      <td>0.0</td>\n",
       "      <td>0.0</td>\n",
       "      <td>0.0</td>\n",
       "      <td>test:/0/@dispositifs.0/@protocoles.0/@traiteme...</td>\n",
       "    </tr>\n",
       "    <tr>\n",
       "      <th>4</th>\n",
       "      <td>[test:/0/@dispositifs.0/@protocoles.0/@facteur...</td>\n",
       "      <td>13_1</td>\n",
       "      <td>5</td>\n",
       "      <td>1</td>\n",
       "      <td>0.0</td>\n",
       "      <td>0.0</td>\n",
       "      <td>0.0</td>\n",
       "      <td>test:/0/@dispositifs.0/@protocoles.0/@traiteme...</td>\n",
       "    </tr>\n",
       "    <tr>\n",
       "      <th>...</th>\n",
       "      <td>...</td>\n",
       "      <td>...</td>\n",
       "      <td>...</td>\n",
       "      <td>...</td>\n",
       "      <td>...</td>\n",
       "      <td>...</td>\n",
       "      <td>...</td>\n",
       "      <td>...</td>\n",
       "    </tr>\n",
       "    <tr>\n",
       "      <th>654</th>\n",
       "      <td>[test:/0/@dispositifs.0/@protocoles.0/@facteur...</td>\n",
       "      <td>8_7</td>\n",
       "      <td>655</td>\n",
       "      <td>1</td>\n",
       "      <td>0.0</td>\n",
       "      <td>0.0</td>\n",
       "      <td>0.0</td>\n",
       "      <td>test:/0/@dispositifs.0/@protocoles.0/@traiteme...</td>\n",
       "    </tr>\n",
       "    <tr>\n",
       "      <th>655</th>\n",
       "      <td>[test:/0/@dispositifs.0/@protocoles.0/@facteur...</td>\n",
       "      <td>11_31</td>\n",
       "      <td>656</td>\n",
       "      <td>1</td>\n",
       "      <td>0.0</td>\n",
       "      <td>0.0</td>\n",
       "      <td>0.0</td>\n",
       "      <td>test:/0/@dispositifs.0/@protocoles.0/@traiteme...</td>\n",
       "    </tr>\n",
       "    <tr>\n",
       "      <th>656</th>\n",
       "      <td>[test:/0/@dispositifs.0/@protocoles.0/@facteur...</td>\n",
       "      <td>13_102</td>\n",
       "      <td>657</td>\n",
       "      <td>1</td>\n",
       "      <td>0.0</td>\n",
       "      <td>0.0</td>\n",
       "      <td>0.0</td>\n",
       "      <td>test:/0/@dispositifs.0/@protocoles.0/@traiteme...</td>\n",
       "    </tr>\n",
       "    <tr>\n",
       "      <th>657</th>\n",
       "      <td>[test:/0/@dispositifs.0/@protocoles.0/@facteur...</td>\n",
       "      <td>4_40</td>\n",
       "      <td>658</td>\n",
       "      <td>1</td>\n",
       "      <td>0.0</td>\n",
       "      <td>0.0</td>\n",
       "      <td>0.0</td>\n",
       "      <td>test:/0/@dispositifs.0/@protocoles.0/@traiteme...</td>\n",
       "    </tr>\n",
       "    <tr>\n",
       "      <th>658</th>\n",
       "      <td>[test:/0/@dispositifs.0/@protocoles.0/@facteur...</td>\n",
       "      <td>14_105</td>\n",
       "      <td>659</td>\n",
       "      <td>1</td>\n",
       "      <td>0.0</td>\n",
       "      <td>0.0</td>\n",
       "      <td>0.0</td>\n",
       "      <td>test:/0/@dispositifs.0/@protocoles.0/@traiteme...</td>\n",
       "    </tr>\n",
       "  </tbody>\n",
       "</table>\n",
       "<p>659 rows × 8 columns</p>\n",
       "</div>"
      ],
      "text/plain": [
       "                                          combinaisons     nom nomcourt  \\\n",
       "0    [test:/0/@dispositifs.0/@protocoles.0/@facteur...    16_1        1   \n",
       "1    [test:/0/@dispositifs.0/@protocoles.0/@facteur...    1000        2   \n",
       "2    [test:/0/@dispositifs.0/@protocoles.0/@facteur...    36_1        3   \n",
       "3    [test:/0/@dispositifs.0/@protocoles.0/@facteur...    27_1        4   \n",
       "4    [test:/0/@dispositifs.0/@protocoles.0/@facteur...    13_1        5   \n",
       "..                                                 ...     ...      ...   \n",
       "654  [test:/0/@dispositifs.0/@protocoles.0/@facteur...     8_7      655   \n",
       "655  [test:/0/@dispositifs.0/@protocoles.0/@facteur...   11_31      656   \n",
       "656  [test:/0/@dispositifs.0/@protocoles.0/@facteur...  13_102      657   \n",
       "657  [test:/0/@dispositifs.0/@protocoles.0/@facteur...    4_40      658   \n",
       "658  [test:/0/@dispositifs.0/@protocoles.0/@facteur...  14_105      659   \n",
       "\n",
       "    nbrepetitions  plateforme  dispositifs  protocoles  \\\n",
       "0               1         0.0          0.0         0.0   \n",
       "1             232         0.0          0.0         0.0   \n",
       "2               1         0.0          0.0         0.0   \n",
       "3               1         0.0          0.0         0.0   \n",
       "4               1         0.0          0.0         0.0   \n",
       "..            ...         ...          ...         ...   \n",
       "654             1         0.0          0.0         0.0   \n",
       "655             1         0.0          0.0         0.0   \n",
       "656             1         0.0          0.0         0.0   \n",
       "657             1         0.0          0.0         0.0   \n",
       "658             1         0.0          0.0         0.0   \n",
       "\n",
       "                                                   uri  \n",
       "0    test:/0/@dispositifs.0/@protocoles.0/@traiteme...  \n",
       "1    test:/0/@dispositifs.0/@protocoles.0/@traiteme...  \n",
       "2    test:/0/@dispositifs.0/@protocoles.0/@traiteme...  \n",
       "3    test:/0/@dispositifs.0/@protocoles.0/@traiteme...  \n",
       "4    test:/0/@dispositifs.0/@protocoles.0/@traiteme...  \n",
       "..                                                 ...  \n",
       "654  test:/0/@dispositifs.0/@protocoles.0/@traiteme...  \n",
       "655  test:/0/@dispositifs.0/@protocoles.0/@traiteme...  \n",
       "656  test:/0/@dispositifs.0/@protocoles.0/@traiteme...  \n",
       "657  test:/0/@dispositifs.0/@protocoles.0/@traiteme...  \n",
       "658  test:/0/@dispositifs.0/@protocoles.0/@traiteme...  \n",
       "\n",
       "[659 rows x 8 columns]"
      ]
     },
     "execution_count": 8,
     "metadata": {},
     "output_type": "execute_result"
    }
   ],
   "source": [
    "d['traitements']"
   ]
  },
  {
   "cell_type": "code",
   "execution_count": 9,
   "metadata": {},
   "outputs": [
    {
     "data": {
      "text/plain": [
       "'test:/0/@dispositifs.0/@protocoles.0/@facteurs.0/@modalites.0'"
      ]
     },
     "execution_count": 9,
     "metadata": {},
     "output_type": "execute_result"
    }
   ],
   "source": [
    "d['traitements'].iloc[0,0][0]"
   ]
  },
  {
   "cell_type": "code",
   "execution_count": 10,
   "metadata": {},
   "outputs": [
    {
     "data": {
      "text/plain": [
       "'test:/0/@dispositifs.0/@protocoles.0/@facteurs.0/@modalites.0'"
      ]
     },
     "execution_count": 10,
     "metadata": {},
     "output_type": "execute_result"
    }
   ],
   "source": [
    "d['modalites']['uri'].iloc[0]"
   ]
  },
  {
   "cell_type": "code",
   "execution_count": 11,
   "metadata": {},
   "outputs": [],
   "source": [
    "for k in d.keys():\n",
    "    d[k].to_csv(\"./script_out/{}_V2.csv\".format(k), index=False)"
   ]
  },
  {
   "cell_type": "markdown",
   "metadata": {},
   "source": [
    "## Check for match"
   ]
  },
  {
   "cell_type": "code",
   "execution_count": 12,
   "metadata": {},
   "outputs": [
    {
     "name": "stdout",
     "output_type": "stream",
     "text": [
      "plateforme : createur\n",
      "dispositifs : createur\n",
      "dispositifs : gestionnaires\n",
      "parcellesunitaire : traitement\n",
      "protocoles : createur\n",
      "traitements : combinaisons\n",
      "saisie : projetdesaisie\n",
      "saisie : plateforme\n",
      "sessions : experimentateur\n",
      "mesurevariables : variable\n",
      "mesurevariables : objetmetier\n",
      "projetdesaisie : createur\n",
      "projetdesaisie : plateforme\n",
      "projetdesaisie : dispositifs\n"
     ]
    }
   ],
   "source": [
    "for k in d.keys():\n",
    "    for col in d[k].columns:\n",
    "        if any(d[k][col].astype(str).str.contains(\"/\")) and col != \"uri\":\n",
    "            print(k, \":\", col)\n",
    "            for row in d[k][col]:\n",
    "                for to_match in row:\n",
    "                    categ = to_match.split(\"/\")[-1]\n",
    "                    if categ.isdigit():\n",
    "                        pass\n",
    "                    elif not (d[categ.split(\".\")[0][1:]][\"uri\"] == to_match).any():\n",
    "                        print(to_match, False)"
   ]
  },
  {
   "cell_type": "code",
   "execution_count": 13,
   "metadata": {},
   "outputs": [
    {
     "data": {
      "text/plain": [
       "dict_keys(['plateforme', 'dispositifs', 'blocs', 'parcellesunitaire', 'individus', 'protocoles', 'facteurs', 'modalites', 'traitements', 'saisie', 'sessions', 'mesurevariables', 'variables', 'echelle', 'notations', 'utilisateur', 'projetdesaisie'])"
      ]
     },
     "execution_count": 13,
     "metadata": {},
     "output_type": "execute_result"
    }
   ],
   "source": [
    "d.keys()"
   ]
  },
  {
   "cell_type": "code",
   "execution_count": 14,
   "metadata": {},
   "outputs": [
    {
     "data": {
      "text/html": [
       "<div>\n",
       "<style scoped>\n",
       "    .dataframe tbody tr th:only-of-type {\n",
       "        vertical-align: middle;\n",
       "    }\n",
       "\n",
       "    .dataframe tbody tr th {\n",
       "        vertical-align: top;\n",
       "    }\n",
       "\n",
       "    .dataframe thead th {\n",
       "        text-align: right;\n",
       "    }\n",
       "</style>\n",
       "<table border=\"1\" class=\"dataframe\">\n",
       "  <thead>\n",
       "    <tr style=\"text-align: right;\">\n",
       "      <th></th>\n",
       "      <th>numero</th>\n",
       "      <th>nom</th>\n",
       "      <th>datecreation</th>\n",
       "      <th>createur</th>\n",
       "      <th>gestionnaires</th>\n",
       "      <th>source</th>\n",
       "      <th>etat</th>\n",
       "      <th>datevalidation</th>\n",
       "      <th>plateforme</th>\n",
       "      <th>uri</th>\n",
       "    </tr>\n",
       "  </thead>\n",
       "  <tbody>\n",
       "    <tr>\n",
       "      <th>0</th>\n",
       "      <td>1</td>\n",
       "      <td>ChataignierBourran</td>\n",
       "      <td>2015-07-03T12:02:20.078+0200</td>\n",
       "      <td>[test:/4]</td>\n",
       "      <td>[test:/5, test:/2, test:/4]</td>\n",
       "      <td>essai.csv</td>\n",
       "      <td>valide</td>\n",
       "      <td>2015-07-03T12:06:17.230+0200</td>\n",
       "      <td>0.0</td>\n",
       "      <td>test:/0/@dispositifs.0</td>\n",
       "    </tr>\n",
       "  </tbody>\n",
       "</table>\n",
       "</div>"
      ],
      "text/plain": [
       "  numero                 nom                  datecreation   createur  \\\n",
       "0      1  ChataignierBourran  2015-07-03T12:02:20.078+0200  [test:/4]   \n",
       "\n",
       "                 gestionnaires     source    etat  \\\n",
       "0  [test:/5, test:/2, test:/4]  essai.csv  valide   \n",
       "\n",
       "                 datevalidation  plateforme                     uri  \n",
       "0  2015-07-03T12:06:17.230+0200         0.0  test:/0/@dispositifs.0  "
      ]
     },
     "execution_count": 14,
     "metadata": {},
     "output_type": "execute_result"
    }
   ],
   "source": [
    "d['dispositifs']"
   ]
  },
  {
   "cell_type": "code",
   "execution_count": null,
   "metadata": {},
   "outputs": [],
   "source": []
  }
 ],
 "metadata": {
  "interpreter": {
   "hash": "4274126d5a09977ab27b31797281700bd0b2435b4f709d3501564ae031ad3783"
  },
  "kernelspec": {
   "display_name": "Python 3.8.12 64-bit ('PyR': conda)",
   "name": "python3"
  },
  "language_info": {
   "codemirror_mode": {
    "name": "ipython",
    "version": 3
   },
   "file_extension": ".py",
   "mimetype": "text/x-python",
   "name": "python",
   "nbconvert_exporter": "python",
   "pygments_lexer": "ipython3",
   "version": "3.8.12"
  },
  "orig_nbformat": 4
 },
 "nbformat": 4,
 "nbformat_minor": 2
}
